{
 "cells": [
  {
   "cell_type": "code",
   "execution_count": null,
   "metadata": {},
   "outputs": [],
   "source": [
    "import _init_paths\n",
    "from scorenet import ScoreNet\n",
    "from config import *\n",
    "import numpy as np\n",
    "import coder\n",
    "import time\n",
    "import cv2\n",
    "\n",
    "img_dir = '../img/scorenet/video6_frame090.bmp'\n",
    "\n",
    "# Test\n",
    "model = ScoreNet(save_path='../model/scorenet.h5')\n",
    "model.compile()\n",
    "cap = cv2.VideoCapture(video_name)\n",
    "while cap.isOpened():\n",
    "    _, frame = cap.read()\n",
    "    is_cap_open = _\n",
    "    frame_fetch = cv2.resize(frame, (480, 270))\n",
    "    x_test = np.expand_dims(frame_fetch, axis=0)\n",
    "    _time = time.time()\n",
    "    prediction = model.test(x_test)\n",
    "    print 'time comsumption: ', time.time() - _time\n",
    "\n",
    "    # Show the test result\n",
    "    res = coder.decodeByVector(x_test[0], prediction)\n",
    "    cv2.imshow('show', res)\n"
   ]
  }
 ],
 "metadata": {
  "kernelspec": {
   "display_name": "Python 2",
   "language": "python",
   "name": "python2"
  },
  "language_info": {
   "codemirror_mode": {
    "name": "ipython",
    "version": 2
   },
   "file_extension": ".py",
   "mimetype": "text/x-python",
   "name": "python",
   "nbconvert_exporter": "python",
   "pygments_lexer": "ipython2",
   "version": "2.7.12"
  }
 },
 "nbformat": 4,
 "nbformat_minor": 2
}
