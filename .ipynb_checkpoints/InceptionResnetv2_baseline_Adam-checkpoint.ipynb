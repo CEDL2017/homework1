{
 "cells": [
  {
   "cell_type": "code",
   "execution_count": 1,
   "metadata": {
    "collapsed": true
   },
   "outputs": [],
   "source": [
    "#parameter\n",
    "epochs = 20\n",
    "batch_size = 40\n",
    "num_classes = 24\n",
    "im_row = 200\n",
    "im_col = 260\n",
    "depth = 3\n",
    "dropout_rate = 0.8"
   ]
  },
  {
   "cell_type": "code",
   "execution_count": 2,
   "metadata": {},
   "outputs": [
    {
     "name": "stderr",
     "output_type": "stream",
     "text": [
      "Using TensorFlow backend.\n"
     ]
    }
   ],
   "source": [
    "from inception_resnet_v2 import InceptionResNetV2\n",
    "from keras.layers.core import Dense, Flatten, Dropout, Activation\n",
    "from keras.layers import Input\n",
    "from keras.layers.pooling import GlobalAveragePooling2D\n",
    "from keras.optimizers import Adam\n",
    "from keras.models import Model\n",
    "from keras.layers.merge import Concatenate\n",
    "hand_model = InceptionResNetV2(include_top=False,\n",
    "                               input_shape=(im_row, im_col, depth),\n",
    "                               name = 'hand')\n",
    "hand_x = GlobalAveragePooling2D()(hand_model.output)\n",
    "\n",
    "x = Dropout(dropout_rate)(hand_x)\n",
    "x = Dense(1024, activation='relu')(hand_x)\n",
    "x = Dropout(dropout_rate)(hand_x)\n",
    "out = Dense(num_classes, activation=\"softmax\")(x)\n",
    "model = Model([hand_model.input], out)\n",
    "model.compile(loss='categorical_crossentropy',\n",
    "              optimizer='Adam',\n",
    "              metrics=['accuracy'])\n"
   ]
  },
  {
   "cell_type": "code",
   "execution_count": 3,
   "metadata": {},
   "outputs": [
    {
     "name": "stdout",
     "output_type": "stream",
     "text": [
      "Data complete!\n"
     ]
    }
   ],
   "source": [
    "\"\"\"\n",
    "X: hand images path\n",
    "y: one-hot labels\n",
    "h: head images path\n",
    "meta: place(house:0, lab:1, office:2) + hand(left:0, right:1)\n",
    "\"\"\"\n",
    "from util import *\n",
    "\n",
    "X_train, y_train, h_train, meta_train, X_val, y_val, h_val, meta_val = read_train_data_list(num_classes)\n",
    "X_test, y_test, h_test, meta_test = read_test_data_list(num_classes)\n",
    "print('Data complete!')"
   ]
  },
  {
   "cell_type": "code",
   "execution_count": 4,
   "metadata": {
    "collapsed": true
   },
   "outputs": [],
   "source": [
    "#data gen\n",
    "from keras.preprocessing.image import ImageDataGenerator\n",
    "from inception_resnet_v2 import preprocess_input\n",
    "\n",
    "datagen = ImageDataGenerator(\n",
    "    rotation_range=5,\n",
    "    width_shift_range=0.1,\n",
    "    height_shift_range=0.1,\n",
    "    zoom_range=0.1,\n",
    "    horizontal_flip=True,\n",
    "    preprocessing_function=preprocess_input)\n",
    "\n",
    "def image_augmentation(X_train, y_train, batch_size, datagen=datagen):\n",
    "    X_train, y_train = datagen.flow(X_train,\n",
    "                                    y_train,\n",
    "                                    batch_size=batch_size).next()\n",
    "\n",
    "    return X_train, y_train\n",
    "\n",
    "def data_generator(X, y, batch_size, data_augmentation=True):\n",
    "    while 1:\n",
    "        p = np.random.permutation(len(X))\n",
    "        X, y = X[p], y[p]\n",
    "        batch_index = len(X)//batch_size\n",
    "        for i in range(0, batch_index):\n",
    "            X_batch =  X[i*batch_size:(i+1)*batch_size]\n",
    "            y_batch = y[i*batch_size:(i+1)*batch_size]\n",
    "            X_batch = read_batch_data(X_batch)\n",
    "            \n",
    "            if data_augmentation:\n",
    "                X_batch, y_batch = image_augmentation(X_batch, y_batch, batch_size)\n",
    "            else:\n",
    "                X_batch = preprocess_input(X_batch)\n",
    "            yield (X_batch, y_batch)"
   ]
  },
  {
   "cell_type": "code",
   "execution_count": 5,
   "metadata": {},
   "outputs": [
    {
     "name": "stdout",
     "output_type": "stream",
     "text": [
      "Epoch 1/20\n",
      "298/299 [============================>.] - ETA: 1s - loss: 1.0140 - acc: 0.7040Epoch 00000: val_loss improved from inf to 0.84387, saving model to model\n",
      "299/299 [==============================] - 505s - loss: 1.0130 - acc: 0.7042 - val_loss: 0.8439 - val_acc: 0.7429\n",
      "Epoch 2/20\n",
      "298/299 [============================>.] - ETA: 1s - loss: 0.5362 - acc: 0.8301Epoch 00001: val_loss did not improve\n",
      "299/299 [==============================] - 373s - loss: 0.5362 - acc: 0.8303 - val_loss: 1.9329 - val_acc: 0.7128\n",
      "Epoch 3/20\n",
      "298/299 [============================>.] - ETA: 1s - loss: 0.4083 - acc: 0.8699Epoch 00002: val_loss improved from 0.84387 to 0.44594, saving model to model\n",
      "299/299 [==============================] - 378s - loss: 0.4077 - acc: 0.8701 - val_loss: 0.4459 - val_acc: 0.8686\n",
      "Epoch 4/20\n",
      "298/299 [============================>.] - ETA: 1s - loss: 0.3279 - acc: 0.8937Epoch 00003: val_loss did not improve\n",
      "299/299 [==============================] - 363s - loss: 0.3294 - acc: 0.8936 - val_loss: 0.5488 - val_acc: 0.8199\n",
      "Epoch 5/20\n",
      "298/299 [============================>.] - ETA: 1s - loss: 0.2767 - acc: 0.9116Epoch 00004: val_loss did not improve\n",
      "299/299 [==============================] - 361s - loss: 0.2764 - acc: 0.9117 - val_loss: 6.0042 - val_acc: 0.5162\n",
      "Epoch 6/20\n",
      "298/299 [============================>.] - ETA: 1s - loss: 0.2659 - acc: 0.9133Epoch 00005: val_loss improved from 0.44594 to 0.40995, saving model to model\n",
      "299/299 [==============================] - 473s - loss: 0.2662 - acc: 0.9131 - val_loss: 0.4099 - val_acc: 0.8841\n",
      "Epoch 7/20\n",
      "298/299 [============================>.] - ETA: 1s - loss: 0.2258 - acc: 0.9250Epoch 00006: val_loss improved from 0.40995 to 0.30261, saving model to model\n",
      "299/299 [==============================] - 376s - loss: 0.2255 - acc: 0.9251 - val_loss: 0.3026 - val_acc: 0.9125\n",
      "Epoch 8/20\n",
      "298/299 [============================>.] - ETA: 1s - loss: 0.1976 - acc: 0.9350Epoch 00007: val_loss did not improve\n",
      "299/299 [==============================] - 358s - loss: 0.1973 - acc: 0.9351 - val_loss: 0.9650 - val_acc: 0.7706\n",
      "Epoch 9/20\n",
      "298/299 [============================>.] - ETA: 1s - loss: 0.2009 - acc: 0.9391Epoch 00008: val_loss did not improve\n",
      "299/299 [==============================] - 354s - loss: 0.2016 - acc: 0.9386 - val_loss: 0.3319 - val_acc: 0.8946\n",
      "Epoch 10/20\n",
      "298/299 [============================>.] - ETA: 1s - loss: 0.1641 - acc: 0.9493Epoch 00009: val_loss did not improve\n",
      "299/299 [==============================] - 366s - loss: 0.1642 - acc: 0.9493 - val_loss: 0.3472 - val_acc: 0.9064\n",
      "Epoch 11/20\n",
      "298/299 [============================>.] - ETA: 1s - loss: 0.1923 - acc: 0.9383Epoch 00010: val_loss did not improve\n",
      "299/299 [==============================] - 354s - loss: 0.1928 - acc: 0.9382 - val_loss: 1.2110 - val_acc: 0.7470\n",
      "Epoch 12/20\n",
      "298/299 [============================>.] - ETA: 1s - loss: 0.1756 - acc: 0.9439Epoch 00011: val_loss improved from 0.30261 to 0.27619, saving model to model\n",
      "299/299 [==============================] - 403s - loss: 0.1756 - acc: 0.9438 - val_loss: 0.2762 - val_acc: 0.9193\n",
      "Epoch 13/20\n",
      "298/299 [============================>.] - ETA: 1s - loss: 0.1489 - acc: 0.9539Epoch 00012: val_loss improved from 0.27619 to 0.25154, saving model to model\n",
      "299/299 [==============================] - 359s - loss: 0.1486 - acc: 0.9541 - val_loss: 0.2515 - val_acc: 0.9331\n",
      "Epoch 14/20\n",
      "298/299 [============================>.] - ETA: 1s - loss: 0.1185 - acc: 0.9615Epoch 00013: val_loss did not improve\n",
      "299/299 [==============================] - 358s - loss: 0.1188 - acc: 0.9615 - val_loss: 0.2587 - val_acc: 0.9361\n",
      "Epoch 15/20\n",
      "298/299 [============================>.] - ETA: 1s - loss: 0.1201 - acc: 0.9615Epoch 00014: val_loss did not improve\n",
      "299/299 [==============================] - 372s - loss: 0.1199 - acc: 0.9616 - val_loss: 0.3188 - val_acc: 0.9027\n",
      "Epoch 16/20\n",
      "298/299 [============================>.] - ETA: 1s - loss: 0.1132 - acc: 0.9648Epoch 00015: val_loss did not improve\n",
      "299/299 [==============================] - 343s - loss: 0.1135 - acc: 0.9648 - val_loss: 0.4381 - val_acc: 0.8831\n",
      "Epoch 17/20\n",
      "298/299 [============================>.] - ETA: 1s - loss: 0.1311 - acc: 0.9594Epoch 00016: val_loss did not improve\n",
      "299/299 [==============================] - 350s - loss: 0.1312 - acc: 0.9594 - val_loss: 0.2724 - val_acc: 0.9311\n",
      "Epoch 18/20\n",
      "298/299 [============================>.] - ETA: 1s - loss: 0.1106 - acc: 0.9662Epoch 00017: val_loss did not improve\n",
      "299/299 [==============================] - 354s - loss: 0.1108 - acc: 0.9661 - val_loss: 0.3006 - val_acc: 0.9230\n",
      "Epoch 19/20\n",
      "298/299 [============================>.] - ETA: 1s - loss: 0.1082 - acc: 0.9651Epoch 00018: val_loss did not improve\n",
      "299/299 [==============================] - 341s - loss: 0.1086 - acc: 0.9651 - val_loss: 0.2746 - val_acc: 0.9392\n",
      "Epoch 20/20\n",
      "298/299 [============================>.] - ETA: 1s - loss: 0.0991 - acc: 0.9695Epoch 00019: val_loss did not improve\n",
      "299/299 [==============================] - 341s - loss: 0.0992 - acc: 0.9695 - val_loss: 0.2810 - val_acc: 0.9277\n"
     ]
    }
   ],
   "source": [
    "#run\n",
    "from keras.callbacks import ModelCheckpoint, Callback, ReduceLROnPlateau\n",
    "\n",
    "class LossHistory(Callback):\n",
    "    def on_train_begin(self,logs={}):\n",
    "        self.loss=[]\n",
    "        self.val_loss=[]\n",
    "    def on_epoch_end(self,epoch,logs={}):\n",
    "        self.loss.append(logs.get('loss'))\n",
    "        self.val_loss.append(logs.get('val_loss'))\n",
    "        \n",
    "checkpoint = ModelCheckpoint('baseline_Adam_model', verbose=1, save_best_only=True)\n",
    "loss_history = LossHistory()        \n",
    "history = model.fit_generator(data_generator(X_train, y_train, batch_size),\n",
    "                    steps_per_epoch=len(X_train) // batch_size,\n",
    "                    epochs=epochs,\n",
    "                    validation_data=data_generator(X_val, y_val, batch_size, False),\n",
    "                    validation_steps=len(X_val) // batch_size,\n",
    "                    callbacks=[loss_history, checkpoint])\n"
   ]
  },
  {
   "cell_type": "code",
   "execution_count": null,
   "metadata": {
    "collapsed": true
   },
   "outputs": [],
   "source": [
    "#evaluate\n",
    "from keras.models import load_model\n",
    "\n",
    "batch_size = 600\n",
    "X_test, y_test, h_test, meta_test = read_test_data_list(num_classes)\n",
    "model = load_model('baseline_Adam_model')\n",
    "batch_index = len(X_test)//batch_size\n",
    "acc = 0.0\n",
    "for i in range(0, batch_index):\n",
    "    X_batch =  X_test[i*batch_size:(i+1)*batch_size]\n",
    "    y_batch = y_test[i*batch_size:(i+1)*batch_size]\n",
    "    X_batch = read_batch_data(X_batch)\n",
    "    X_batch = preprocess_input(X_batch)\n",
    "\n",
    "    preds = model.predict([X_batch])\n",
    "    acc += np.sum(y_batch==np.argmax(preds,1))\n",
    "\n",
    "X_batch = X_test[i*batch_size:-1]\n",
    "y_batch = y_test[i*batch_size:-1]\n",
    "X_batch = read_batch_data(X_batch)\n",
    "X_batch = preprocess_input(X_batch)\n",
    "preds = model.predict([X_batch])\n",
    "acc += np.sum(y_batch==np.argmax(preds,1))\n",
    "acc /= len(X_test)"
   ]
  },
  {
   "cell_type": "code",
   "execution_count": 14,
   "metadata": {},
   "outputs": [
    {
     "name": "stdout",
     "output_type": "stream",
     "text": [
      "Test accuracy: 0.678068\n"
     ]
    }
   ],
   "source": [
    "print(\"Test accuracy: %4f\" % (acc))"
   ]
  },
  {
   "cell_type": "code",
   "execution_count": 13,
   "metadata": {},
   "outputs": [
    {
     "data": {
      "image/png": "[encoded data removed]",
      "text/plain": [
       "<matplotlib.figure.Figure at 0x21c0c86fcf8>"
      ]
     },
     "metadata": {},
     "output_type": "display_data"
    },
    {
     "data": {
      "image/png": "[encoded data removed]",
      "text/plain": [
       "<matplotlib.figure.Figure at 0x21ca26a7320>"
      ]
     },
     "metadata": {},
     "output_type": "display_data"
    }
   ],
   "source": [
    "import matplotlib.pyplot as plt\n",
    "# summarize history for accuracy\n",
    "plt.plot(history.history['acc'])\n",
    "plt.plot(history.history['val_acc'])\n",
    "plt.title('model accuracy')\n",
    "plt.ylabel('accuracy')\n",
    "plt.xlabel('epoch')\n",
    "plt.legend(['train', 'test'], loc='upper left')\n",
    "plt.show()\n",
    "# summarize history for loss\n",
    "plt.plot(history.history['loss'])\n",
    "plt.plot(history.history['val_loss'])\n",
    "plt.title('model loss')\n",
    "plt.ylabel('loss')\n",
    "plt.xlabel('epoch')\n",
    "plt.legend(['train', 'test'], loc='upper left')\n",
    "plt.show()"
   ]
  },
  {
   "cell_type": "code",
   "execution_count": null,
   "metadata": {
    "collapsed": true
   },
   "outputs": [],
   "source": []
  }
 ],
 "metadata": {
  "kernelspec": {
   "display_name": "Python 3",
   "language": "python",
   "name": "python3"
  },
  "language_info": {
   "codemirror_mode": {
    "name": "ipython",
    "version": 3
   },
   "file_extension": ".py",
   "mimetype": "text/x-python",
   "name": "python",
   "nbconvert_exporter": "python",
   "pygments_lexer": "ipython3",
   "version": "3.6.1"
  }
 },
 "nbformat": 4,
 "nbformat_minor": 2
}
