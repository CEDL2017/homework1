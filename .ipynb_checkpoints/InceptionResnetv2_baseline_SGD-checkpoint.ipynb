{
 "cells": [
  {
   "cell_type": "code",
   "execution_count": 25,
   "metadata": {
    "collapsed": true
   },
   "outputs": [],
   "source": [
    "#parameter\n",
    "epochs = 20\n",
    "batch_size = 36\n",
    "num_classes = 24\n",
    "im_row = 200\n",
    "im_col = 260\n",
    "depth = 3\n",
    "dropout_rate = 0.8\n",
    "lr = 0.001"
   ]
  },
  {
   "cell_type": "code",
   "execution_count": 20,
   "metadata": {
    "collapsed": true,
    "scrolled": true
   },
   "outputs": [],
   "source": [
    "from inception_resnet_v2 import InceptionResNetV2\n",
    "from keras.layers.core import Dense, Flatten, Dropout, Activation\n",
    "from keras.layers import Input\n",
    "from keras.layers.pooling import GlobalAveragePooling2D\n",
    "from keras.optimizers import SGD\n",
    "from keras.models import Model\n",
    "from keras.layers.merge import Concatenate\n",
    "hand_model = InceptionResNetV2(include_top=False,\n",
    "                               input_shape=(im_row, im_col, depth),\n",
    "                               name = 'hand')\n",
    "hand_x = GlobalAveragePooling2D()(hand_model.output)\n",
    "\n",
    "x = Dropout(dropout_rate)(hand_x)\n",
    "x = Dense(1024, activation='relu')(hand_x)\n",
    "x = Dropout(dropout_rate)(hand_x)\n",
    "out = Dense(num_classes, activation=\"softmax\")(x)\n",
    "model = Model([hand_model.input], out)\n",
    "model.compile(loss='categorical_crossentropy',\n",
    "              optimizer=SGD(lr=lr, momentum=0.9),\n",
    "              metrics=['accuracy'])"
   ]
  },
  {
   "cell_type": "code",
   "execution_count": 21,
   "metadata": {},
   "outputs": [
    {
     "name": "stdout",
     "output_type": "stream",
     "text": [
      "Data complete!\n"
     ]
    }
   ],
   "source": [
    "\"\"\"\n",
    "X: hand images path\n",
    "y: one-hot labels\n",
    "h: head images path\n",
    "meta: place(house:0, lab:1, office:2) + hand(left:0, right:1)\n",
    "\"\"\"\n",
    "from util import *\n",
    "\n",
    "X_train, y_train, h_train, meta_train, X_val, y_val, h_val, meta_val = read_train_data_list(num_classes)\n",
    "X_test, y_test, h_test, meta_test = read_test_data_list(num_classes)\n",
    "print('Data complete!')"
   ]
  },
  {
   "cell_type": "code",
   "execution_count": 22,
   "metadata": {
    "collapsed": true
   },
   "outputs": [],
   "source": [
    "#data gen\n",
    "from keras.preprocessing.image import ImageDataGenerator\n",
    "from inception_resnet_v2 import preprocess_input\n",
    "\n",
    "datagen = ImageDataGenerator(\n",
    "    rotation_range=5,\n",
    "    width_shift_range=0.1,\n",
    "    height_shift_range=0.1,\n",
    "    zoom_range=0.1,\n",
    "    horizontal_flip=True,\n",
    "    preprocessing_function=preprocess_input)\n",
    "\n",
    "def image_augmentation(X_train, y_train, batch_size, datagen=datagen):\n",
    "    X_train, y_train = datagen.flow(X_train,\n",
    "                                    y_train,\n",
    "                                    batch_size=batch_size).next()\n",
    "\n",
    "    return X_train, y_train\n",
    "\n",
    "def data_generator(X, y, batch_size, data_augmentation=True):\n",
    "    while 1:\n",
    "        p = np.random.permutation(len(X))\n",
    "        X, y = X[p], y[p]\n",
    "        batch_index = len(X)//batch_size\n",
    "        for i in range(0, batch_index):\n",
    "            X_batch =  X[i*batch_size:(i+1)*batch_size]\n",
    "            y_batch = y[i*batch_size:(i+1)*batch_size]\n",
    "            X_batch = read_batch_data(X_batch)\n",
    "            \n",
    "            if data_augmentation:\n",
    "                X_batch, y_batch = image_augmentation(X_batch, y_batch, batch_size)\n",
    "            else:\n",
    "                X_batch = preprocess_input(X_batch)\n",
    "            yield (X_batch, y_batch)"
   ]
  },
  {
   "cell_type": "code",
   "execution_count": 26,
   "metadata": {},
   "outputs": [
    {
     "name": "stdout",
     "output_type": "stream",
     "text": [
      "Epoch 1/20\n",
      "332/333 [============================>.] - ETA: 1s - loss: 1.7877 - acc: 0.5126Epoch 00000: val_loss improved from inf to 1.15904, saving model to baseline_SGD_model\n",
      "333/333 [==============================] - 751s - loss: 1.7849 - acc: 0.5134 - val_loss: 1.1590 - val_acc: 0.6764\n",
      "Epoch 2/20\n",
      "332/333 [============================>.] - ETA: 0s - loss: 0.9956 - acc: 0.7054Epoch 00001: val_loss improved from 1.15904 to 0.63941, saving model to baseline_SGD_model\n",
      "333/333 [==============================] - 379s - loss: 0.9955 - acc: 0.7057 - val_loss: 0.6394 - val_acc: 0.8186\n",
      "Epoch 3/20\n",
      "332/333 [============================>.] - ETA: 1s - loss: 0.6530 - acc: 0.8034Epoch 00002: val_loss improved from 0.63941 to 0.48920, saving model to baseline_SGD_model\n",
      "333/333 [==============================] - 415s - loss: 0.6536 - acc: 0.8031 - val_loss: 0.4892 - val_acc: 0.8511\n",
      "Epoch 4/20\n",
      "332/333 [============================>.] - ETA: 0s - loss: 0.4594 - acc: 0.8601Epoch 00003: val_loss improved from 0.48920 to 0.34461, saving model to baseline_SGD_model\n",
      "333/333 [==============================] - 369s - loss: 0.4592 - acc: 0.8602 - val_loss: 0.3446 - val_acc: 0.8969\n",
      "Epoch 5/20\n",
      "332/333 [============================>.] - ETA: 0s - loss: 0.3433 - acc: 0.8948Epoch 00004: val_loss improved from 0.34461 to 0.31601, saving model to baseline_SGD_model\n",
      "333/333 [==============================] - 368s - loss: 0.3438 - acc: 0.8946 - val_loss: 0.3160 - val_acc: 0.9143\n",
      "Epoch 6/20\n",
      "332/333 [============================>.] - ETA: 0s - loss: 0.2692 - acc: 0.9163Epoch 00005: val_loss improved from 0.31601 to 0.27086, saving model to baseline_SGD_model\n",
      "333/333 [==============================] - 364s - loss: 0.2688 - acc: 0.9164 - val_loss: 0.2709 - val_acc: 0.9203\n",
      "Epoch 7/20\n",
      "332/333 [============================>.] - ETA: 0s - loss: 0.2137 - acc: 0.9338Epoch 00006: val_loss did not improve\n",
      "333/333 [==============================] - 356s - loss: 0.2133 - acc: 0.9339 - val_loss: 0.2804 - val_acc: 0.9220\n",
      "Epoch 8/20\n",
      "332/333 [============================>.] - ETA: 0s - loss: 0.1749 - acc: 0.9456Epoch 00007: val_loss did not improve\n",
      "333/333 [==============================] - 365s - loss: 0.1760 - acc: 0.9452 - val_loss: 0.3148 - val_acc: 0.9274\n",
      "Epoch 9/20\n",
      "332/333 [============================>.] - ETA: 0s - loss: 0.1395 - acc: 0.9582Epoch 00008: val_loss did not improve\n",
      "333/333 [==============================] - 328s - loss: 0.1395 - acc: 0.9582 - val_loss: 0.2856 - val_acc: 0.9294\n",
      "Epoch 10/20\n",
      "332/333 [============================>.] - ETA: 0s - loss: 0.1212 - acc: 0.9632Epoch 00009: val_loss did not improve\n",
      "333/333 [==============================] - 417s - loss: 0.1210 - acc: 0.9633 - val_loss: 0.3086 - val_acc: 0.9224\n",
      "Epoch 11/20\n",
      "332/333 [============================>.] - ETA: 1s - loss: 0.0997 - acc: 0.9698Epoch 00010: val_loss did not improve\n",
      "333/333 [==============================] - 432s - loss: 0.0996 - acc: 0.9697 - val_loss: 0.2734 - val_acc: 0.9334\n",
      "Epoch 12/20\n",
      "332/333 [============================>.] - ETA: 1s - loss: 0.0835 - acc: 0.9760Epoch 00011: val_loss improved from 0.27086 to 0.23273, saving model to baseline_SGD_model\n",
      "333/333 [==============================] - 410s - loss: 0.0838 - acc: 0.9760 - val_loss: 0.2327 - val_acc: 0.9361\n",
      "Epoch 13/20\n",
      "332/333 [============================>.] - ETA: 0s - loss: 0.0810 - acc: 0.9760Epoch 00012: val_loss did not improve\n",
      "333/333 [==============================] - 373s - loss: 0.0810 - acc: 0.9760 - val_loss: 0.2829 - val_acc: 0.9351\n",
      "Epoch 14/20\n",
      "332/333 [============================>.] - ETA: 1s - loss: 0.0733 - acc: 0.9780Epoch 00013: val_loss did not improve\n",
      "333/333 [==============================] - 379s - loss: 0.0731 - acc: 0.9781 - val_loss: 0.2439 - val_acc: 0.9404\n",
      "Epoch 15/20\n",
      "332/333 [============================>.] - ETA: 0s - loss: 0.0740 - acc: 0.9774Epoch 00014: val_loss did not improve\n",
      "333/333 [==============================] - 345s - loss: 0.0740 - acc: 0.9774 - val_loss: 0.2868 - val_acc: 0.9371\n",
      "Epoch 16/20\n",
      "332/333 [============================>.] - ETA: 0s - loss: 0.0675 - acc: 0.9801Epoch 00015: val_loss did not improve\n",
      "333/333 [==============================] - 359s - loss: 0.0675 - acc: 0.9801 - val_loss: 0.2343 - val_acc: 0.9414\n",
      "Epoch 17/20\n",
      "332/333 [============================>.] - ETA: 0s - loss: 0.0711 - acc: 0.9779Epoch 00016: val_loss did not improve\n",
      "333/333 [==============================] - 354s - loss: 0.0712 - acc: 0.9777 - val_loss: 0.2513 - val_acc: 0.9371\n",
      "Epoch 18/20\n",
      "332/333 [============================>.] - ETA: 1s - loss: 0.0664 - acc: 0.9785Epoch 00017: val_loss did not improve\n",
      "333/333 [==============================] - 386s - loss: 0.0663 - acc: 0.9786 - val_loss: 0.2641 - val_acc: 0.9394\n",
      "Epoch 19/20\n",
      "332/333 [============================>.] - ETA: 0s - loss: 0.0626 - acc: 0.9818Epoch 00018: val_loss did not improve\n",
      "333/333 [==============================] - 373s - loss: 0.0627 - acc: 0.9818 - val_loss: 0.2659 - val_acc: 0.9357\n",
      "Epoch 20/20\n",
      "332/333 [============================>.] - ETA: 0s - loss: 0.0634 - acc: 0.9807Epoch 00019: val_loss did not improve\n",
      "333/333 [==============================] - 369s - loss: 0.0634 - acc: 0.9807 - val_loss: 0.2466 - val_acc: 0.9394\n"
     ]
    }
   ],
   "source": [
    "#run\n",
    "from keras.callbacks import ModelCheckpoint, Callback, ReduceLROnPlateau\n",
    "\n",
    "class LossHistory(Callback):\n",
    "    def on_train_begin(self,logs={}):\n",
    "        self.loss=[]\n",
    "        self.val_loss=[]\n",
    "    def on_epoch_end(self,epoch,logs={}):\n",
    "        self.loss.append(logs.get('loss'))\n",
    "        self.val_loss.append(logs.get('val_loss'))\n",
    "        \n",
    "checkpoint = ModelCheckpoint('baseline_SGD_model', verbose=1, save_best_only=True)\n",
    "loss_history = LossHistory()\n",
    "reduce_lr = ReduceLROnPlateau(monitor='val_loss', factor=0.2,\n",
    "              patience=3, min_lr=0.00001)  \n",
    "history = model.fit_generator(data_generator(X_train, y_train, batch_size),\n",
    "                    steps_per_epoch=len(X_train) // batch_size,\n",
    "                    epochs=epochs,\n",
    "                    validation_data=data_generator(X_val, y_val, batch_size, False),\n",
    "                    validation_steps=len(X_val) // batch_size,\n",
    "                    callbacks=[loss_history, checkpoint, reduce_lr])\n"
   ]
  },
  {
   "cell_type": "code",
   "execution_count": 27,
   "metadata": {},
   "outputs": [
    {
     "name": "stdout",
     "output_type": "stream",
     "text": [
      "Test accuracy: 0.727693\n"
     ]
    }
   ],
   "source": [
    "from keras.models import load_model\n",
    "\n",
    "batch_size = 600\n",
    "X_test, y_test, h_test, meta_test = read_test_data_list(num_classes)\n",
    "model = load_model('baseline_SGD_model')\n",
    "batch_index = len(X_test)//batch_size\n",
    "acc = 0.0\n",
    "for i in range(0, batch_index):\n",
    "    X_batch =  X_test[i*batch_size:(i+1)*batch_size]\n",
    "    y_batch = y_test[i*batch_size:(i+1)*batch_size]\n",
    "    X_batch = read_batch_data(X_batch)\n",
    "    X_batch = preprocess_input(X_batch)\n",
    "\n",
    "    preds = model.predict([X_batch])\n",
    "    acc += np.sum(y_batch==np.argmax(preds,1))\n",
    "\n",
    "X_batch = X_test[i*batch_size:-1]\n",
    "y_batch = y_test[i*batch_size:-1]\n",
    "X_batch = read_batch_data(X_batch)\n",
    "X_batch = preprocess_input(X_batch)\n",
    "preds = model.predict([X_batch])\n",
    "acc += np.sum(y_batch==np.argmax(preds,1))\n",
    "acc/=len(X_test)\n",
    "print(\"Test accuracy: %4f\" % (acc))"
   ]
  },
  {
   "cell_type": "code",
   "execution_count": 29,
   "metadata": {},
   "outputs": [
    {
     "data": {
      "image/png": "[encoded data removed]",
      "text/plain": [
       "<matplotlib.figure.Figure at 0x239b2f2d2b0>"
      ]
     },
     "metadata": {},
     "output_type": "display_data"
    },
    {
     "data": {
      "image/png": "[encoded data removed]",
      "text/plain": [
       "<matplotlib.figure.Figure at 0x239b2facf28>"
      ]
     },
     "metadata": {},
     "output_type": "display_data"
    }
   ],
   "source": [
    "import matplotlib.pyplot as plt\n",
    "# summarize history for accuracy\n",
    "plt.plot(history.history['acc'])\n",
    "plt.plot(history.history['val_acc'])\n",
    "plt.title('model accuracy')\n",
    "plt.ylabel('accuracy')\n",
    "plt.xlabel('epoch')\n",
    "plt.legend(['train', 'val'], loc='upper left')\n",
    "plt.show()\n",
    "# summarize history for loss\n",
    "plt.plot(history.history['loss'])\n",
    "plt.plot(history.history['val_loss'])\n",
    "plt.title('model loss')\n",
    "plt.ylabel('loss')\n",
    "plt.xlabel('epoch')\n",
    "plt.legend(['train', 'val'], loc='upper left')\n",
    "plt.show()"
   ]
  },
  {
   "cell_type": "code",
   "execution_count": null,
   "metadata": {
    "collapsed": true
   },
   "outputs": [],
   "source": []
  }
 ],
 "metadata": {
  "kernelspec": {
   "display_name": "Python 3",
   "language": "python",
   "name": "python3"
  },
  "language_info": {
   "codemirror_mode": {
    "name": "ipython",
    "version": 3
   },
   "file_extension": ".py",
   "mimetype": "text/x-python",
   "name": "python",
   "nbconvert_exporter": "python",
   "pygments_lexer": "ipython3",
   "version": "3.6.1"
  }
 },
 "nbformat": 4,
 "nbformat_minor": 2
}
