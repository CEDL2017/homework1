{
 "cells": [
  {
   "cell_type": "markdown",
   "metadata": {
    "collapsed": true
   },
   "source": [
    "# CNN_basic(53%)"    
   ]
  },
  {
   "cell_type": "code",
   "execution_count": 6,
   "metadata": {
    "collapsed": true
   },
   "outputs": [],
   "source": [
    "#data use-Copy3*-Copy4, upload code version\n",
    "#讀檔:\n",
    "def MyFileRead(DATA_DIR):\n",
    "    from PIL import Image\n",
    "    from scipy import misc\n",
    "    import os\n",
    "    import time\n",
    "    import re\n",
    "    import numpy as np #ndarray  \n",
    "    \n",
    "    tStart = time.time()\n",
    "    oslist=os.listdir(DATA_DIR)\n",
    "    oslist = sorted(oslist, key=lambda x: int(re.sub('\\D', '', x)))\n",
    "    len_oslist=len(oslist)    \n",
    "    \n",
    "    i=0\n",
    "    for filename in oslist:\n",
    "        #print (\"Loading: %s\" % filename)        \n",
    "        \n",
    "        face = misc.face()\n",
    "        face = misc.imread(os.path.join(DATA_DIR, filename)) \n",
    "        face = misc.imresize(face, [32, 32], interp='bilinear', mode=None)\n",
    "        \n",
    "        \n",
    "        if i==0:\n",
    "            a=face\n",
    "            a=np.expand_dims(a, axis=0)\n",
    "            \n",
    "        else:            \n",
    "            face2=np.expand_dims(face, axis=0)\n",
    "            a=np.concatenate((a,face2), axis=0)\n",
    "        \n",
    "        i=i+1\n",
    "        #if i>5:\n",
    "        #    break\n",
    "        \n",
    "    tEnd = time.time()#計時結束\n",
    "    #列印結果\n",
    "    print (\"It cost %f sec\" % (tEnd - tStart))#會自動做近位\n",
    "    #print (tEnd - tStart)#原型長這樣\n",
    "    #print (\"file len %d\" % (len(oslist)))\n",
    "    return a"
   ]
  },
  {
   "cell_type": "code",
   "execution_count": 53,
   "metadata": {
    "collapsed": true
   },
   "outputs": [],
   "source": [
    "Ltrain_DATA_DIR = [\n",
    "    \"/media/smilewater/Disk/pywork/DL_HW1/dataset/frames/train/house/1/Lhand\",\n",
    "    \"/media/smilewater/Disk/pywork/DL_HW1/dataset/frames/train/house/2/Lhand\",\n",
    "    \"/media/smilewater/Disk/pywork/DL_HW1/dataset/frames/train/house/3/Lhand\",\n",
    "    \"/media/smilewater/Disk/pywork/DL_HW1/dataset/frames/train/lab/1/Lhand\",\n",
    "    \"/media/smilewater/Disk/pywork/DL_HW1/dataset/frames/train/lab/2/Lhand\",\n",
    "    \"/media/smilewater/Disk/pywork/DL_HW1/dataset/frames/train/lab/3/Lhand\",    \n",
    "    \"/media/smilewater/Disk/pywork/DL_HW1/dataset/frames/train/lab/4/Lhand\",\n",
    "    \"/media/smilewater/Disk/pywork/DL_HW1/dataset/frames/train/office/1/Lhand\",\n",
    "    \"/media/smilewater/Disk/pywork/DL_HW1/dataset/frames/train/office/2/Lhand\",\n",
    "    \"/media/smilewater/Disk/pywork/DL_HW1/dataset/frames/train/office/3/Lhand\"]"
   ]
  },
  {
   "cell_type": "code",
   "execution_count": 58,
   "metadata": {},
   "outputs": [
    {
     "name": "stdout",
     "output_type": "stream",
     "text": [
      "It cost 135.009273 sec\n",
      "It cost 169.184755 sec\n",
      "It cost 68.322163 sec\n",
      "It cost 79.937818 sec\n",
      "It cost 99.197541 sec\n",
      "It cost 90.654969 sec\n",
      "It cost 100.686130 sec\n",
      "It cost 77.769336 sec\n",
      "It cost 88.342790 sec\n"
     ]
    }
   ],
   "source": [
    "for i in range (0,len(Ltrain_DATA_DIR),1):\n",
    "#for i in range (0,1,1):\n",
    "    DATA_DIR=Ltrain_DATA_DIR[i]\n",
    "    MR=MyFileRead(DATA_DIR)\n",
    "    np.save('NewLtrain'+str(i), MR)"
   ]
  },
  {
   "cell_type": "code",
   "execution_count": 69,
   "metadata": {},
   "outputs": [
    {
     "name": "stdout",
     "output_type": "stream",
     "text": [
      "831\t831\n",
      "988\t988\n",
      "1229\t1229\n",
      "501\t501\n",
      "589\t589\n",
      "730\t730\n",
      "660\t660\n",
      "745\t745\n",
      "572\t572\n",
      "651\t651\n"
     ]
    }
   ],
   "source": [
    "for i in range (0,len(Ltrain_DATA_DIR),1):\n",
    "    xx=np.load('NewLtrain'+str(i)+'.npy')\n",
    "    print(xx.shape[0], end='\\t')\n",
    "    DATA_DIR=Ltrain_DATA_DIR[i]\n",
    "    print(len(os.listdir(DATA_DIR)))\n",
    "    "
   ]
  },
  {
   "cell_type": "code",
   "execution_count": 65,
   "metadata": {
    "collapsed": true
   },
   "outputs": [],
   "source": [
    "Rtrain_DATA_DIR = [\n",
    "    \"/media/smilewater/Disk/pywork/DL_HW1/dataset/frames/train/house/1/Rhand\",\n",
    "    \"/media/smilewater/Disk/pywork/DL_HW1/dataset/frames/train/house/2/Rhand\",\n",
    "    \"/media/smilewater/Disk/pywork/DL_HW1/dataset/frames/train/house/3/Rhand\",\n",
    "    \"/media/smilewater/Disk/pywork/DL_HW1/dataset/frames/train/lab/1/Rhand\",\n",
    "    \"/media/smilewater/Disk/pywork/DL_HW1/dataset/frames/train/lab/2/Rhand\",\n",
    "    \"/media/smilewater/Disk/pywork/DL_HW1/dataset/frames/train/lab/3/Rhand\",    \n",
    "    \"/media/smilewater/Disk/pywork/DL_HW1/dataset/frames/train/lab/4/Rhand\",\n",
    "    \"/media/smilewater/Disk/pywork/DL_HW1/dataset/frames/train/office/1/Rhand\",\n",
    "    \"/media/smilewater/Disk/pywork/DL_HW1/dataset/frames/train/office/2/Rhand\",\n",
    "    \"/media/smilewater/Disk/pywork/DL_HW1/dataset/frames/train/office/3/Rhand\"]"
   ]
  },
  {
   "cell_type": "code",
   "execution_count": 66,
   "metadata": {},
   "outputs": [
    {
     "name": "stdout",
     "output_type": "stream",
     "text": [
      "It cost 118.931445 sec\n",
      "It cost 141.641918 sec\n",
      "It cost 176.546127 sec\n",
      "It cost 71.620738 sec\n",
      "It cost 83.837906 sec\n",
      "It cost 103.213389 sec\n",
      "It cost 93.813300 sec\n",
      "It cost 105.426398 sec\n",
      "It cost 80.987990 sec\n",
      "It cost 92.055163 sec\n"
     ]
    }
   ],
   "source": [
    "for i in range (0,len(Rtrain_DATA_DIR),1):\n",
    "    DATA_DIR=Rtrain_DATA_DIR[i]\n",
    "    MR=MyFileRead(DATA_DIR)\n",
    "    np.save('NewRtrain'+str(i), MR)"
   ]
  },
  {
   "cell_type": "code",
   "execution_count": 68,
   "metadata": {},
   "outputs": [
    {
     "name": "stdout",
     "output_type": "stream",
     "text": [
      "831\t831\n",
      "988\t988\n",
      "1229\t1229\n",
      "501\t501\n",
      "589\t589\n",
      "730\t730\n",
      "660\t660\n",
      "745\t745\n",
      "572\t572\n",
      "651\t651\n"
     ]
    }
   ],
   "source": [
    "for i in range (0,len(Rtrain_DATA_DIR),1):\n",
    "    xx=np.load('NewRtrain'+str(i)+'.npy')\n",
    "    print(xx.shape[0], end='\\t')\n",
    "    DATA_DIR=Rtrain_DATA_DIR[i]\n",
    "    print(len(os.listdir(DATA_DIR)))"
   ]
  },
  {
   "cell_type": "code",
   "execution_count": null,
   "metadata": {
    "collapsed": true
   },
   "outputs": [],
   "source": []
  },
  {
   "cell_type": "code",
   "execution_count": 1,
   "metadata": {
    "collapsed": true
   },
   "outputs": [],
   "source": [
    "a=\"/test\"\n",
    "Ltest_DATA_DIR = [\n",
    "    \"/media/smilewater/Disk/pywork/DL_HW1/dataset/frames\"+a+\"/house/1/Lhand\",\n",
    "    \"/media/smilewater/Disk/pywork/DL_HW1/dataset/frames\"+a+\"/house/2/Lhand\",\n",
    "    \"/media/smilewater/Disk/pywork/DL_HW1/dataset/frames\"+a+\"/house/3/Lhand\",\n",
    "    \"/media/smilewater/Disk/pywork/DL_HW1/dataset/frames\"+a+\"/lab/1/Lhand\",\n",
    "    \"/media/smilewater/Disk/pywork/DL_HW1/dataset/frames\"+a+\"/lab/2/Lhand\",\n",
    "    \"/media/smilewater/Disk/pywork/DL_HW1/dataset/frames\"+a+\"/lab/3/Lhand\",    \n",
    "    \"/media/smilewater/Disk/pywork/DL_HW1/dataset/frames\"+a+\"/lab/4/Lhand\",\n",
    "    \"/media/smilewater/Disk/pywork/DL_HW1/dataset/frames\"+a+\"/office/1/Lhand\",\n",
    "    \"/media/smilewater/Disk/pywork/DL_HW1/dataset/frames\"+a+\"/office/2/Lhand\",\n",
    "    \"/media/smilewater/Disk/pywork/DL_HW1/dataset/frames\"+a+\"/office/3/Lhand\"]"
   ]
  },
  {
   "cell_type": "code",
   "execution_count": 4,
   "metadata": {
    "collapsed": true
   },
   "outputs": [],
   "source": [
    "a=\"/test\"\n",
    "Rtest_DATA_DIR = [\n",
    "    \"/media/smilewater/Disk/pywork/DL_HW1/dataset/frames\"+a+\"/house/1/Rhand\",\n",
    "    \"/media/smilewater/Disk/pywork/DL_HW1/dataset/frames\"+a+\"/house/2/Rhand\",\n",
    "    \"/media/smilewater/Disk/pywork/DL_HW1/dataset/frames\"+a+\"/house/3/Rhand\",\n",
    "    \"/media/smilewater/Disk/pywork/DL_HW1/dataset/frames\"+a+\"/lab/1/Rhand\",\n",
    "    \"/media/smilewater/Disk/pywork/DL_HW1/dataset/frames\"+a+\"/lab/2/Rhand\",\n",
    "    \"/media/smilewater/Disk/pywork/DL_HW1/dataset/frames\"+a+\"/lab/3/Rhand\",    \n",
    "    \"/media/smilewater/Disk/pywork/DL_HW1/dataset/frames\"+a+\"/lab/4/Rhand\",\n",
    "    \"/media/smilewater/Disk/pywork/DL_HW1/dataset/frames\"+a+\"/office/1/Rhand\",\n",
    "    \"/media/smilewater/Disk/pywork/DL_HW1/dataset/frames\"+a+\"/office/2/Rhand\",\n",
    "    \"/media/smilewater/Disk/pywork/DL_HW1/dataset/frames\"+a+\"/office/3/Rhand\"]"
   ]
  },
  {
   "cell_type": "code",
   "execution_count": 2,
   "metadata": {},
   "outputs": [
    {
     "data": {
      "text/plain": [
       "'/media/smilewater/Disk/pywork/DL_HW1/dataset/frames/test/house/1/Lhand'"
      ]
     },
     "execution_count": 2,
     "metadata": {},
     "output_type": "execute_result"
    }
   ],
   "source": [
    "Ltest_DATA_DIR[0]"
   ]
  },
  {
   "cell_type": "code",
   "execution_count": 8,
   "metadata": {},
   "outputs": [
    {
     "name": "stdout",
     "output_type": "stream",
     "text": [
      "It cost 117.931343 sec\n",
      "It cost 130.386918 sec\n",
      "It cost 139.072900 sec\n",
      "It cost 78.916727 sec\n",
      "It cost 96.520264 sec\n",
      "It cost 69.202618 sec\n",
      "It cost 74.528589 sec\n",
      "It cost 86.860803 sec\n",
      "It cost 60.884171 sec\n",
      "It cost 83.029031 sec\n"
     ]
    }
   ],
   "source": [
    "import numpy as np\n",
    "for i in range (0,len(Ltest_DATA_DIR),1):\n",
    "#for i in range (0,1,1):\n",
    "    DATA_DIR=Ltest_DATA_DIR[i]\n",
    "    MR=MyFileRead(DATA_DIR)\n",
    "    np.save('NewLtest'+str(i), MR)"
   ]
  },
  {
   "cell_type": "code",
   "execution_count": 12,
   "metadata": {},
   "outputs": [
    {
     "name": "stdout",
     "output_type": "stream",
     "text": [
      "It cost 122.313149 sec\n",
      "It cost 131.373193 sec\n",
      "It cost 137.504265 sec\n",
      "It cost 79.002483 sec\n",
      "It cost 95.927938 sec\n",
      "It cost 68.655177 sec\n",
      "It cost 73.771490 sec\n",
      "It cost 85.764724 sec\n",
      "It cost 61.019659 sec\n",
      "It cost 84.141779 sec\n"
     ]
    }
   ],
   "source": [
    "import numpy as np\n",
    "for i in range (0,len(Rtest_DATA_DIR),1):\n",
    "    DATA_DIR=Rtest_DATA_DIR[i]\n",
    "    MR=MyFileRead(DATA_DIR)\n",
    "    np.save('NewRtest'+str(i), MR)"
   ]
  },
  {
   "cell_type": "code",
   "execution_count": 11,
   "metadata": {},
   "outputs": [
    {
     "name": "stdout",
     "output_type": "stream",
     "text": [
      "830\t830\n",
      "887\t887\n",
      "929\t929\n",
      "539\t539\n",
      "658\t658\n",
      "467\t467\n",
      "503\t503\n",
      "590\t590\n",
      "419\t419\n",
      "566\t566\n"
     ]
    }
   ],
   "source": [
    "import os\n",
    "#check Ltest\n",
    "for i in range (0,len(Ltest_DATA_DIR),1):\n",
    "    xx=np.load('NewLtest'+str(i)+'.npy')\n",
    "    print(xx.shape[0], end='\\t')\n",
    "    DATA_DIR=Ltest_DATA_DIR[i]\n",
    "    print(len(os.listdir(DATA_DIR)))"
   ]
  },
  {
   "cell_type": "code",
   "execution_count": 13,
   "metadata": {},
   "outputs": [
    {
     "name": "stdout",
     "output_type": "stream",
     "text": [
      "830\t830\n",
      "887\t887\n",
      "929\t929\n",
      "539\t539\n",
      "658\t658\n",
      "467\t467\n",
      "503\t503\n",
      "590\t590\n",
      "419\t419\n",
      "566\t566\n"
     ]
    }
   ],
   "source": [
    "#check Rtest\n",
    "for i in range (0,len(Rtest_DATA_DIR),1):\n",
    "    xx=np.load('NewRtest'+str(i)+'.npy')\n",
    "    print(xx.shape[0], end='\\t')\n",
    "    DATA_DIR=Rtest_DATA_DIR[i]\n",
    "    print(len(os.listdir(DATA_DIR)))"
   ]
  },
  {
   "cell_type": "markdown",
   "metadata": {},
   "source": [
    "# 執行訓練"
   ]
  },
  {
   "cell_type": "code",
   "execution_count": 26,
   "metadata": {
    "collapsed": true
   },
   "outputs": [],
   "source": [
    "x_test_file_path=[\n",
    "    \"/media/smilewater/Disk/pywork/DL_HW1/NewLtest0.npy\",\n",
    "    \"/media/smilewater/Disk/pywork/DL_HW1/NewLtest1.npy\",\n",
    "    \"/media/smilewater/Disk/pywork/DL_HW1/NewLtest2.npy\",\n",
    "    \"/media/smilewater/Disk/pywork/DL_HW1/NewLtest3.npy\",\n",
    "    \"/media/smilewater/Disk/pywork/DL_HW1/NewLtest4.npy\",\n",
    "    \"/media/smilewater/Disk/pywork/DL_HW1/NewLtest5.npy\",\n",
    "    \"/media/smilewater/Disk/pywork/DL_HW1/NewLtest6.npy\",\n",
    "    \"/media/smilewater/Disk/pywork/DL_HW1/NewLtest7.npy\",\n",
    "    \"/media/smilewater/Disk/pywork/DL_HW1/NewLtest8.npy\",\n",
    "    \"/media/smilewater/Disk/pywork/DL_HW1/NewLtest9.npy\"\n",
    "]"
   ]
  },
  {
   "cell_type": "code",
   "execution_count": 31,
   "metadata": {
    "collapsed": true
   },
   "outputs": [],
   "source": [
    "x_test_file_path=[\n",
    "    'NewLtest0.npy',\n",
    "    'NewLtest1.npy',\n",
    "    'NewLtest2.npy',\n",
    "    'NewLtest3.npy',\n",
    "    'NewLtest4.npy',\n",
    "    'NewLtest5.npy',\n",
    "    'NewLtest6.npy',\n",
    "    'NewLtest7.npy',\n",
    "    'NewLtest8.npy',\n",
    "    'NewLtest9.npy'\n",
    "]"
   ]
  },
  {
   "cell_type": "code",
   "execution_count": null,
   "metadata": {
    "collapsed": true
   },
   "outputs": [],
   "source": []
  },
  {
   "cell_type": "code",
   "execution_count": 24,
   "metadata": {},
   "outputs": [
    {
     "name": "stdout",
     "output_type": "stream",
     "text": [
      "/media/smilewater/Disk/pywork/DL_HW1/NewLtest0.npy\n",
      "/media/smilewater/Disk/pywork/DL_HW1/NewLtest1.npy\n",
      "/media/smilewater/Disk/pywork/DL_HW1/NewLtest2.npy\n",
      "/media/smilewater/Disk/pywork/DL_HW1/NewLtest3.npy\n",
      "/media/smilewater/Disk/pywork/DL_HW1/NewLtest4.npy\n",
      "/media/smilewater/Disk/pywork/DL_HW1/NewLtest5.npy\n",
      "/media/smilewater/Disk/pywork/DL_HW1/NewLtest6.npy\n",
      "/media/smilewater/Disk/pywork/DL_HW1/NewLtest7.npy\n",
      "/media/smilewater/Disk/pywork/DL_HW1/NewLtest8.npy\n",
      "/media/smilewater/Disk/pywork/DL_HW1/NewLtest9.npy\n"
     ]
    }
   ],
   "source": [
    "for i in range(0,10,1):\n",
    "    print(\"/media/smilewater/Disk/pywork/DL_HW1\"+\"/NewLtest\"+str(i)+\".npy\")"
   ]
  },
  {
   "cell_type": "code",
   "execution_count": 30,
   "metadata": {},
   "outputs": [
    {
     "name": "stdout",
     "output_type": "stream",
     "text": [
      "NewLtest0.npy\n",
      "NewLtest1.npy\n",
      "NewLtest2.npy\n",
      "NewLtest3.npy\n",
      "NewLtest4.npy\n",
      "NewLtest5.npy\n",
      "NewLtest6.npy\n",
      "NewLtest7.npy\n",
      "NewLtest8.npy\n",
      "NewLtest9.npy\n"
     ]
    }
   ],
   "source": [
    "for i in range(0,10,1):\n",
    "    print(\"NewLtest\"+str(i)+\".npy\")"
   ]
  },
  {
   "cell_type": "code",
   "execution_count": 102,
   "metadata": {
    "collapsed": true
   },
   "outputs": [],
   "source": [
    "X_test=np.load('NewLtest0.npy')\n",
    "ax_test=np.load('NewRtest0.npy')\n",
    "X_test=np.concatenate((X_test, ax_test), axis=0)\n",
    "\n",
    "for i in range(1,10,1):\n",
    "    mystr=\"NewLtest\"+str(i)+\".npy\"\n",
    "    tempx=np.load(mystr)\n",
    "    X_test=np.concatenate((X_test, tempx), axis=0)\n",
    "    mystr=\"NewRtest\"+str(i)+\".npy\"\n",
    "    tempx=np.load(mystr)\n",
    "    X_test=np.concatenate((X_test, tempx), axis=0)"
   ]
  },
  {
   "cell_type": "code",
   "execution_count": 103,
   "metadata": {},
   "outputs": [
    {
     "data": {
      "text/plain": [
       "(12776, 32, 32, 3)"
      ]
     },
     "execution_count": 103,
     "metadata": {},
     "output_type": "execute_result"
    }
   ],
   "source": [
    "X_test.shape"
   ]
  },
  {
   "cell_type": "code",
   "execution_count": null,
   "metadata": {
    "collapsed": true
   },
   "outputs": [],
   "source": []
  },
  {
   "cell_type": "code",
   "execution_count": 99,
   "metadata": {
    "collapsed": true
   },
   "outputs": [],
   "source": [
    "X_train=np.load('NewLtrain0.npy')\n",
    "ax_train=np.load('NewRtrain0.npy')\n",
    "X_train=np.concatenate((X_train, ax_train), axis=0)\n",
    "\n",
    "for i in range(1,10,1):\n",
    "    mystr=\"NewLtrain\"+str(i)+\".npy\"\n",
    "    tempx=np.load(mystr)\n",
    "    X_train=np.concatenate((X_train, tempx), axis=0)\n",
    "    mystr=\"NewRtrain\"+str(i)+\".npy\"\n",
    "    tempx=np.load(mystr)\n",
    "    X_train=np.concatenate((X_train, tempx), axis=0)"
   ]
  },
  {
   "cell_type": "code",
   "execution_count": 101,
   "metadata": {},
   "outputs": [
    {
     "data": {
      "text/plain": [
       "(14992, 32, 32, 3)"
      ]
     },
     "execution_count": 101,
     "metadata": {},
     "output_type": "execute_result"
    }
   ],
   "source": [
    "X_train.shape"
   ]
  },
  {
   "cell_type": "code",
   "execution_count": null,
   "metadata": {
    "collapsed": true
   },
   "outputs": [],
   "source": []
  },
  {
   "cell_type": "code",
   "execution_count": 104,
   "metadata": {},
   "outputs": [
    {
     "name": "stdout",
     "output_type": "stream",
     "text": [
      "12776\n"
     ]
    }
   ],
   "source": [
    "import os\n",
    "#check Ltest\n",
    "count=0\n",
    "for i in range (0,len(Ltest_DATA_DIR),1):\n",
    "    #xx=np.load('NewLtest'+str(i)+'.npy')\n",
    "    #print(xx.shape[0], end='\\t')\n",
    "    DATA_DIR=Ltest_DATA_DIR[i]\n",
    "    count=count+len(os.listdir(DATA_DIR))\n",
    "print(count*2)"
   ]
  },
  {
   "cell_type": "code",
   "execution_count": 105,
   "metadata": {},
   "outputs": [
    {
     "name": "stdout",
     "output_type": "stream",
     "text": [
      "14992\n"
     ]
    }
   ],
   "source": [
    "import os\n",
    "#check Ltest\n",
    "count=0\n",
    "for i in range (0,len(Ltrain_DATA_DIR),1):\n",
    "    #xx=np.load('NewLtest'+str(i)+'.npy')\n",
    "    #print(xx.shape[0], end='\\t')\n",
    "    DATA_DIR=Ltrain_DATA_DIR[i]\n",
    "    count=count+len(os.listdir(DATA_DIR))\n",
    "print(count*2)"
   ]
  },
  {
   "cell_type": "code",
   "execution_count": 106,
   "metadata": {
    "collapsed": true
   },
   "outputs": [],
   "source": [
    "#############train_label\n",
    "Lobj_label_DATA_DIR = [\n",
    "    \"/media/smilewater/Disk/pywork/DL_HW1/dataset/labels/house/obj_left1.npy\",\n",
    "    \"/media/smilewater/Disk/pywork/DL_HW1/dataset/labels/house/obj_left2.npy\",\n",
    "    \"/media/smilewater/Disk/pywork/DL_HW1/dataset/labels/house/obj_left3.npy\",\n",
    "    \"/media/smilewater/Disk/pywork/DL_HW1/dataset/labels/lab/obj_left1.npy\",\n",
    "    \"/media/smilewater/Disk/pywork/DL_HW1/dataset/labels/lab/obj_left2.npy\",\n",
    "    \"/media/smilewater/Disk/pywork/DL_HW1/dataset/labels/lab/obj_left3.npy\",    \n",
    "    \"/media/smilewater/Disk/pywork/DL_HW1/dataset/labels/lab/obj_left4.npy\",\n",
    "    \"/media/smilewater/Disk/pywork/DL_HW1/dataset/labels/office/obj_left1.npy\",\n",
    "    \"/media/smilewater/Disk/pywork/DL_HW1/dataset/labels/office/obj_left2.npy\",\n",
    "    \"/media/smilewater/Disk/pywork/DL_HW1/dataset/labels/office/obj_left3.npy\"]\n",
    "Robj_label_DATA_DIR = [\n",
    "    \"/media/smilewater/Disk/pywork/DL_HW1/dataset/labels/house/obj_right1.npy\",\n",
    "    \"/media/smilewater/Disk/pywork/DL_HW1/dataset/labels/house/obj_right2.npy\",\n",
    "    \"/media/smilewater/Disk/pywork/DL_HW1/dataset/labels/house/obj_right3.npy\",\n",
    "    \"/media/smilewater/Disk/pywork/DL_HW1/dataset/labels/lab/obj_right1.npy\",\n",
    "    \"/media/smilewater/Disk/pywork/DL_HW1/dataset/labels/lab/obj_right2.npy\",\n",
    "    \"/media/smilewater/Disk/pywork/DL_HW1/dataset/labels/lab/obj_right3.npy\",    \n",
    "    \"/media/smilewater/Disk/pywork/DL_HW1/dataset/labels/lab/obj_right4.npy\",\n",
    "    \"/media/smilewater/Disk/pywork/DL_HW1/dataset/labels/office/obj_right1.npy\",\n",
    "    \"/media/smilewater/Disk/pywork/DL_HW1/dataset/labels/office/obj_right2.npy\",\n",
    "    \"/media/smilewater/Disk/pywork/DL_HW1/dataset/labels/office/obj_right3.npy\"]"
   ]
  },
  {
   "cell_type": "code",
   "execution_count": 107,
   "metadata": {
    "collapsed": true
   },
   "outputs": [],
   "source": [
    "Y_label=np.load(Lobj_label_DATA_DIR[0])\n",
    "Y_label_right=np.load(Robj_label_DATA_DIR[0])\n",
    "Y_label=np.concatenate((Y_label, Y_label_right), axis=0)\n",
    "\n",
    "for i in range(1,10,1):\n",
    "    tempx=np.load(Lobj_label_DATA_DIR[i])\n",
    "    Y_label=np.concatenate((Y_label, tempx), axis=0)\n",
    "    tempx=np.load(Robj_label_DATA_DIR[i])\n",
    "    Y_label=np.concatenate((Y_label, tempx), axis=0)"
   ]
  },
  {
   "cell_type": "code",
   "execution_count": 108,
   "metadata": {},
   "outputs": [
    {
     "data": {
      "text/plain": [
       "(14992,)"
      ]
     },
     "execution_count": 108,
     "metadata": {},
     "output_type": "execute_result"
    }
   ],
   "source": [
    "Y_label.shape"
   ]
  },
  {
   "cell_type": "code",
   "execution_count": 109,
   "metadata": {
    "collapsed": true
   },
   "outputs": [],
   "source": [
    "#############test_label\n",
    "Lobj_label_DATA_DIR = [\n",
    "    \"/media/smilewater/Disk/pywork/DL_HW1/dataset/labels/house/obj_left4.npy\",\n",
    "    \"/media/smilewater/Disk/pywork/DL_HW1/dataset/labels/house/obj_left5.npy\",\n",
    "    \"/media/smilewater/Disk/pywork/DL_HW1/dataset/labels/house/obj_left6.npy\",\n",
    "    \"/media/smilewater/Disk/pywork/DL_HW1/dataset/labels/lab/obj_left5.npy\",\n",
    "    \"/media/smilewater/Disk/pywork/DL_HW1/dataset/labels/lab/obj_left6.npy\",\n",
    "    \"/media/smilewater/Disk/pywork/DL_HW1/dataset/labels/lab/obj_left7.npy\",    \n",
    "    \"/media/smilewater/Disk/pywork/DL_HW1/dataset/labels/lab/obj_left8.npy\",\n",
    "    \"/media/smilewater/Disk/pywork/DL_HW1/dataset/labels/office/obj_left4.npy\",\n",
    "    \"/media/smilewater/Disk/pywork/DL_HW1/dataset/labels/office/obj_left5.npy\",\n",
    "    \"/media/smilewater/Disk/pywork/DL_HW1/dataset/labels/office/obj_left6.npy\"]\n",
    "Robj_label_DATA_DIR = [\n",
    "    \"/media/smilewater/Disk/pywork/DL_HW1/dataset/labels/house/obj_right4.npy\",\n",
    "    \"/media/smilewater/Disk/pywork/DL_HW1/dataset/labels/house/obj_right5.npy\",\n",
    "    \"/media/smilewater/Disk/pywork/DL_HW1/dataset/labels/house/obj_right6.npy\",\n",
    "    \"/media/smilewater/Disk/pywork/DL_HW1/dataset/labels/lab/obj_right5.npy\",\n",
    "    \"/media/smilewater/Disk/pywork/DL_HW1/dataset/labels/lab/obj_right6.npy\",\n",
    "    \"/media/smilewater/Disk/pywork/DL_HW1/dataset/labels/lab/obj_right7.npy\",    \n",
    "    \"/media/smilewater/Disk/pywork/DL_HW1/dataset/labels/lab/obj_right8.npy\",\n",
    "    \"/media/smilewater/Disk/pywork/DL_HW1/dataset/labels/office/obj_right4.npy\",\n",
    "    \"/media/smilewater/Disk/pywork/DL_HW1/dataset/labels/office/obj_right5.npy\",\n",
    "    \"/media/smilewater/Disk/pywork/DL_HW1/dataset/labels/office/obj_right6.npy\"]"
   ]
  },
  {
   "cell_type": "code",
   "execution_count": 110,
   "metadata": {
    "collapsed": true
   },
   "outputs": [],
   "source": [
    "Y_label2=np.load(Lobj_label_DATA_DIR[0])\n",
    "Y_label_right2=np.load(Robj_label_DATA_DIR[0])\n",
    "Y_label2=np.concatenate((Y_label2, Y_label_right2), axis=0)\n",
    "\n",
    "for i in range(1,10,1):\n",
    "    tempx=np.load(Lobj_label_DATA_DIR[i])\n",
    "    Y_label2=np.concatenate((Y_label2, tempx), axis=0)\n",
    "    tempx=np.load(Robj_label_DATA_DIR[i])\n",
    "    Y_label2=np.concatenate((Y_label2, tempx), axis=0)"
   ]
  },
  {
   "cell_type": "code",
   "execution_count": 111,
   "metadata": {},
   "outputs": [
    {
     "data": {
      "text/plain": [
       "(12776,)"
      ]
     },
     "execution_count": 111,
     "metadata": {},
     "output_type": "execute_result"
    }
   ],
   "source": [
    "Y_label2.shape"
   ]
  },
  {
   "cell_type": "code",
   "execution_count": null,
   "metadata": {
    "collapsed": true
   },
   "outputs": [],
   "source": []
  },
  {
   "cell_type": "code",
   "execution_count": 121,
   "metadata": {
    "collapsed": true
   },
   "outputs": [],
   "source": [
    "sX_train=X_train.copy()\n",
    "sX_test=X_test.copy()\n",
    "sY_train=Y_label.copy()\n",
    "sY_test=Y_label2.copy()"
   ]
  },
  {
   "cell_type": "code",
   "execution_count": 125,
   "metadata": {
    "collapsed": true
   },
   "outputs": [],
   "source": [
    "from sklearn.utils import shuffle\n",
    "sX_train, sY_train = shuffle(sX_train, sY_train, random_state=0)\n",
    "sX_test, sY_test = shuffle(sX_test, sY_test, random_state=0)"
   ]
  },
  {
   "cell_type": "code",
   "execution_count": 126,
   "metadata": {},
   "outputs": [
    {
     "data": {
      "text/plain": [
       "(14992, 32, 32, 3)"
      ]
     },
     "execution_count": 126,
     "metadata": {},
     "output_type": "execute_result"
    }
   ],
   "source": [
    "sX_train.shape"
   ]
  },
  {
   "cell_type": "code",
   "execution_count": 127,
   "metadata": {},
   "outputs": [
    {
     "data": {
      "text/plain": [
       "(14992,)"
      ]
     },
     "execution_count": 127,
     "metadata": {},
     "output_type": "execute_result"
    }
   ],
   "source": [
    "sY_train.shape"
   ]
  },
  {
   "cell_type": "code",
   "execution_count": 128,
   "metadata": {},
   "outputs": [
    {
     "data": {
      "text/plain": [
       "(12776, 32, 32, 3)"
      ]
     },
     "execution_count": 128,
     "metadata": {},
     "output_type": "execute_result"
    }
   ],
   "source": [
    "sX_test.shape"
   ]
  },
  {
   "cell_type": "code",
   "execution_count": 129,
   "metadata": {},
   "outputs": [
    {
     "data": {
      "text/plain": [
       "(12776,)"
      ]
     },
     "execution_count": 129,
     "metadata": {},
     "output_type": "execute_result"
    }
   ],
   "source": [
    "sY_test.shape"
   ]
  },
  {
   "cell_type": "code",
   "execution_count": 158,
   "metadata": {
    "collapsed": true
   },
   "outputs": [],
   "source": [
    "label_dict= { 0:'free',\n",
    "        1:'computer',\n",
    "        2:'cellphone',\n",
    "        3:'coin',\n",
    "        4:'ruler',\n",
    "        5:'thermos-bottle',\n",
    "        6:'whiteboard-pen',\n",
    "        7:'whiteboard-eraser',\n",
    "        8:'pen',\n",
    "        9:'cup',\n",
    "        10:'remote-control-TV',\n",
    "        11:'remote-control-AC',\n",
    "        12:'switch',\n",
    "        13:'windows',\n",
    "        14:'fridge',\n",
    "        15:'cupboard',\n",
    "        16:'water-tap',\n",
    "        17:'toy',\n",
    "        18:'kettle',\n",
    "        19:'bottle',\n",
    "        20:'cookie',\n",
    "        21:'book',\n",
    "        22:'magnet',\n",
    "        23:'lamp-switch'}"
   ]
  },
  {
   "cell_type": "code",
   "execution_count": 181,
   "metadata": {
    "collapsed": true
   },
   "outputs": [],
   "source": [
    "x_img_train=sX_train.copy()\n",
    "y_label_train=sY_train.copy()\n",
    "x_img_test=sX_test.copy()\n",
    "y_label_test=sY_test.copy()\n",
    "#y_label_train.reshape((len(y_label_train), 1))\n",
    "#y_label_test.reshape((len(y_label_test), 1))"
   ]
  },
  {
   "cell_type": "code",
   "execution_count": 182,
   "metadata": {},
   "outputs": [
    {
     "data": {
      "text/plain": [
       "(14992, 32, 32, 3)"
      ]
     },
     "execution_count": 182,
     "metadata": {},
     "output_type": "execute_result"
    }
   ],
   "source": [
    "x_img_train.shape"
   ]
  },
  {
   "cell_type": "code",
   "execution_count": 183,
   "metadata": {},
   "outputs": [
    {
     "data": {
      "text/plain": [
       "(14992,)"
      ]
     },
     "execution_count": 183,
     "metadata": {},
     "output_type": "execute_result"
    }
   ],
   "source": [
    "y_label_train.shape"
   ]
  },
  {
   "cell_type": "code",
   "execution_count": 184,
   "metadata": {},
   "outputs": [
    {
     "data": {
      "text/plain": [
       "(12776, 32, 32, 3)"
      ]
     },
     "execution_count": 184,
     "metadata": {},
     "output_type": "execute_result"
    }
   ],
   "source": [
    "x_img_test.shape"
   ]
  },
  {
   "cell_type": "code",
   "execution_count": 185,
   "metadata": {},
   "outputs": [
    {
     "data": {
      "text/plain": [
       "(12776,)"
      ]
     },
     "execution_count": 185,
     "metadata": {},
     "output_type": "execute_result"
    }
   ],
   "source": [
    "y_label_test.shape"
   ]
  },
  {
   "cell_type": "code",
   "execution_count": 188,
   "metadata": {
    "collapsed": true
   },
   "outputs": [],
   "source": [
    "import matplotlib.pyplot as plt\n",
    "def plot_images_labels_prediction(images,labels,prediction,\n",
    "                                  idx,num=10):\n",
    "    fig = plt.gcf()\n",
    "    fig.set_size_inches(12, 14)\n",
    "    if num>25: num=25 \n",
    "    for i in range(0, num):\n",
    "        ax=plt.subplot(5,5, 1+i)\n",
    "        ax.imshow(images[idx],cmap='binary')\n",
    "                \n",
    "        title=str(i)+','+label_dict[labels[i]]\n",
    "        if len(prediction)>0:\n",
    "            title+='=>'+label_dict[prediction[i]]\n",
    "            \n",
    "        ax.set_title(title,fontsize=10) \n",
    "        ax.set_xticks([]);ax.set_yticks([])        \n",
    "        idx+=1 \n",
    "    plt.show()"
   ]
  },
  {
   "cell_type": "code",
   "execution_count": 192,
   "metadata": {},
   "outputs": [
    {
     "data": {
      "image/png": "[encoded data removed]",
      "text/plain": [
       "<matplotlib.figure.Figure at 0x7f0d9cc615c0>"
      ]
     },
     "metadata": {},
     "output_type": "display_data"
    }
   ],
   "source": [
    "plot_images_labels_prediction(x_img_train,y_label_train,[],0)"
   ]
  },
  {
   "cell_type": "markdown",
   "metadata": {},
   "source": [
    "# Image normalize "
   ]
  },
  {
   "cell_type": "code",
   "execution_count": 193,
   "metadata": {},
   "outputs": [
    {
     "data": {
      "text/plain": [
       "array([160, 162, 176], dtype=uint8)"
      ]
     },
     "execution_count": 193,
     "metadata": {},
     "output_type": "execute_result"
    }
   ],
   "source": [
    "x_img_train[0][0][0]"
   ]
  },
  {
   "cell_type": "code",
   "execution_count": 194,
   "metadata": {
    "collapsed": true
   },
   "outputs": [],
   "source": [
    "x_img_train_normalize = x_img_train.astype('float32') / 255.0\n",
    "x_img_test_normalize = x_img_test.astype('float32') / 255.0"
   ]
  },
  {
   "cell_type": "code",
   "execution_count": 195,
   "metadata": {},
   "outputs": [
    {
     "data": {
      "text/plain": [
       "array([ 0.627451  ,  0.63529414,  0.6901961 ], dtype=float32)"
      ]
     },
     "execution_count": 195,
     "metadata": {},
     "output_type": "execute_result"
    }
   ],
   "source": [
    "x_img_train_normalize[0][0][0]"
   ]
  },
  {
   "cell_type": "markdown",
   "metadata": {},
   "source": [
    "# 轉換label 為OneHot Encoding"
   ]
  },
  {
   "cell_type": "code",
   "execution_count": 197,
   "metadata": {},
   "outputs": [
    {
     "data": {
      "text/plain": [
       "(14992,)"
      ]
     },
     "execution_count": 197,
     "metadata": {},
     "output_type": "execute_result"
    }
   ],
   "source": [
    "y_label_train.shape"
   ]
  },
  {
   "cell_type": "code",
   "execution_count": 198,
   "metadata": {},
   "outputs": [
    {
     "data": {
      "text/plain": [
       "array([ 6.,  5.,  9.,  0.,  0.])"
      ]
     },
     "execution_count": 198,
     "metadata": {},
     "output_type": "execute_result"
    }
   ],
   "source": [
    "y_label_train[:5]"
   ]
  },
  {
   "cell_type": "code",
   "execution_count": 199,
   "metadata": {},
   "outputs": [
    {
     "name": "stderr",
     "output_type": "stream",
     "text": [
      "Using TensorFlow backend.\n"
     ]
    }
   ],
   "source": [
    "from keras.utils import np_utils\n",
    "y_label_train_OneHot = np_utils.to_categorical(y_label_train)\n",
    "y_label_test_OneHot = np_utils.to_categorical(y_label_test)"
   ]
  },
  {
   "cell_type": "code",
   "execution_count": 200,
   "metadata": {},
   "outputs": [
    {
     "data": {
      "text/plain": [
       "(14992, 24)"
      ]
     },
     "execution_count": 200,
     "metadata": {},
     "output_type": "execute_result"
    }
   ],
   "source": [
    "y_label_train_OneHot.shape"
   ]
  },
  {
   "cell_type": "code",
   "execution_count": 201,
   "metadata": {},
   "outputs": [
    {
     "data": {
      "text/plain": [
       "array([[ 0.,  0.,  0.,  0.,  0.,  0.,  1.,  0.,  0.,  0.,  0.,  0.,  0.,\n",
       "         0.,  0.,  0.,  0.,  0.,  0.,  0.,  0.,  0.,  0.,  0.],\n",
       "       [ 0.,  0.,  0.,  0.,  0.,  1.,  0.,  0.,  0.,  0.,  0.,  0.,  0.,\n",
       "         0.,  0.,  0.,  0.,  0.,  0.,  0.,  0.,  0.,  0.,  0.],\n",
       "       [ 0.,  0.,  0.,  0.,  0.,  0.,  0.,  0.,  0.,  1.,  0.,  0.,  0.,\n",
       "         0.,  0.,  0.,  0.,  0.,  0.,  0.,  0.,  0.,  0.,  0.],\n",
       "       [ 1.,  0.,  0.,  0.,  0.,  0.,  0.,  0.,  0.,  0.,  0.,  0.,  0.,\n",
       "         0.,  0.,  0.,  0.,  0.,  0.,  0.,  0.,  0.,  0.,  0.],\n",
       "       [ 1.,  0.,  0.,  0.,  0.,  0.,  0.,  0.,  0.,  0.,  0.,  0.,  0.,\n",
       "         0.,  0.,  0.,  0.,  0.,  0.,  0.,  0.,  0.,  0.,  0.]])"
      ]
     },
     "execution_count": 201,
     "metadata": {},
     "output_type": "execute_result"
    }
   ],
   "source": [
    "y_label_train_OneHot[:5]"
   ]
  },
  {
   "cell_type": "code",
   "execution_count": 202,
   "metadata": {},
   "outputs": [
    {
     "data": {
      "text/plain": [
       "(14992, 32, 32, 3)"
      ]
     },
     "execution_count": 202,
     "metadata": {},
     "output_type": "execute_result"
    }
   ],
   "source": [
    "x_img_train.shape"
   ]
  },
  {
   "cell_type": "code",
   "execution_count": 203,
   "metadata": {},
   "outputs": [
    {
     "data": {
      "text/plain": [
       "numpy.ndarray"
      ]
     },
     "execution_count": 203,
     "metadata": {},
     "output_type": "execute_result"
    }
   ],
   "source": [
    "type(x_img_train)"
   ]
  },
  {
   "cell_type": "code",
   "execution_count": 204,
   "metadata": {},
   "outputs": [
    {
     "data": {
      "text/plain": [
       "numpy.ndarray"
      ]
     },
     "execution_count": 204,
     "metadata": {},
     "output_type": "execute_result"
    }
   ],
   "source": [
    "type(x_img_train[1])"
   ]
  },
  {
   "cell_type": "markdown",
   "metadata": {},
   "source": [
    "# 1. Import Library"
   ]
  },
  {
   "cell_type": "code",
   "execution_count": 205,
   "metadata": {},
   "outputs": [
    {
     "name": "stdout",
     "output_type": "stream",
     "text": [
      "train data: images: (14992, 32, 32, 3)  labels: (14992,)\n",
      "test  data: images: (12776, 32, 32, 3)  labels: (12776,)\n"
     ]
    }
   ],
   "source": [
    "print(\"train data:\",'images:',x_img_train.shape,\n",
    "      \" labels:\",y_label_train.shape) \n",
    "print(\"test  data:\",'images:',x_img_test.shape ,\n",
    "      \" labels:\",y_label_test.shape) "
   ]
  },
  {
   "cell_type": "markdown",
   "metadata": {},
   "source": [
    "# 建立模型"
   ]
  },
  {
   "cell_type": "code",
   "execution_count": 269,
   "metadata": {
    "collapsed": true
   },
   "outputs": [],
   "source": [
    "from keras.models import Sequential\n",
    "from keras.layers import Dense, Dropout, Activation, Flatten\n",
    "from keras.layers import Conv2D, MaxPooling2D, ZeroPadding2D"
   ]
  },
  {
   "cell_type": "code",
   "execution_count": 270,
   "metadata": {
    "collapsed": true
   },
   "outputs": [],
   "source": [
    "model = Sequential()"
   ]
  },
  {
   "cell_type": "code",
   "execution_count": 271,
   "metadata": {
    "collapsed": true
   },
   "outputs": [],
   "source": [
    "#卷積層1"
   ]
  },
  {
   "cell_type": "code",
   "execution_count": 272,
   "metadata": {
    "collapsed": true
   },
   "outputs": [],
   "source": [
    "model.add(Conv2D(filters=32,kernel_size=(3,3),\n",
    "                 input_shape=(32, 32,3), \n",
    "                 activation='relu', \n",
    "                 padding='same'))"
   ]
  },
  {
   "cell_type": "code",
   "execution_count": 273,
   "metadata": {
    "collapsed": true
   },
   "outputs": [],
   "source": [
    "model.add(Dropout(rate=0.25))"
   ]
  },
  {
   "cell_type": "code",
   "execution_count": 274,
   "metadata": {
    "collapsed": true
   },
   "outputs": [],
   "source": [
    "model.add(MaxPooling2D(pool_size=(2, 2)))"
   ]
  },
  {
   "cell_type": "code",
   "execution_count": 275,
   "metadata": {
    "collapsed": true
   },
   "outputs": [],
   "source": [
    "#卷積層2與池化層2"
   ]
  },
  {
   "cell_type": "code",
   "execution_count": 276,
   "metadata": {
    "collapsed": true
   },
   "outputs": [],
   "source": [
    "model.add(Conv2D(filters=64, kernel_size=(3, 3), \n",
    "                 activation='relu', padding='same'))"
   ]
  },
  {
   "cell_type": "code",
   "execution_count": 277,
   "metadata": {
    "collapsed": true
   },
   "outputs": [],
   "source": [
    "model.add(Dropout(0.25))"
   ]
  },
  {
   "cell_type": "code",
   "execution_count": 278,
   "metadata": {
    "collapsed": true
   },
   "outputs": [],
   "source": [
    "model.add(MaxPooling2D(pool_size=(2, 2)))"
   ]
  },
  {
   "cell_type": "code",
   "execution_count": 279,
   "metadata": {
    "collapsed": true
   },
   "outputs": [],
   "source": [
    "#Step3\t建立神經網路(平坦層、隱藏層、輸出層)"
   ]
  },
  {
   "cell_type": "code",
   "execution_count": 280,
   "metadata": {
    "collapsed": true
   },
   "outputs": [],
   "source": [
    "model.add(Flatten())\n",
    "model.add(Dropout(rate=0.25))"
   ]
  },
  {
   "cell_type": "code",
   "execution_count": 281,
   "metadata": {
    "collapsed": true
   },
   "outputs": [],
   "source": [
    "model.add(Dense(1024, activation='relu'))\n",
    "model.add(Dropout(rate=0.25))"
   ]
  },
  {
   "cell_type": "code",
   "execution_count": 282,
   "metadata": {
    "collapsed": true
   },
   "outputs": [],
   "source": [
    "model.add(Dense(24, activation='softmax'))"
   ]
  },
  {
   "cell_type": "code",
   "execution_count": 283,
   "metadata": {},
   "outputs": [
    {
     "name": "stdout",
     "output_type": "stream",
     "text": [
      "_________________________________________________________________\n",
      "Layer (type)                 Output Shape              Param #   \n",
      "=================================================================\n",
      "conv2d_5 (Conv2D)            (None, 32, 32, 32)        896       \n",
      "_________________________________________________________________\n",
      "dropout_9 (Dropout)          (None, 32, 32, 32)        0         \n",
      "_________________________________________________________________\n",
      "max_pooling2d_5 (MaxPooling2 (None, 16, 16, 32)        0         \n",
      "_________________________________________________________________\n",
      "conv2d_6 (Conv2D)            (None, 16, 16, 64)        18496     \n",
      "_________________________________________________________________\n",
      "dropout_10 (Dropout)         (None, 16, 16, 64)        0         \n",
      "_________________________________________________________________\n",
      "max_pooling2d_6 (MaxPooling2 (None, 8, 8, 64)          0         \n",
      "_________________________________________________________________\n",
      "flatten_3 (Flatten)          (None, 4096)              0         \n",
      "_________________________________________________________________\n",
      "dropout_11 (Dropout)         (None, 4096)              0         \n",
      "_________________________________________________________________\n",
      "dense_6 (Dense)              (None, 1024)              4195328   \n",
      "_________________________________________________________________\n",
      "dropout_12 (Dropout)         (None, 1024)              0         \n",
      "_________________________________________________________________\n",
      "dense_7 (Dense)              (None, 24)                24600     \n",
      "=================================================================\n",
      "Total params: 4,239,320\n",
      "Trainable params: 4,239,320\n",
      "Non-trainable params: 0\n",
      "_________________________________________________________________\n",
      "None\n"
     ]
    }
   ],
   "source": [
    "print(model.summary())"
   ]
  },
  {
   "cell_type": "code",
   "execution_count": 284,
   "metadata": {
    "collapsed": true
   },
   "outputs": [],
   "source": [
    "model.compile(loss='categorical_crossentropy',\n",
    "              optimizer='adam', metrics=['accuracy'])"
   ]
  },
  {
   "cell_type": "code",
   "execution_count": 285,
   "metadata": {},
   "outputs": [
    {
     "name": "stdout",
     "output_type": "stream",
     "text": [
      "Train on 11993 samples, validate on 2999 samples\n",
      "Epoch 1/10\n",
      "11993/11993 [==============================] - 1s - loss: 1.7695 - acc: 0.5145 - val_loss: 1.5660 - val_acc: 0.6029\n",
      "Epoch 2/10\n",
      "11993/11993 [==============================] - 1s - loss: 1.1135 - acc: 0.6588 - val_loss: 1.1345 - val_acc: 0.7082\n",
      "Epoch 3/10\n",
      "11993/11993 [==============================] - 1s - loss: 0.8255 - acc: 0.7406 - val_loss: 0.9191 - val_acc: 0.7619\n",
      "Epoch 4/10\n",
      "11993/11993 [==============================] - 1s - loss: 0.6542 - acc: 0.7910 - val_loss: 0.7954 - val_acc: 0.7933\n",
      "Epoch 5/10\n",
      "11993/11993 [==============================] - 1s - loss: 0.5082 - acc: 0.8326 - val_loss: 0.6619 - val_acc: 0.8283\n",
      "Epoch 6/10\n",
      "11993/11993 [==============================] - 1s - loss: 0.4290 - acc: 0.8580 - val_loss: 0.5843 - val_acc: 0.8349\n",
      "Epoch 7/10\n",
      "11993/11993 [==============================] - 1s - loss: 0.3497 - acc: 0.8819 - val_loss: 0.5265 - val_acc: 0.8510\n",
      "Epoch 8/10\n",
      "11993/11993 [==============================] - 1s - loss: 0.2941 - acc: 0.9020 - val_loss: 0.4877 - val_acc: 0.8710\n",
      "Epoch 9/10\n",
      "11993/11993 [==============================] - 1s - loss: 0.2553 - acc: 0.9084 - val_loss: 0.4454 - val_acc: 0.8730\n",
      "Epoch 10/10\n",
      "11993/11993 [==============================] - 1s - loss: 0.2101 - acc: 0.9276 - val_loss: 0.4419 - val_acc: 0.8730\n"
     ]
    }
   ],
   "source": [
    "train_history=model.fit(x_img_train_normalize, y_label_train_OneHot,\n",
    "                        validation_split=0.2,\n",
    "                        epochs=10, batch_size=128, verbose=1)          "
   ]
  },
  {
   "cell_type": "code",
   "execution_count": 286,
   "metadata": {
    "collapsed": true
   },
   "outputs": [],
   "source": [
    "import matplotlib.pyplot as plt\n",
    "def show_train_history(train_acc,test_acc):\n",
    "    plt.plot(train_history.history[train_acc])\n",
    "    plt.plot(train_history.history[test_acc])\n",
    "    plt.title('Train History')\n",
    "    plt.ylabel('Accuracy')\n",
    "    plt.xlabel('Epoch')\n",
    "    plt.legend(['train', 'test'], loc='upper left')\n",
    "    plt.show()"
   ]
  },
  {
   "cell_type": "code",
   "execution_count": 287,
   "metadata": {},
   "outputs": [
    {
     "data": {
      "image/png": "[encoded data removed]",
      "text/plain": [
       "<matplotlib.figure.Figure at 0x7f0cec16e518>"
      ]
     },
     "metadata": {},
     "output_type": "display_data"
    }
   ],
   "source": [
    "show_train_history('acc','val_acc')"
   ]
  },
  {
   "cell_type": "code",
   "execution_count": 288,
   "metadata": {},
   "outputs": [
    {
     "data": {
      "image/png": "[encoded data removed]",
      "text/plain": [
       "<matplotlib.figure.Figure at 0x7f0cb00d72b0>"
      ]
     },
     "metadata": {},
     "output_type": "display_data"
    }
   ],
   "source": [
    "show_train_history('loss','val_loss')"
   ]
  },
  {
   "cell_type": "markdown",
   "metadata": {},
   "source": [
    "# 評估模型準確率"
   ]
  },
  {
   "cell_type": "code",
   "execution_count": 289,
   "metadata": {},
   "outputs": [
    {
     "data": {
      "text/plain": [
       "0.52927363807138383"
      ]
     },
     "execution_count": 289,
     "metadata": {},
     "output_type": "execute_result"
    }
   ],
   "source": [
    "scores = model.evaluate(x_img_test_normalize, \n",
    "                        y_label_test_OneHot, verbose=0)\n",
    "scores[1]"
   ]
  },
  {
   "cell_type": "code",
   "execution_count": 292,
   "metadata": {},
   "outputs": [
    {
     "name": "stdout",
     "output_type": "stream",
     "text": [
      "12320/12776 [===========================>..] - ETA: 0s"
     ]
    }
   ],
   "source": [
    "prediction=model.predict_classes(x_img_test_normalize)"
   ]
  },
  {
   "cell_type": "code",
   "execution_count": 294,
   "metadata": {},
   "outputs": [
    {
     "data": {
      "text/plain": [
       "array([0, 0, 0, 0, 0, 8, 0, 0, 0, 0, 0, 0, 5, 0, 0, 1, 1, 5, 0, 0, 6, 0, 0,\n",
       "       0])"
      ]
     },
     "execution_count": 294,
     "metadata": {},
     "output_type": "execute_result"
    }
   ],
   "source": [
    "prediction[:24]"
   ]
  },
  {
   "cell_type": "code",
   "execution_count": null,
   "metadata": {
    "collapsed": true
   },
   "outputs": [],
   "source": []
  },
  {
   "cell_type": "code",
   "execution_count": 297,
   "metadata": {
    "collapsed": true
   },
   "outputs": [],
   "source": [
    "import matplotlib.pyplot as plt\n",
    "def plot_images_labels_prediction(images,labels,prediction,\n",
    "                                  idx,num=24):\n",
    "    fig = plt.gcf()\n",
    "    fig.set_size_inches(12, 14)\n",
    "    if num>25: num=25 \n",
    "    for i in range(0, num):\n",
    "        ax=plt.subplot(5,5, 1+i)\n",
    "        ax.imshow(images[idx],cmap='binary')\n",
    "                \n",
    "        title=str(i)+','+label_dict[labels[i]]\n",
    "        if len(prediction)>0:\n",
    "            title+='=>'+label_dict[prediction[i]]\n",
    "            \n",
    "        ax.set_title(title,fontsize=10) \n",
    "        ax.set_xticks([]);ax.set_yticks([])        \n",
    "        idx+=1 \n",
    "    plt.show()"
   ]
  },
  {
   "cell_type": "code",
   "execution_count": 298,
   "metadata": {},
   "outputs": [
    {
     "data": {
      "image/png": "[encoded data removed]",
      "text/plain": [
       "<matplotlib.figure.Figure at 0x7f0c9466d198>"
      ]
     },
     "metadata": {},
     "output_type": "display_data"
    }
   ],
   "source": [
    "plot_images_labels_prediction(x_img_test,y_label_test,\n",
    "                              prediction,0,10)"
   ]
  },
  {
   "cell_type": "code",
   "execution_count": 299,
   "metadata": {
    "collapsed": true
   },
   "outputs": [],
   "source": [
    "Predicted_Probability=model.predict(x_img_test_normalize)"
   ]
  },
  {
   "cell_type": "code",
   "execution_count": 306,
   "metadata": {
    "collapsed": true
   },
   "outputs": [],
   "source": [
    "def show_Predicted_Probability(y,prediction,\n",
    "                               x_img,Predicted_Probability,i):\n",
    "    print('label:',label_dict[y[i]],\n",
    "          ', predict:',label_dict[prediction[i]])\n",
    "    plt.figure(figsize=(2,2))\n",
    "    plt.imshow(np.reshape(x_img_test[i],(32, 32,3)))\n",
    "    plt.show()\n",
    "    for j in range(24):\n",
    "        print(label_dict[j]+\n",
    "              ' Probability:%1.9f'%(Predicted_Probability[i][j]))"
   ]
  },
  {
   "cell_type": "code",
   "execution_count": 307,
   "metadata": {},
   "outputs": [
    {
     "name": "stdout",
     "output_type": "stream",
     "text": [
      "label: kettle , predict: free\n"
     ]
    },
    {
     "data": {
      "image/png": "[encoded data removed]",
      "text/plain": [
       "<matplotlib.figure.Figure at 0x7f0c945f1898>"
      ]
     },
     "metadata": {},
     "output_type": "display_data"
    },
    {
     "name": "stdout",
     "output_type": "stream",
     "text": [
      "free Probability:0.966325402\n",
      "computer Probability:0.000848814\n",
      "cellphone Probability:0.000143039\n",
      "coin Probability:0.000020503\n",
      "ruler Probability:0.000001738\n",
      "thermos-bottle Probability:0.000399393\n",
      "whiteboard-pen Probability:0.000267881\n",
      "whiteboard-eraser Probability:0.000304220\n",
      "pen Probability:0.000065437\n",
      "cup Probability:0.000862713\n",
      "remote-control-TV Probability:0.002192083\n",
      "remote-control-AC Probability:0.004504142\n",
      "switch Probability:0.000641287\n",
      "windows Probability:0.000337114\n",
      "fridge Probability:0.000449975\n",
      "cupboard Probability:0.000233302\n",
      "water-tap Probability:0.000036433\n",
      "toy Probability:0.002191048\n",
      "kettle Probability:0.017498801\n",
      "bottle Probability:0.000147495\n",
      "cookie Probability:0.002006916\n",
      "book Probability:0.000504992\n",
      "magnet Probability:0.000002467\n",
      "lamp-switch Probability:0.000014944\n"
     ]
    }
   ],
   "source": [
    "show_Predicted_Probability(y_label_test,prediction,\n",
    "                           x_img_test,Predicted_Probability,0)"
   ]
  },
  {
   "cell_type": "code",
   "execution_count": 308,
   "metadata": {},
   "outputs": [
    {
     "name": "stdout",
     "output_type": "stream",
     "text": [
      "label: free , predict: free\n"
     ]
    },
    {
     "data": {
      "image/png": "[encoded data removed]",
      "text/plain": [
       "<matplotlib.figure.Figure at 0x7f0c941e2dd8>"
      ]
     },
     "metadata": {},
     "output_type": "display_data"
    },
    {
     "name": "stdout",
     "output_type": "stream",
     "text": [
      "free Probability:0.958537579\n",
      "computer Probability:0.000355113\n",
      "cellphone Probability:0.000102063\n",
      "coin Probability:0.000021138\n",
      "ruler Probability:0.000000803\n",
      "thermos-bottle Probability:0.002054598\n",
      "whiteboard-pen Probability:0.001683328\n",
      "whiteboard-eraser Probability:0.001356832\n",
      "pen Probability:0.000082617\n",
      "cup Probability:0.022529231\n",
      "remote-control-TV Probability:0.000099990\n",
      "remote-control-AC Probability:0.000247052\n",
      "switch Probability:0.000069870\n",
      "windows Probability:0.000169126\n",
      "fridge Probability:0.000981999\n",
      "cupboard Probability:0.000058004\n",
      "water-tap Probability:0.001368642\n",
      "toy Probability:0.000410672\n",
      "kettle Probability:0.008113503\n",
      "bottle Probability:0.000051848\n",
      "cookie Probability:0.000571650\n",
      "book Probability:0.001121567\n",
      "magnet Probability:0.000005570\n",
      "lamp-switch Probability:0.000007121\n"
     ]
    }
   ],
   "source": [
    "show_Predicted_Probability(y_label_test,prediction,\n",
    "                           x_img_test,Predicted_Probability,3)"
   ]
  },
  {
   "cell_type": "code",
   "execution_count": 327,
   "metadata": {},
   "outputs": [
    {
     "data": {
      "text/plain": [
       "(12776,)"
      ]
     },
     "execution_count": 327,
     "metadata": {},
     "output_type": "execute_result"
    }
   ],
   "source": [
    "prediction.shape"
   ]
  },
  {
   "cell_type": "code",
   "execution_count": 328,
   "metadata": {},
   "outputs": [
    {
     "data": {
      "text/plain": [
       "(12776,)"
      ]
     },
     "execution_count": 328,
     "metadata": {},
     "output_type": "execute_result"
    }
   ],
   "source": [
    "y_label_test.shape"
   ]
  },
  {
   "cell_type": "code",
   "execution_count": 332,
   "metadata": {},
   "outputs": [
    {
     "data": {
      "text/plain": [
       "array([ 18.,   0.,   9., ...,   0.,   0.,   0.])"
      ]
     },
     "execution_count": 332,
     "metadata": {},
     "output_type": "execute_result"
    }
   ],
   "source": [
    "y_label_test"
   ]
  },
  {
   "cell_type": "code",
   "execution_count": 333,
   "metadata": {},
   "outputs": [
    {
     "name": "stdout",
     "output_type": "stream",
     "text": [
      "{0: 'free', 1: 'computer', 2: 'cellphone', 3: 'coin', 4: 'ruler', 5: 'thermos-bottle', 6: 'whiteboard-pen', 7: 'whiteboard-eraser', 8: 'pen', 9: 'cup', 10: 'remote-control-TV', 11: 'remote-control-AC', 12: 'switch', 13: 'windows', 14: 'fridge', 15: 'cupboard', 16: 'water-tap', 17: 'toy', 18: 'kettle', 19: 'bottle', 20: 'cookie', 21: 'book', 22: 'magnet', 23: 'lamp-switch'}\n"
     ]
    }
   ],
   "source": [
    "import pandas as pd\n",
    "print(label_dict)\n",
    "refusion_matrix=pd.crosstab(y_label_test,prediction,\n",
    "            rownames=['label'],colnames=['predict'])"
   ]
  },
  {
   "cell_type": "code",
   "execution_count": 334,
   "metadata": {},
   "outputs": [
    {
     "data": {
      "text/plain": [
       "pandas.core.frame.DataFrame"
      ]
     },
     "execution_count": 334,
     "metadata": {},
     "output_type": "execute_result"
    }
   ],
   "source": [
    "type(refusion_matrix)"
   ]
  },
  {
   "cell_type": "code",
   "execution_count": 335,
   "metadata": {},
   "outputs": [
    {
     "data": {
      "text/html": [
       "<div>\n",
       "<style>\n",
       "    .dataframe thead tr:only-child th {\n",
       "        text-align: right;\n",
       "    }\n",
       "\n",
       "    .dataframe thead th {\n",
       "        text-align: left;\n",
       "    }\n",
       "\n",
       "    .dataframe tbody tr th {\n",
       "        vertical-align: top;\n",
       "    }\n",
       "</style>\n",
       "<table border=\"1\" class=\"dataframe\">\n",
       "  <thead>\n",
       "    <tr style=\"text-align: right;\">\n",
       "      <th>predict</th>\n",
       "      <th>0</th>\n",
       "      <th>1</th>\n",
       "      <th>2</th>\n",
       "      <th>3</th>\n",
       "      <th>4</th>\n",
       "      <th>5</th>\n",
       "      <th>6</th>\n",
       "      <th>7</th>\n",
       "      <th>8</th>\n",
       "      <th>9</th>\n",
       "      <th>...</th>\n",
       "      <th>11</th>\n",
       "      <th>12</th>\n",
       "      <th>14</th>\n",
       "      <th>15</th>\n",
       "      <th>17</th>\n",
       "      <th>18</th>\n",
       "      <th>19</th>\n",
       "      <th>20</th>\n",
       "      <th>21</th>\n",
       "      <th>22</th>\n",
       "    </tr>\n",
       "    <tr>\n",
       "      <th>label</th>\n",
       "      <th></th>\n",
       "      <th></th>\n",
       "      <th></th>\n",
       "      <th></th>\n",
       "      <th></th>\n",
       "      <th></th>\n",
       "      <th></th>\n",
       "      <th></th>\n",
       "      <th></th>\n",
       "      <th></th>\n",
       "      <th></th>\n",
       "      <th></th>\n",
       "      <th></th>\n",
       "      <th></th>\n",
       "      <th></th>\n",
       "      <th></th>\n",
       "      <th></th>\n",
       "      <th></th>\n",
       "      <th></th>\n",
       "      <th></th>\n",
       "      <th></th>\n",
       "    </tr>\n",
       "  </thead>\n",
       "  <tbody>\n",
       "    <tr>\n",
       "      <th>0.0</th>\n",
       "      <td>5567</td>\n",
       "      <td>87</td>\n",
       "      <td>11</td>\n",
       "      <td>1</td>\n",
       "      <td>1</td>\n",
       "      <td>99</td>\n",
       "      <td>101</td>\n",
       "      <td>39</td>\n",
       "      <td>50</td>\n",
       "      <td>252</td>\n",
       "      <td>...</td>\n",
       "      <td>0</td>\n",
       "      <td>3</td>\n",
       "      <td>0</td>\n",
       "      <td>1</td>\n",
       "      <td>3</td>\n",
       "      <td>27</td>\n",
       "      <td>24</td>\n",
       "      <td>11</td>\n",
       "      <td>97</td>\n",
       "      <td>3</td>\n",
       "    </tr>\n",
       "    <tr>\n",
       "      <th>1.0</th>\n",
       "      <td>339</td>\n",
       "      <td>155</td>\n",
       "      <td>0</td>\n",
       "      <td>0</td>\n",
       "      <td>0</td>\n",
       "      <td>8</td>\n",
       "      <td>0</td>\n",
       "      <td>7</td>\n",
       "      <td>12</td>\n",
       "      <td>15</td>\n",
       "      <td>...</td>\n",
       "      <td>0</td>\n",
       "      <td>0</td>\n",
       "      <td>0</td>\n",
       "      <td>0</td>\n",
       "      <td>0</td>\n",
       "      <td>0</td>\n",
       "      <td>0</td>\n",
       "      <td>0</td>\n",
       "      <td>29</td>\n",
       "      <td>0</td>\n",
       "    </tr>\n",
       "    <tr>\n",
       "      <th>2.0</th>\n",
       "      <td>137</td>\n",
       "      <td>2</td>\n",
       "      <td>87</td>\n",
       "      <td>0</td>\n",
       "      <td>0</td>\n",
       "      <td>0</td>\n",
       "      <td>0</td>\n",
       "      <td>0</td>\n",
       "      <td>48</td>\n",
       "      <td>3</td>\n",
       "      <td>...</td>\n",
       "      <td>0</td>\n",
       "      <td>0</td>\n",
       "      <td>0</td>\n",
       "      <td>0</td>\n",
       "      <td>0</td>\n",
       "      <td>0</td>\n",
       "      <td>0</td>\n",
       "      <td>0</td>\n",
       "      <td>0</td>\n",
       "      <td>0</td>\n",
       "    </tr>\n",
       "    <tr>\n",
       "      <th>3.0</th>\n",
       "      <td>196</td>\n",
       "      <td>6</td>\n",
       "      <td>4</td>\n",
       "      <td>3</td>\n",
       "      <td>0</td>\n",
       "      <td>0</td>\n",
       "      <td>0</td>\n",
       "      <td>0</td>\n",
       "      <td>6</td>\n",
       "      <td>0</td>\n",
       "      <td>...</td>\n",
       "      <td>0</td>\n",
       "      <td>0</td>\n",
       "      <td>0</td>\n",
       "      <td>0</td>\n",
       "      <td>0</td>\n",
       "      <td>0</td>\n",
       "      <td>0</td>\n",
       "      <td>0</td>\n",
       "      <td>0</td>\n",
       "      <td>0</td>\n",
       "    </tr>\n",
       "    <tr>\n",
       "      <th>4.0</th>\n",
       "      <td>150</td>\n",
       "      <td>2</td>\n",
       "      <td>0</td>\n",
       "      <td>0</td>\n",
       "      <td>0</td>\n",
       "      <td>0</td>\n",
       "      <td>0</td>\n",
       "      <td>0</td>\n",
       "      <td>4</td>\n",
       "      <td>0</td>\n",
       "      <td>...</td>\n",
       "      <td>0</td>\n",
       "      <td>0</td>\n",
       "      <td>0</td>\n",
       "      <td>0</td>\n",
       "      <td>0</td>\n",
       "      <td>0</td>\n",
       "      <td>0</td>\n",
       "      <td>0</td>\n",
       "      <td>0</td>\n",
       "      <td>0</td>\n",
       "    </tr>\n",
       "    <tr>\n",
       "      <th>5.0</th>\n",
       "      <td>300</td>\n",
       "      <td>10</td>\n",
       "      <td>0</td>\n",
       "      <td>0</td>\n",
       "      <td>0</td>\n",
       "      <td>156</td>\n",
       "      <td>9</td>\n",
       "      <td>1</td>\n",
       "      <td>5</td>\n",
       "      <td>80</td>\n",
       "      <td>...</td>\n",
       "      <td>0</td>\n",
       "      <td>0</td>\n",
       "      <td>0</td>\n",
       "      <td>0</td>\n",
       "      <td>0</td>\n",
       "      <td>1</td>\n",
       "      <td>0</td>\n",
       "      <td>3</td>\n",
       "      <td>11</td>\n",
       "      <td>0</td>\n",
       "    </tr>\n",
       "    <tr>\n",
       "      <th>6.0</th>\n",
       "      <td>260</td>\n",
       "      <td>0</td>\n",
       "      <td>0</td>\n",
       "      <td>0</td>\n",
       "      <td>0</td>\n",
       "      <td>7</td>\n",
       "      <td>372</td>\n",
       "      <td>36</td>\n",
       "      <td>0</td>\n",
       "      <td>5</td>\n",
       "      <td>...</td>\n",
       "      <td>0</td>\n",
       "      <td>0</td>\n",
       "      <td>0</td>\n",
       "      <td>0</td>\n",
       "      <td>0</td>\n",
       "      <td>0</td>\n",
       "      <td>0</td>\n",
       "      <td>0</td>\n",
       "      <td>0</td>\n",
       "      <td>0</td>\n",
       "    </tr>\n",
       "    <tr>\n",
       "      <th>7.0</th>\n",
       "      <td>63</td>\n",
       "      <td>0</td>\n",
       "      <td>0</td>\n",
       "      <td>0</td>\n",
       "      <td>0</td>\n",
       "      <td>4</td>\n",
       "      <td>7</td>\n",
       "      <td>44</td>\n",
       "      <td>0</td>\n",
       "      <td>0</td>\n",
       "      <td>...</td>\n",
       "      <td>0</td>\n",
       "      <td>0</td>\n",
       "      <td>0</td>\n",
       "      <td>0</td>\n",
       "      <td>0</td>\n",
       "      <td>0</td>\n",
       "      <td>0</td>\n",
       "      <td>0</td>\n",
       "      <td>0</td>\n",
       "      <td>0</td>\n",
       "    </tr>\n",
       "    <tr>\n",
       "      <th>8.0</th>\n",
       "      <td>257</td>\n",
       "      <td>19</td>\n",
       "      <td>3</td>\n",
       "      <td>0</td>\n",
       "      <td>1</td>\n",
       "      <td>2</td>\n",
       "      <td>0</td>\n",
       "      <td>0</td>\n",
       "      <td>83</td>\n",
       "      <td>4</td>\n",
       "      <td>...</td>\n",
       "      <td>0</td>\n",
       "      <td>0</td>\n",
       "      <td>0</td>\n",
       "      <td>0</td>\n",
       "      <td>0</td>\n",
       "      <td>0</td>\n",
       "      <td>2</td>\n",
       "      <td>0</td>\n",
       "      <td>4</td>\n",
       "      <td>0</td>\n",
       "    </tr>\n",
       "    <tr>\n",
       "      <th>9.0</th>\n",
       "      <td>696</td>\n",
       "      <td>19</td>\n",
       "      <td>6</td>\n",
       "      <td>0</td>\n",
       "      <td>0</td>\n",
       "      <td>95</td>\n",
       "      <td>22</td>\n",
       "      <td>0</td>\n",
       "      <td>5</td>\n",
       "      <td>106</td>\n",
       "      <td>...</td>\n",
       "      <td>0</td>\n",
       "      <td>0</td>\n",
       "      <td>0</td>\n",
       "      <td>0</td>\n",
       "      <td>0</td>\n",
       "      <td>4</td>\n",
       "      <td>18</td>\n",
       "      <td>2</td>\n",
       "      <td>21</td>\n",
       "      <td>0</td>\n",
       "    </tr>\n",
       "    <tr>\n",
       "      <th>10.0</th>\n",
       "      <td>130</td>\n",
       "      <td>10</td>\n",
       "      <td>0</td>\n",
       "      <td>0</td>\n",
       "      <td>0</td>\n",
       "      <td>5</td>\n",
       "      <td>0</td>\n",
       "      <td>0</td>\n",
       "      <td>1</td>\n",
       "      <td>1</td>\n",
       "      <td>...</td>\n",
       "      <td>0</td>\n",
       "      <td>0</td>\n",
       "      <td>0</td>\n",
       "      <td>0</td>\n",
       "      <td>0</td>\n",
       "      <td>0</td>\n",
       "      <td>0</td>\n",
       "      <td>0</td>\n",
       "      <td>3</td>\n",
       "      <td>0</td>\n",
       "    </tr>\n",
       "    <tr>\n",
       "      <th>11.0</th>\n",
       "      <td>81</td>\n",
       "      <td>0</td>\n",
       "      <td>0</td>\n",
       "      <td>0</td>\n",
       "      <td>0</td>\n",
       "      <td>1</td>\n",
       "      <td>0</td>\n",
       "      <td>0</td>\n",
       "      <td>0</td>\n",
       "      <td>2</td>\n",
       "      <td>...</td>\n",
       "      <td>14</td>\n",
       "      <td>0</td>\n",
       "      <td>0</td>\n",
       "      <td>0</td>\n",
       "      <td>6</td>\n",
       "      <td>0</td>\n",
       "      <td>0</td>\n",
       "      <td>0</td>\n",
       "      <td>0</td>\n",
       "      <td>0</td>\n",
       "    </tr>\n",
       "    <tr>\n",
       "      <th>12.0</th>\n",
       "      <td>13</td>\n",
       "      <td>0</td>\n",
       "      <td>0</td>\n",
       "      <td>0</td>\n",
       "      <td>0</td>\n",
       "      <td>0</td>\n",
       "      <td>0</td>\n",
       "      <td>0</td>\n",
       "      <td>0</td>\n",
       "      <td>0</td>\n",
       "      <td>...</td>\n",
       "      <td>0</td>\n",
       "      <td>2</td>\n",
       "      <td>0</td>\n",
       "      <td>0</td>\n",
       "      <td>0</td>\n",
       "      <td>0</td>\n",
       "      <td>0</td>\n",
       "      <td>0</td>\n",
       "      <td>0</td>\n",
       "      <td>0</td>\n",
       "    </tr>\n",
       "    <tr>\n",
       "      <th>13.0</th>\n",
       "      <td>41</td>\n",
       "      <td>0</td>\n",
       "      <td>0</td>\n",
       "      <td>0</td>\n",
       "      <td>0</td>\n",
       "      <td>0</td>\n",
       "      <td>0</td>\n",
       "      <td>0</td>\n",
       "      <td>0</td>\n",
       "      <td>0</td>\n",
       "      <td>...</td>\n",
       "      <td>0</td>\n",
       "      <td>0</td>\n",
       "      <td>0</td>\n",
       "      <td>0</td>\n",
       "      <td>0</td>\n",
       "      <td>0</td>\n",
       "      <td>0</td>\n",
       "      <td>0</td>\n",
       "      <td>0</td>\n",
       "      <td>0</td>\n",
       "    </tr>\n",
       "    <tr>\n",
       "      <th>14.0</th>\n",
       "      <td>59</td>\n",
       "      <td>0</td>\n",
       "      <td>0</td>\n",
       "      <td>0</td>\n",
       "      <td>0</td>\n",
       "      <td>2</td>\n",
       "      <td>0</td>\n",
       "      <td>0</td>\n",
       "      <td>0</td>\n",
       "      <td>8</td>\n",
       "      <td>...</td>\n",
       "      <td>0</td>\n",
       "      <td>0</td>\n",
       "      <td>1</td>\n",
       "      <td>0</td>\n",
       "      <td>0</td>\n",
       "      <td>7</td>\n",
       "      <td>2</td>\n",
       "      <td>1</td>\n",
       "      <td>0</td>\n",
       "      <td>0</td>\n",
       "    </tr>\n",
       "    <tr>\n",
       "      <th>15.0</th>\n",
       "      <td>28</td>\n",
       "      <td>0</td>\n",
       "      <td>0</td>\n",
       "      <td>0</td>\n",
       "      <td>0</td>\n",
       "      <td>0</td>\n",
       "      <td>4</td>\n",
       "      <td>3</td>\n",
       "      <td>0</td>\n",
       "      <td>0</td>\n",
       "      <td>...</td>\n",
       "      <td>0</td>\n",
       "      <td>0</td>\n",
       "      <td>0</td>\n",
       "      <td>34</td>\n",
       "      <td>0</td>\n",
       "      <td>7</td>\n",
       "      <td>0</td>\n",
       "      <td>0</td>\n",
       "      <td>0</td>\n",
       "      <td>0</td>\n",
       "    </tr>\n",
       "    <tr>\n",
       "      <th>16.0</th>\n",
       "      <td>16</td>\n",
       "      <td>0</td>\n",
       "      <td>0</td>\n",
       "      <td>0</td>\n",
       "      <td>0</td>\n",
       "      <td>0</td>\n",
       "      <td>0</td>\n",
       "      <td>0</td>\n",
       "      <td>0</td>\n",
       "      <td>0</td>\n",
       "      <td>...</td>\n",
       "      <td>0</td>\n",
       "      <td>0</td>\n",
       "      <td>0</td>\n",
       "      <td>0</td>\n",
       "      <td>0</td>\n",
       "      <td>0</td>\n",
       "      <td>0</td>\n",
       "      <td>0</td>\n",
       "      <td>0</td>\n",
       "      <td>0</td>\n",
       "    </tr>\n",
       "    <tr>\n",
       "      <th>17.0</th>\n",
       "      <td>91</td>\n",
       "      <td>6</td>\n",
       "      <td>0</td>\n",
       "      <td>0</td>\n",
       "      <td>0</td>\n",
       "      <td>1</td>\n",
       "      <td>7</td>\n",
       "      <td>0</td>\n",
       "      <td>0</td>\n",
       "      <td>1</td>\n",
       "      <td>...</td>\n",
       "      <td>0</td>\n",
       "      <td>0</td>\n",
       "      <td>0</td>\n",
       "      <td>0</td>\n",
       "      <td>18</td>\n",
       "      <td>0</td>\n",
       "      <td>6</td>\n",
       "      <td>4</td>\n",
       "      <td>5</td>\n",
       "      <td>0</td>\n",
       "    </tr>\n",
       "    <tr>\n",
       "      <th>18.0</th>\n",
       "      <td>579</td>\n",
       "      <td>3</td>\n",
       "      <td>0</td>\n",
       "      <td>0</td>\n",
       "      <td>0</td>\n",
       "      <td>13</td>\n",
       "      <td>0</td>\n",
       "      <td>0</td>\n",
       "      <td>5</td>\n",
       "      <td>66</td>\n",
       "      <td>...</td>\n",
       "      <td>0</td>\n",
       "      <td>0</td>\n",
       "      <td>0</td>\n",
       "      <td>0</td>\n",
       "      <td>0</td>\n",
       "      <td>65</td>\n",
       "      <td>0</td>\n",
       "      <td>1</td>\n",
       "      <td>4</td>\n",
       "      <td>0</td>\n",
       "    </tr>\n",
       "    <tr>\n",
       "      <th>19.0</th>\n",
       "      <td>356</td>\n",
       "      <td>8</td>\n",
       "      <td>0</td>\n",
       "      <td>0</td>\n",
       "      <td>0</td>\n",
       "      <td>27</td>\n",
       "      <td>5</td>\n",
       "      <td>0</td>\n",
       "      <td>5</td>\n",
       "      <td>23</td>\n",
       "      <td>...</td>\n",
       "      <td>0</td>\n",
       "      <td>0</td>\n",
       "      <td>0</td>\n",
       "      <td>0</td>\n",
       "      <td>1</td>\n",
       "      <td>0</td>\n",
       "      <td>0</td>\n",
       "      <td>10</td>\n",
       "      <td>4</td>\n",
       "      <td>0</td>\n",
       "    </tr>\n",
       "    <tr>\n",
       "      <th>20.0</th>\n",
       "      <td>152</td>\n",
       "      <td>4</td>\n",
       "      <td>1</td>\n",
       "      <td>0</td>\n",
       "      <td>0</td>\n",
       "      <td>6</td>\n",
       "      <td>12</td>\n",
       "      <td>0</td>\n",
       "      <td>0</td>\n",
       "      <td>22</td>\n",
       "      <td>...</td>\n",
       "      <td>0</td>\n",
       "      <td>0</td>\n",
       "      <td>0</td>\n",
       "      <td>0</td>\n",
       "      <td>0</td>\n",
       "      <td>0</td>\n",
       "      <td>3</td>\n",
       "      <td>10</td>\n",
       "      <td>0</td>\n",
       "      <td>0</td>\n",
       "    </tr>\n",
       "    <tr>\n",
       "      <th>21.0</th>\n",
       "      <td>239</td>\n",
       "      <td>8</td>\n",
       "      <td>1</td>\n",
       "      <td>0</td>\n",
       "      <td>0</td>\n",
       "      <td>8</td>\n",
       "      <td>3</td>\n",
       "      <td>1</td>\n",
       "      <td>1</td>\n",
       "      <td>7</td>\n",
       "      <td>...</td>\n",
       "      <td>0</td>\n",
       "      <td>0</td>\n",
       "      <td>0</td>\n",
       "      <td>0</td>\n",
       "      <td>0</td>\n",
       "      <td>0</td>\n",
       "      <td>0</td>\n",
       "      <td>0</td>\n",
       "      <td>27</td>\n",
       "      <td>0</td>\n",
       "    </tr>\n",
       "    <tr>\n",
       "      <th>22.0</th>\n",
       "      <td>6</td>\n",
       "      <td>0</td>\n",
       "      <td>0</td>\n",
       "      <td>0</td>\n",
       "      <td>0</td>\n",
       "      <td>1</td>\n",
       "      <td>26</td>\n",
       "      <td>4</td>\n",
       "      <td>0</td>\n",
       "      <td>0</td>\n",
       "      <td>...</td>\n",
       "      <td>0</td>\n",
       "      <td>0</td>\n",
       "      <td>0</td>\n",
       "      <td>0</td>\n",
       "      <td>0</td>\n",
       "      <td>0</td>\n",
       "      <td>0</td>\n",
       "      <td>0</td>\n",
       "      <td>0</td>\n",
       "      <td>0</td>\n",
       "    </tr>\n",
       "    <tr>\n",
       "      <th>23.0</th>\n",
       "      <td>39</td>\n",
       "      <td>0</td>\n",
       "      <td>0</td>\n",
       "      <td>0</td>\n",
       "      <td>0</td>\n",
       "      <td>0</td>\n",
       "      <td>3</td>\n",
       "      <td>3</td>\n",
       "      <td>1</td>\n",
       "      <td>0</td>\n",
       "      <td>...</td>\n",
       "      <td>0</td>\n",
       "      <td>0</td>\n",
       "      <td>0</td>\n",
       "      <td>0</td>\n",
       "      <td>0</td>\n",
       "      <td>0</td>\n",
       "      <td>0</td>\n",
       "      <td>0</td>\n",
       "      <td>0</td>\n",
       "      <td>0</td>\n",
       "    </tr>\n",
       "  </tbody>\n",
       "</table>\n",
       "<p>24 rows × 21 columns</p>\n",
       "</div>"
      ],
      "text/plain": [
       "predict    0    1   2   3   4    5    6   7   8    9  ...  11  12  14  15  17  \\\n",
       "label                                                 ...                       \n",
       "0.0      5567   87  11   1   1   99  101  39  50  252 ...   0   3   0   1   3   \n",
       "1.0       339  155   0   0   0    8    0   7  12   15 ...   0   0   0   0   0   \n",
       "2.0       137    2  87   0   0    0    0   0  48    3 ...   0   0   0   0   0   \n",
       "3.0       196    6   4   3   0    0    0   0   6    0 ...   0   0   0   0   0   \n",
       "4.0       150    2   0   0   0    0    0   0   4    0 ...   0   0   0   0   0   \n",
       "5.0       300   10   0   0   0  156    9   1   5   80 ...   0   0   0   0   0   \n",
       "6.0       260    0   0   0   0    7  372  36   0    5 ...   0   0   0   0   0   \n",
       "7.0        63    0   0   0   0    4    7  44   0    0 ...   0   0   0   0   0   \n",
       "8.0       257   19   3   0   1    2    0   0  83    4 ...   0   0   0   0   0   \n",
       "9.0       696   19   6   0   0   95   22   0   5  106 ...   0   0   0   0   0   \n",
       "10.0      130   10   0   0   0    5    0   0   1    1 ...   0   0   0   0   0   \n",
       "11.0       81    0   0   0   0    1    0   0   0    2 ...  14   0   0   0   6   \n",
       "12.0       13    0   0   0   0    0    0   0   0    0 ...   0   2   0   0   0   \n",
       "13.0       41    0   0   0   0    0    0   0   0    0 ...   0   0   0   0   0   \n",
       "14.0       59    0   0   0   0    2    0   0   0    8 ...   0   0   1   0   0   \n",
       "15.0       28    0   0   0   0    0    4   3   0    0 ...   0   0   0  34   0   \n",
       "16.0       16    0   0   0   0    0    0   0   0    0 ...   0   0   0   0   0   \n",
       "17.0       91    6   0   0   0    1    7   0   0    1 ...   0   0   0   0  18   \n",
       "18.0      579    3   0   0   0   13    0   0   5   66 ...   0   0   0   0   0   \n",
       "19.0      356    8   0   0   0   27    5   0   5   23 ...   0   0   0   0   1   \n",
       "20.0      152    4   1   0   0    6   12   0   0   22 ...   0   0   0   0   0   \n",
       "21.0      239    8   1   0   0    8    3   1   1    7 ...   0   0   0   0   0   \n",
       "22.0        6    0   0   0   0    1   26   4   0    0 ...   0   0   0   0   0   \n",
       "23.0       39    0   0   0   0    0    3   3   1    0 ...   0   0   0   0   0   \n",
       "\n",
       "predict  18  19  20  21  22  \n",
       "label                        \n",
       "0.0      27  24  11  97   3  \n",
       "1.0       0   0   0  29   0  \n",
       "2.0       0   0   0   0   0  \n",
       "3.0       0   0   0   0   0  \n",
       "4.0       0   0   0   0   0  \n",
       "5.0       1   0   3  11   0  \n",
       "6.0       0   0   0   0   0  \n",
       "7.0       0   0   0   0   0  \n",
       "8.0       0   2   0   4   0  \n",
       "9.0       4  18   2  21   0  \n",
       "10.0      0   0   0   3   0  \n",
       "11.0      0   0   0   0   0  \n",
       "12.0      0   0   0   0   0  \n",
       "13.0      0   0   0   0   0  \n",
       "14.0      7   2   1   0   0  \n",
       "15.0      7   0   0   0   0  \n",
       "16.0      0   0   0   0   0  \n",
       "17.0      0   6   4   5   0  \n",
       "18.0     65   0   1   4   0  \n",
       "19.0      0   0  10   4   0  \n",
       "20.0      0   3  10   0   0  \n",
       "21.0      0   0   0  27   0  \n",
       "22.0      0   0   0   0   0  \n",
       "23.0      0   0   0   0   0  \n",
       "\n",
       "[24 rows x 21 columns]"
      ]
     },
     "execution_count": 335,
     "metadata": {},
     "output_type": "execute_result"
    }
   ],
   "source": [
    "refusion_matrix"
   ]
  },
  {
   "cell_type": "code",
   "execution_count": 320,
   "metadata": {
    "collapsed": true
   },
   "outputs": [],
   "source": [
    "refusion_matrix.to_csv(\"refusion_matrix.csv\")"
   ]
  },
  {
   "cell_type": "code",
   "execution_count": null,
   "metadata": {
    "collapsed": true
   },
   "outputs": [],
   "source": []
  }
 ],
 "metadata": {
  "kernelspec": {
   "display_name": "Python 3",
   "language": "python",
   "name": "python3"
  },
  "language_info": {
   "codemirror_mode": {
    "name": "ipython",
    "version": 3
   },
   "file_extension": ".py",
   "mimetype": "text/x-python",
   "name": "python",
   "nbconvert_exporter": "python",
   "pygments_lexer": "ipython3",
   "version": "3.6.1"
  }
 },
 "nbformat": 4,
 "nbformat_minor": 2
}
