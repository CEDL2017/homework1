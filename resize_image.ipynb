{
 "cells": [
  {
   "cell_type": "code",
   "execution_count": 7,
   "metadata": {
    "collapsed": true
   },
   "outputs": [],
   "source": [
    "import os\n",
    "import numpy as np\n",
    "\n",
    "from tqdm import tqdm\n",
    "from joblib import Parallel, delayed\n",
    "from skimage.io import imread, imshow, imsave\n",
    "from skimage.transform import resize\n",
    "from skimage.exposure import rescale_intensity\n",
    "from data_helper import load_image_paths\n",
    "\n",
    "%matplotlib inline"
   ]
  },
  {
   "cell_type": "code",
   "execution_count": 2,
   "metadata": {},
   "outputs": [],
   "source": [
    "IMAGE_FOLDER_PATH = 'dataset/frames/'\n",
    "\n",
    "image_paths = load_image_paths(image_folder_path=IMAGE_FOLDER_PATH,\n",
    "                               data_type='train',\n",
    "                               label_type='obj',\n",
    "                               image_type='left')\n",
    "\n",
    "image_paths += load_image_paths(image_folder_path=IMAGE_FOLDER_PATH,\n",
    "                                data_type='train',\n",
    "                                label_type='obj',\n",
    "                                image_type='right')\n",
    "\n",
    "image_paths += load_image_paths(image_folder_path=IMAGE_FOLDER_PATH,\n",
    "                                data_type='train',\n",
    "                                label_type='obj',\n",
    "                                image_type='head')\n",
    "\n",
    "image_paths += load_image_paths(image_folder_path=IMAGE_FOLDER_PATH,\n",
    "                                data_type='test',\n",
    "                                label_type='obj',\n",
    "                                image_type='left')\n",
    "\n",
    "image_paths += load_image_paths(image_folder_path=IMAGE_FOLDER_PATH,\n",
    "                                data_type='test',\n",
    "                                label_type='obj',\n",
    "                                image_type='right')\n",
    "\n",
    "image_paths += load_image_paths(image_folder_path=IMAGE_FOLDER_PATH,\n",
    "                                data_type='test',\n",
    "                                label_type='obj',\n",
    "                                image_type='head')"
   ]
  },
  {
   "cell_type": "code",
   "execution_count": 3,
   "metadata": {},
   "outputs": [
    {
     "data": {
      "text/plain": [
       "41652"
      ]
     },
     "execution_count": 3,
     "metadata": {},
     "output_type": "execute_result"
    }
   ],
   "source": [
    "len(image_paths)"
   ]
  },
  {
   "cell_type": "code",
   "execution_count": 38,
   "metadata": {},
   "outputs": [],
   "source": [
    "def preprocess(image_path, smallest_size=256):\n",
    "    image = imread(image_path)\n",
    "    \n",
    "    # Resize image.\n",
    "    height, width = float(image.shape[0]), float(image.shape[1])\n",
    "    scale = smallest_size / width if (height > width) else smallest_size / height\n",
    "    new_height = int(height*scale)\n",
    "    new_width = int(width*scale)\n",
    "    resized_image = resize(image, output_shape=(new_height, new_width))\n",
    "    \n",
    "    # Normalize to 0-255 uint8\n",
    "    resized_image = rescale_intensity(resized_image, out_range=(0, 255)).astype(np.uint8)\n",
    "    \n",
    "    # Save image\n",
    "    # Create a new path for saving.\n",
    "    dataset_folder_idx = [i for i, name in enumerate(image_path.split('/')) if name == 'dataset'][0]\n",
    "    resized_folder_idx = dataset_folder_idx + 1\n",
    "    \n",
    "    f_names = image_path.split('/')\n",
    "    f_names.insert(resized_folder_idx, 'resized')\n",
    "    \n",
    "    resized_image_path = os.path.join(*f_names)\n",
    "    resized_image_folder = os.path.join(*resized_image_path.split('/')[:-1])\n",
    "    \n",
    "    # Handle race condition when making directory.\n",
    "    if not os.path.exists(resized_image_folder):\n",
    "        while True:\n",
    "            try:\n",
    "                os.makedirs(resized_image_folder)\n",
    "                break\n",
    "            except: pass\n",
    "    \n",
    "    imsave(resized_image_path, resized_image)\n",
    "    \n",
    "def preprocess_in_batch(image_paths):\n",
    "    for image_path in image_paths:\n",
    "        preprocess(image_path)\n",
    "\n",
    "def preprocess_in_parallel(image_paths, num_splits=100, num_job=-1):\n",
    "    batch_size = len(image_paths) // num_splits + 1\n",
    "    with Parallel(n_jobs=num_job, backend='threading', verbose=50) as parallel:\n",
    "        parallel(delayed(preprocess_in_batch)(image_paths[i*batch_size:(i+1)*batch_size]) \n",
    "                 for i in range(num_splits))"
   ]
  },
  {
   "cell_type": "code",
   "execution_count": null,
   "metadata": {},
   "outputs": [
    {
     "name": "stderr",
     "output_type": "stream",
     "text": [
      "/home/howard/.conda/envs/cedl2017/lib/python3.6/site-packages/skimage/transform/_warps.py:84: UserWarning: The default mode, 'constant', will be changed to 'reflect' in skimage 0.15.\n",
      "  warn(\"The default mode, 'constant', will be changed to 'reflect' in \"\n"
     ]
    },
    {
     "name": "stdout",
     "output_type": "stream",
     "text": [
      "[Parallel(n_jobs=-1)]: Done   1 tasks      | elapsed:  5.2min\n",
      "[Parallel(n_jobs=-1)]: Done   2 tasks      | elapsed:  5.4min\n",
      "[Parallel(n_jobs=-1)]: Done   3 tasks      | elapsed:  5.4min\n",
      "[Parallel(n_jobs=-1)]: Done   4 tasks      | elapsed:  5.5min\n",
      "[Parallel(n_jobs=-1)]: Done   5 tasks      | elapsed:  5.7min\n",
      "[Parallel(n_jobs=-1)]: Done   6 tasks      | elapsed:  5.8min\n",
      "[Parallel(n_jobs=-1)]: Done   7 tasks      | elapsed:  5.8min\n"
     ]
    }
   ],
   "source": [
    "preprocess_in_parallel(image_paths)"
   ]
  },
  {
   "cell_type": "code",
   "execution_count": null,
   "metadata": {
    "collapsed": true
   },
   "outputs": [],
   "source": []
  }
 ],
 "metadata": {
  "kernelspec": {
   "display_name": "Python 3",
   "language": "python",
   "name": "python3"
  },
  "language_info": {
   "codemirror_mode": {
    "name": "ipython",
    "version": 3
   },
   "file_extension": ".py",
   "mimetype": "text/x-python",
   "name": "python",
   "nbconvert_exporter": "python",
   "pygments_lexer": "ipython3",
   "version": "3.6.2"
  }
 },
 "nbformat": 4,
 "nbformat_minor": 2
}
