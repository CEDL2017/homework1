{
 "cells": [
  {
   "cell_type": "code",
   "execution_count": 1,
   "metadata": {},
   "outputs": [],
   "source": [
    "import os\n",
    "import numpy as np\n",
    "\n",
    "from skimage.io import imread, imshow, imsave\n",
    "from skimage.transform import resize\n",
    "from skimage.exposure import rescale_intensity\n",
    "from data_helper import load_image_paths\n",
    "\n",
    "%matplotlib inline"
   ]
  },
  {
   "cell_type": "code",
   "execution_count": 2,
   "metadata": {},
   "outputs": [
    {
     "ename": "FileNotFoundError",
     "evalue": "[Errno 2] No such file or directory: 'dataset/frames/train/lab/1/Lhand'",
     "output_type": "error",
     "traceback": [
      "\u001b[0;31m---------------------------------------------------------------------------\u001b[0m",
      "\u001b[0;31mFileNotFoundError\u001b[0m                         Traceback (most recent call last)",
      "\u001b[0;32m<ipython-input-2-dd8f3f77a764>\u001b[0m in \u001b[0;36m<module>\u001b[0;34m()\u001b[0m\n\u001b[1;32m      4\u001b[0m                                \u001b[0mdata_type\u001b[0m\u001b[0;34m=\u001b[0m\u001b[0;34m'train'\u001b[0m\u001b[0;34m,\u001b[0m\u001b[0;34m\u001b[0m\u001b[0m\n\u001b[1;32m      5\u001b[0m                                \u001b[0mlabel_type\u001b[0m\u001b[0;34m=\u001b[0m\u001b[0;34m'obj'\u001b[0m\u001b[0;34m,\u001b[0m\u001b[0;34m\u001b[0m\u001b[0m\n\u001b[0;32m----> 6\u001b[0;31m                                image_type='left')\n\u001b[0m\u001b[1;32m      7\u001b[0m \u001b[0;34m\u001b[0m\u001b[0m\n\u001b[1;32m      8\u001b[0m image_paths += load_image_paths(image_folder_path=IMAGE_FOLDER_PATH,\n",
      "\u001b[0;32m~/cedl2017/homework1/data_helper.py\u001b[0m in \u001b[0;36mload_image_paths\u001b[0;34m(image_folder_path, data_type, label_type, image_type)\u001b[0m\n\u001b[1;32m     76\u001b[0m         \u001b[0mscene_type\u001b[0m\u001b[0;34m,\u001b[0m \u001b[0msplit_id\u001b[0m \u001b[0;34m=\u001b[0m \u001b[0mtup\u001b[0m\u001b[0;34m\u001b[0m\u001b[0m\n\u001b[1;32m     77\u001b[0m         \u001b[0mtarget_folder_path\u001b[0m \u001b[0;34m=\u001b[0m \u001b[0mos\u001b[0m\u001b[0;34m.\u001b[0m\u001b[0mpath\u001b[0m\u001b[0;34m.\u001b[0m\u001b[0mjoin\u001b[0m\u001b[0;34m(\u001b[0m\u001b[0mimage_folder_path\u001b[0m\u001b[0;34m,\u001b[0m \u001b[0mdata_type\u001b[0m\u001b[0;34m,\u001b[0m \u001b[0mscene_type\u001b[0m\u001b[0;34m,\u001b[0m \u001b[0mstr\u001b[0m\u001b[0;34m(\u001b[0m\u001b[0msplit_id\u001b[0m\u001b[0;34m)\u001b[0m\u001b[0;34m,\u001b[0m \u001b[0mimage_type\u001b[0m\u001b[0;34m)\u001b[0m\u001b[0;34m\u001b[0m\u001b[0m\n\u001b[0;32m---> 78\u001b[0;31m         \u001b[0mfile_names\u001b[0m \u001b[0;34m=\u001b[0m \u001b[0mos\u001b[0m\u001b[0;34m.\u001b[0m\u001b[0mlistdir\u001b[0m\u001b[0;34m(\u001b[0m\u001b[0mtarget_folder_path\u001b[0m\u001b[0;34m)\u001b[0m\u001b[0;34m\u001b[0m\u001b[0m\n\u001b[0m\u001b[1;32m     79\u001b[0m         \u001b[0mfile_names\u001b[0m \u001b[0;34m=\u001b[0m \u001b[0msorted\u001b[0m\u001b[0;34m(\u001b[0m\u001b[0mfile_names\u001b[0m\u001b[0;34m,\u001b[0m \u001b[0mkey\u001b[0m\u001b[0;34m=\u001b[0m\u001b[0;32mlambda\u001b[0m \u001b[0mx\u001b[0m\u001b[0;34m:\u001b[0m \u001b[0mint\u001b[0m\u001b[0;34m(\u001b[0m\u001b[0mre\u001b[0m\u001b[0;34m.\u001b[0m\u001b[0msub\u001b[0m\u001b[0;34m(\u001b[0m\u001b[0;34m'\\D'\u001b[0m\u001b[0;34m,\u001b[0m \u001b[0;34m''\u001b[0m\u001b[0;34m,\u001b[0m \u001b[0mx\u001b[0m\u001b[0;34m)\u001b[0m\u001b[0;34m)\u001b[0m\u001b[0;34m)\u001b[0m\u001b[0;34m\u001b[0m\u001b[0m\n\u001b[1;32m     80\u001b[0m         \u001b[0mimage_paths\u001b[0m\u001b[0;34m.\u001b[0m\u001b[0mextend\u001b[0m\u001b[0;34m(\u001b[0m\u001b[0;34m[\u001b[0m\u001b[0mos\u001b[0m\u001b[0;34m.\u001b[0m\u001b[0mpath\u001b[0m\u001b[0;34m.\u001b[0m\u001b[0mjoin\u001b[0m\u001b[0;34m(\u001b[0m\u001b[0mtarget_folder_path\u001b[0m\u001b[0;34m,\u001b[0m \u001b[0mfile_name\u001b[0m\u001b[0;34m)\u001b[0m \u001b[0;32mfor\u001b[0m \u001b[0mfile_name\u001b[0m \u001b[0;32min\u001b[0m \u001b[0mfile_names\u001b[0m\u001b[0;34m]\u001b[0m\u001b[0;34m)\u001b[0m\u001b[0;34m\u001b[0m\u001b[0m\n",
      "\u001b[0;31mFileNotFoundError\u001b[0m: [Errno 2] No such file or directory: 'dataset/frames/train/lab/1/Lhand'"
     ]
    }
   ],
   "source": [
    "IMAGE_FOLDER_PATH = 'dataset/frames/'\n",
    "\n",
    "image_paths = load_image_paths(image_folder_path=IMAGE_FOLDER_PATH,\n",
    "                               data_type='train',\n",
    "                               label_type='obj',\n",
    "                               image_type='left')\n",
    "\n",
    "image_paths += load_image_paths(image_folder_path=IMAGE_FOLDER_PATH,\n",
    "                                data_type='train',\n",
    "                                label_type='obj',\n",
    "                                image_type='right')\n",
    "\n",
    "image_paths += load_image_paths(image_folder_path=IMAGE_FOLDER_PATH,\n",
    "                                data_type='train',\n",
    "                                label_type='obj',\n",
    "                                image_type='head')\n",
    "\n",
    "image_paths += load_image_paths(image_folder_path=IMAGE_FOLDER_PATH,\n",
    "                                data_type='test',\n",
    "                                label_type='obj',\n",
    "                                image_type='left')\n",
    "\n",
    "image_paths += load_image_paths(image_folder_path=IMAGE_FOLDER_PATH,\n",
    "                                data_type='test',\n",
    "                                label_type='obj',\n",
    "                                image_type='right')\n",
    "\n",
    "image_paths += load_image_paths(image_folder_path=IMAGE_FOLDER_PATH,\n",
    "                                data_type='test',\n",
    "                                label_type='obj',\n",
    "                                image_type='head')"
   ]
  },
  {
   "cell_type": "code",
   "execution_count": 111,
   "metadata": {},
   "outputs": [],
   "source": [
    "def resize_and_save_image(image_path, smallest_size=256):\n",
    "    image = imread(image_path)\n",
    "    \n",
    "    # Resize image.\n",
    "    height, width = float(image.shape[0]), float(image.shape[1])\n",
    "    scale = smallest_size / width if (height > width) else smallest_size / height\n",
    "    new_height = int(height*scale)\n",
    "    new_width = int(width*scale)\n",
    "    image = resize(image, output_shape=(new_height, new_width))\n",
    "    \n",
    "    # Normalize to 0-255 uint8\n",
    "    image = rescale_intensity(image, out_range=(0, 255)).astype(np.uint8)\n",
    "    \n",
    "    # Save image\n",
    "    # Create a new path for saving.\n",
    "    dataset_folder_idx = [i for i, name in enumerate(image_path.split('/')) if name == 'dataset'][0]\n",
    "    resized_folder_idx = dataset_folder_idx + 1\n",
    "    \n",
    "    f_names = image_path.split('/')\n",
    "    f_names.insert(resized_folder_idx, 'resized')\n",
    "    \n",
    "    resized_image_path = os.path.join(*f_names)\n",
    "    resized_image_folder = os.path.join(*resized_image_path.split('/')[:-1])\n",
    "    \n",
    "    if not os.path.exists(resized_image_folder):\n",
    "        os.makedirs(resized_image_folder)\n",
    "    \n",
    "    imsave(resized_image_path, resized_image)"
   ]
  },
  {
   "cell_type": "code",
   "execution_count": null,
   "metadata": {
    "collapsed": true
   },
   "outputs": [],
   "source": []
  },
  {
   "cell_type": "code",
   "execution_count": null,
   "metadata": {
    "collapsed": true
   },
   "outputs": [],
   "source": []
  }
 ],
 "metadata": {
  "kernelspec": {
   "display_name": "Python 3",
   "language": "python",
   "name": "python3"
  },
  "language_info": {
   "codemirror_mode": {
    "name": "ipython",
    "version": 3
   },
   "file_extension": ".py",
   "mimetype": "text/x-python",
   "name": "python",
   "nbconvert_exporter": "python",
   "pygments_lexer": "ipython3",
   "version": "3.6.2"
  }
 },
 "nbformat": 4,
 "nbformat_minor": 2
}
