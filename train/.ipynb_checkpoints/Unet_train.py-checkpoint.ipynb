{
 "cells": [
  {
   "cell_type": "code",
   "execution_count": null,
   "metadata": {},
   "outputs": [],
   "source": [
    "import _init_paths\n",
    "from data_helper import readUNetData\n",
    "from unet import UNet\n",
    "from config import *\n",
    "import numpy as np\n",
    "import cv2\n",
    "\n",
    "# Read data\n",
    "(train_x, train_y), (test_x, test_y) = readUNetData() \n",
    "model = UNet(img_height, img_width, save_path=model_path + unet_model_name)\n",
    "train_x.astype('float32')\n",
    "train_y.astype('float32')\n",
    "\n",
    "# Train\n",
    "model.compile()\n",
    "model.train(train_x, train_y)"
   ]
  }
 ],
 "metadata": {
  "kernelspec": {
   "display_name": "Python 2",
   "language": "python",
   "name": "python2"
  },
  "language_info": {
   "codemirror_mode": {
    "name": "ipython",
    "version": 2
   },
   "file_extension": ".py",
   "mimetype": "text/x-python",
   "name": "python",
   "nbconvert_exporter": "python",
   "pygments_lexer": "ipython2",
   "version": "2.7.12"
  }
 },
 "nbformat": 4,
 "nbformat_minor": 2
}
