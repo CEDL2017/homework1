{
 "cells": [
  {
   "cell_type": "markdown",
   "metadata": {},
   "source": [
    "### Load training, validation and testing data"
   ]
  },
  {
   "cell_type": "code",
   "execution_count": 1,
   "metadata": {
    "collapsed": true
   },
   "outputs": [],
   "source": [
    "from data_helper import load_dataset"
   ]
  },
  {
   "cell_type": "code",
   "execution_count": 2,
   "metadata": {},
   "outputs": [
    {
     "name": "stdout",
     "output_type": "stream",
     "text": [
      "----------------------------------------------------------------------------------------------------\n",
      "[Train (Head)] number of image paths: 12744\n",
      "[Train (Hand)] number of image paths: 12744\n",
      "[Train (Label)] number of labels: 12744\n",
      "----------------------------------------------------------------------------------------------------\n",
      "[Validation (Head)] number of image paths: 2248\n",
      "[Validation (Hand)] number of image paths: 2248\n",
      "[Validation (Label)] number of labels: 2248\n",
      "----------------------------------------------------------------------------------------------------\n",
      "[Test (Head)] number of image paths: 12776\n",
      "[Test (Hand)] number of image paths: 12776\n",
      "[Test (Label)] number of labels: 12776\n"
     ]
    }
   ],
   "source": [
    "IMAGE_FOLDER_PATH = 'dataset/resized/frames/'\n",
    "LABEL_FOLDER_PATH = 'dataset/labels/'\n",
    "\n",
    "train_head_image_paths, train_hand_image_paths, train_labels, \\\n",
    "val_head_image_paths, val_hand_image_paths, val_labels, \\\n",
    "test_head_image_paths, test_hand_image_paths, test_labels = load_dataset(image_folder_path=IMAGE_FOLDER_PATH,\n",
    "                                                                         label_folder_path=LABEL_FOLDER_PATH,\n",
    "                                                                         label_type='obj',\n",
    "                                                                         hand_types=['left', 'right'],\n",
    "                                                                         with_head=True,\n",
    "                                                                         validation_split_ratio=0.15)\n",
    "\n",
    "# Only take hand image paths for baseline\n",
    "train_image_paths =  train_hand_image_paths\n",
    "val_image_paths = val_hand_image_paths\n",
    "test_image_paths = test_hand_image_paths"
   ]
  },
  {
   "cell_type": "markdown",
   "metadata": {},
   "source": [
    "### Use Tensorflow to build computational graph"
   ]
  },
  {
   "cell_type": "code",
   "execution_count": 3,
   "metadata": {
    "collapsed": true
   },
   "outputs": [],
   "source": [
    "import numpy as np\n",
    "import tensorflow as tf\n",
    "import tensorflow.contrib.slim as slim\n",
    "import tensorflow.contrib.slim.nets\n",
    "import vgg_preprocessing"
   ]
  },
  {
   "cell_type": "code",
   "execution_count": 4,
   "metadata": {
    "collapsed": true
   },
   "outputs": [],
   "source": [
    "PRETRAINED_VGG_MODEL_PATH = 'model/vgg_16.ckpt'\n",
    "MODEL_PATH = 'model/hand_obj_vgg_16/hand_obj_vgg_16_model'\n",
    "\n",
    "num_classes = 24\n",
    "batch_size = 32\n",
    "num_workers = 20\n",
    "max_epochs1 = 20\n",
    "max_epochs2 = 20\n",
    "max_patience = 3 # For early stopping\n",
    "learning_rate1 = 1e-3\n",
    "learning_rate2 = 1e-5\n",
    "dropout_keep_prob = 0.5\n",
    "weight_decay = 5e-4"
   ]
  },
  {
   "cell_type": "code",
   "execution_count": 5,
   "metadata": {},
   "outputs": [
    {
     "name": "stdout",
     "output_type": "stream",
     "text": [
      "CPU times: user 1.86 s, sys: 12 ms, total: 1.87 s\n",
      "Wall time: 1.87 s\n"
     ]
    }
   ],
   "source": [
    "%%time\n",
    "\n",
    "def dataset_map_fn(image_path, label, is_training):\n",
    "    # Load image\n",
    "    image_string = tf.read_file(image_path)\n",
    "    image_decoded = tf.image.decode_png(image_string, channels=3)\n",
    "    image = tf.cast(image_decoded, tf.float32)\n",
    "    # Preprocess image\n",
    "    preprocessed_image = tf.cond(is_training,\n",
    "                                 true_fn=lambda: vgg_preprocessing.preprocess_image(image, 224, 224, is_training=True),\n",
    "                                 false_fn=lambda: vgg_preprocessing.preprocess_image(image, 224, 224, is_training=False))\n",
    "    return preprocessed_image, label\n",
    "\n",
    "graph = tf.Graph()\n",
    "with graph.as_default():\n",
    "    # ---------------------------------------------------------------------\n",
    "    # Indicates whether we are in training or in test mode\n",
    "    # Since VGG16 has applied `dropout`, we need to disable it when testing.\n",
    "    is_training = tf.placeholder(dtype=tf.bool, name='is_training')\n",
    "    \n",
    "    # Training, validation, testing data to feed in.\n",
    "    image_paths = tf.placeholder(dtype=tf.string, shape=(None,), name='image_paths')\n",
    "    labels = tf.placeholder(dtype=tf.int32, shape=(None,), name='labels')\n",
    "    \n",
    "    # Use dataset API to automatically generate batch data by iterator.\n",
    "    dataset = tf.contrib.data.Dataset.from_tensor_slices((image_paths, labels))\n",
    "    dataset = dataset.map(lambda image_path, label: dataset_map_fn(image_path, label, is_training))\n",
    "    dataset = dataset.shuffle(buffer_size=10000)\n",
    "    batched_dataset = dataset.batch(batch_size)\n",
    "    \n",
    "    # Now we define an iterator that can operator on dataset.\n",
    "    # The iterator can be reinitialized by calling:\n",
    "    # sess.run(dataset_init_op, feed_dict={image_paths=train_image_paths, labels=train_labels}) \n",
    "    # for 1 epoch on the training set.\n",
    "    \n",
    "    # Once this is done, we don't need to feed any value for images and labels\n",
    "    # as they are automatically pulled out from the iterator queues.\n",
    "\n",
    "    # A reinitializable iterator is defined by its structure. We could use the\n",
    "    # `output_types` and `output_shapes` properties of dataset.\n",
    "    # The dataset will be fed with training, validation or testing data.\n",
    "    iterator = tf.contrib.data.Iterator.from_structure(batched_dataset.output_types,\n",
    "                                                       batched_dataset.output_shapes)\n",
    "    \n",
    "    # A batch of data to feed into the networks.\n",
    "    batch_images, batch_labels = iterator.get_next()\n",
    "    dataset_init_op = iterator.make_initializer(batched_dataset)\n",
    "    \n",
    "    # ---------------------------------------------------------------------\n",
    "    # Now that we have set up the data, it's time to set up the model.\n",
    "    # For this example, we'll use VGG-16 pretrained on ImageNet. We will remove the\n",
    "    # last fully connected layer (fc8) and replace it with our own, with an\n",
    "    # output size `num_classes`\n",
    "    # We will first train the last layer for a few epochs.\n",
    "    # Then we will train the entire model on our dataset for a few epochs.\n",
    "\n",
    "    # Get the pretrained model, specifying the num_classes argument to create a new\n",
    "    # fully connected replacing the last one, called \"vgg_16/fc8\"\n",
    "    # Each model has a different architecture, so \"vgg_16/fc8\" will change in another model.\n",
    "    # Here, logits gives us directly the predicted scores we wanted from the images.\n",
    "    # We pass a scope to initialize \"vgg_16/fc8\" weights with he_initializer\n",
    "    vgg = tf.contrib.slim.nets.vgg\n",
    "    with slim.arg_scope(vgg.vgg_arg_scope(weight_decay=weight_decay)):\n",
    "        logits, _ = vgg.vgg_16(batch_images, num_classes=num_classes, is_training=is_training,\n",
    "                               dropout_keep_prob=dropout_keep_prob)\n",
    "    \n",
    "    # Restore only the layers up to fc7 (included)\n",
    "    # Calling function `init_fn(sess)` will load all the pretrained weights.\n",
    "    variables_to_restore = tf.contrib.framework.get_variables_to_restore(exclude=['vgg_16/fc8'])\n",
    "    init_fn = tf.contrib.framework.assign_from_checkpoint_fn(PRETRAINED_VGG_MODEL_PATH, variables_to_restore)\n",
    "\n",
    "    # Initialization operation from scratch for the new \"fc8\" layers\n",
    "    # `get_variables` will only return the variables whose name starts with the given pattern\n",
    "    fc8_variables = tf.contrib.framework.get_variables('vgg_16/fc8')\n",
    "    fc8_init = tf.variables_initializer(fc8_variables)\n",
    "    \n",
    "    # ---------------------------------------------------------------------\n",
    "    # Using tf.losses, any loss is added to the tf.GraphKeys.LOSSES collection\n",
    "    # We can then call the total loss easily\n",
    "    tf.losses.sparse_softmax_cross_entropy(labels=batch_labels, logits=logits)\n",
    "    loss = tf.losses.get_total_loss()\n",
    "    \n",
    "    # First we want to train only the reinitialized last layer fc8 for a few epochs.\n",
    "    # We run minimize the loss only with respect to the fc8 variables (weight and bias).\n",
    "    fc8_optimizer = tf.train.GradientDescentOptimizer(learning_rate1)\n",
    "    fc8_train_op = fc8_optimizer.minimize(loss, var_list=fc8_variables)\n",
    "    \n",
    "    # Then we want to finetune the entire model for a few epochs.\n",
    "    # We run minimize the loss only with respect to all the variables.\n",
    "    full_optimizer = tf.train.GradientDescentOptimizer(learning_rate2)\n",
    "    full_train_op = full_optimizer.minimize(loss)\n",
    "\n",
    "    # Evaluation metrics\n",
    "    prediction = tf.to_int32(tf.argmax(logits, 1))\n",
    "    correct_prediction = tf.equal(prediction, batch_labels)\n",
    "    accuracy = tf.reduce_mean(tf.cast(correct_prediction, tf.float32))    \n",
    "    \n",
    "    # 'Saver' op to save and restore all the variables\n",
    "    saver = tf.train.Saver()"
   ]
  },
  {
   "cell_type": "markdown",
   "metadata": {},
   "source": [
    "### Start training"
   ]
  },
  {
   "cell_type": "code",
   "execution_count": 6,
   "metadata": {
    "collapsed": true
   },
   "outputs": [],
   "source": [
    "from tqdm import tqdm"
   ]
  },
  {
   "cell_type": "code",
   "execution_count": 7,
   "metadata": {
    "collapsed": true
   },
   "outputs": [],
   "source": [
    "def evaluate(sess, loss, correct_prediction, dataset_init_op, feed_dict):\n",
    "    \"\"\"\n",
    "        Evaluation in training loop.\n",
    "        Check the performance of the model on either train, val or test (depending on `dataset_init_op`)\n",
    "        Note: The arguments are tensorflow operators defined in the graph.\n",
    "    \"\"\"\n",
    "    \n",
    "    # Initialize the correct dataset.\n",
    "    sess.run(dataset_init_op, feed_dict=feed_dict)\n",
    "\n",
    "    data_loss = 0\n",
    "    num_correct = 0\n",
    "    num_samples = 0\n",
    "    \n",
    "    # Evaluate on every batch.\n",
    "    while True:\n",
    "        try:\n",
    "            # Disable `is_training` since we have `dropout` in VGG net.\n",
    "            _loss, _correct_prediction = sess.run([loss, correct_prediction], feed_dict={is_training: False})\n",
    "\n",
    "            data_loss += _loss\n",
    "            num_correct += _correct_prediction.sum() # e.g: [True, False, True].sum() = 2\n",
    "            num_samples += _correct_prediction.shape[0] # Batch size\n",
    "            \n",
    "        except tf.errors.OutOfRangeError:\n",
    "            break\n",
    "\n",
    "    data_loss = data_loss / num_samples\n",
    "    acc = num_correct / num_samples\n",
    "\n",
    "    return data_loss, acc"
   ]
  },
  {
   "cell_type": "code",
   "execution_count": 8,
   "metadata": {
    "collapsed": true
   },
   "outputs": [],
   "source": [
    "# --------------------------------------------------------------------------\n",
    "# Now that we have built the graph and finalized it, we define the session.\n",
    "# The session is the interface to *run* the computational graph.\n",
    "# We can call our training operations with `sess.run(train_op)` for instance\n",
    "sess = tf.Session(graph=graph)"
   ]
  },
  {
   "cell_type": "code",
   "execution_count": 9,
   "metadata": {},
   "outputs": [
    {
     "name": "stdout",
     "output_type": "stream",
     "text": [
      "INFO:tensorflow:Restoring parameters from model/hand_obj_vgg_16/hand_obj_vgg_16_model\n"
     ]
    }
   ],
   "source": [
    "# init_fn(sess) # load the pretrained weights\n",
    "# sess.run(fc8_init)  # initialize the new fc8 layer\n",
    "\n",
    "saver.restore(sess, MODEL_PATH)"
   ]
  },
  {
   "cell_type": "markdown",
   "metadata": {},
   "source": [
    "### Train 'fc8' layer"
   ]
  },
  {
   "cell_type": "code",
   "execution_count": null,
   "metadata": {
    "collapsed": true
   },
   "outputs": [],
   "source": [
    "max_acc = 0.0\n",
    "patience = 0\n",
    "\n",
    "# Update only the last layer for a few epochs.\n",
    "for epoch in tqdm(range(max_epochs1)):\n",
    "    # Run an epoch over the training data.\n",
    "    print('-'*110)\n",
    "    print('Starting epoch {}/{}'.format(epoch+1, max_epochs1))\n",
    "    # Here we initialize the iterator with the training set.\n",
    "    # This means that we can go through an entire epoch until the iterator becomes empty.\n",
    "    sess.run(dataset_init_op, feed_dict={image_paths: train_image_paths,\n",
    "                                         labels: train_labels,\n",
    "                                         is_training: True})\n",
    "    while True:\n",
    "        try:\n",
    "            _ = sess.run(fc8_train_op, feed_dict={is_training: True})\n",
    "        except tf.errors.OutOfRangeError:\n",
    "            break\n",
    "\n",
    "    # Check performance every epoch\n",
    "    train_loss, train_acc = evaluate(sess, loss, correct_prediction, dataset_init_op,\n",
    "                                     feed_dict={image_paths: train_image_paths,\n",
    "                                                labels: train_labels,\n",
    "                                                is_training: True})\n",
    "    \n",
    "    val_loss, val_acc = evaluate(sess, loss, correct_prediction, dataset_init_op,\n",
    "                                 feed_dict={image_paths: val_image_paths,\n",
    "                                            labels: val_labels,\n",
    "                                            is_training: False})\n",
    "    \n",
    "    print('[Train] loss: {} | accuracy: {}'.format(train_loss, train_acc))\n",
    "    print('[Validation] loss: {} | accuracy: {}'.format(val_loss, val_acc))\n",
    "    \n",
    "    # Save checkpoint\n",
    "    if val_acc > max_acc:\n",
    "        patience = 0\n",
    "        max_acc = val_acc\n",
    "        save_path = saver.save(sess, MODEL_PATH)\n",
    "        print(\"Model updated and saved in file: %s\" % save_path)\n",
    "    else:\n",
    "        patience += 1\n",
    "        print('Model not improved at epoch {}/{}. Patience: {}/{}'.format(epoch+1, max_epochs1, patience, max_patience))\n",
    "    # Early stopping.\n",
    "    if patience > max_patience:\n",
    "        print('Max patience exceeded. Early stopping.')\n",
    "        break"
   ]
  },
  {
   "cell_type": "markdown",
   "metadata": {},
   "source": [
    "### Train all layers"
   ]
  },
  {
   "cell_type": "code",
   "execution_count": 10,
   "metadata": {},
   "outputs": [
    {
     "name": "stderr",
     "output_type": "stream",
     "text": [
      "\r",
      "  0%|          | 0/20 [00:00<?, ?it/s]"
     ]
    },
    {
     "name": "stdout",
     "output_type": "stream",
     "text": [
      "--------------------------------------------------------------------------------------------------------------\n",
      "Starting epoch 1/20\n",
      "[Train] loss: 0.055268995374983684 | accuracy: 0.6513653483992468\n",
      "[Validation] loss: 0.08276059597836695 | accuracy: 0.4306049822064057\n"
     ]
    },
    {
     "name": "stderr",
     "output_type": "stream",
     "text": [
      "\r",
      "  5%|▌         | 1/20 [07:24<2:20:53, 444.90s/it]"
     ]
    },
    {
     "name": "stdout",
     "output_type": "stream",
     "text": [
      "Model updated and saved in file: model/hand_obj_vgg_16/hand_obj_vgg_16_model\n",
      "--------------------------------------------------------------------------------------------------------------\n",
      "Starting epoch 2/20\n"
     ]
    },
    {
     "name": "stderr",
     "output_type": "stream",
     "text": [
      "\r",
      " 10%|█         | 2/20 [14:42<2:12:51, 442.86s/it]"
     ]
    },
    {
     "name": "stdout",
     "output_type": "stream",
     "text": [
      "[Train] loss: 0.05534642737426626 | accuracy: 0.6546610169491526\n",
      "[Validation] loss: 0.08310093229563635 | accuracy: 0.43016014234875444\n",
      "Model not improved at epoch 2/20. Patience: 1/3\n",
      "--------------------------------------------------------------------------------------------------------------\n",
      "Starting epoch 3/20\n",
      "[Train] loss: 0.05492519088234456 | accuracy: 0.6590552416823603\n",
      "[Validation] loss: 0.08278657204315756 | accuracy: 0.4314946619217082\n"
     ]
    },
    {
     "name": "stderr",
     "output_type": "stream",
     "text": [
      "\r",
      " 15%|█▌        | 3/20 [22:05<2:05:26, 442.74s/it]"
     ]
    },
    {
     "name": "stdout",
     "output_type": "stream",
     "text": [
      "Model updated and saved in file: model/hand_obj_vgg_16/hand_obj_vgg_16_model\n",
      "--------------------------------------------------------------------------------------------------------------\n",
      "Starting epoch 4/20\n",
      "[Train] loss: 0.054958589557425004 | accuracy: 0.6574074074074074\n",
      "[Validation] loss: 0.08266664452824304 | accuracy: 0.43282918149466193\n"
     ]
    },
    {
     "name": "stderr",
     "output_type": "stream",
     "text": [
      "\r",
      " 20%|██        | 4/20 [29:27<1:58:01, 442.57s/it]"
     ]
    },
    {
     "name": "stdout",
     "output_type": "stream",
     "text": [
      "Model updated and saved in file: model/hand_obj_vgg_16/hand_obj_vgg_16_model\n",
      "--------------------------------------------------------------------------------------------------------------\n",
      "Starting epoch 5/20\n"
     ]
    },
    {
     "name": "stderr",
     "output_type": "stream",
     "text": [
      "\r",
      " 25%|██▌       | 5/20 [36:45<1:50:15, 441.01s/it]"
     ]
    },
    {
     "name": "stdout",
     "output_type": "stream",
     "text": [
      "[Train] loss: 0.05446428804186553 | accuracy: 0.6634494664155681\n",
      "[Validation] loss: 0.08298731295663692 | accuracy: 0.4319395017793594\n",
      "Model not improved at epoch 5/20. Patience: 1/3\n",
      "--------------------------------------------------------------------------------------------------------------\n",
      "Starting epoch 6/20\n",
      "[Train] loss: 0.05456968165386868 | accuracy: 0.6622724419334589\n",
      "[Validation] loss: 0.08271296465524151 | accuracy: 0.4337188612099644\n"
     ]
    },
    {
     "name": "stderr",
     "output_type": "stream",
     "text": [
      "\r",
      " 30%|███       | 6/20 [44:07<1:42:59, 441.38s/it]"
     ]
    },
    {
     "name": "stdout",
     "output_type": "stream",
     "text": [
      "Model updated and saved in file: model/hand_obj_vgg_16/hand_obj_vgg_16_model\n",
      "--------------------------------------------------------------------------------------------------------------\n",
      "Starting epoch 7/20\n"
     ]
    },
    {
     "name": "stderr",
     "output_type": "stream",
     "text": [
      "\r",
      " 35%|███▌      | 7/20 [51:25<1:35:26, 440.50s/it]"
     ]
    },
    {
     "name": "stdout",
     "output_type": "stream",
     "text": [
      "[Train] loss: 0.05409768013294134 | accuracy: 0.6662743251726303\n",
      "[Validation] loss: 0.0828403556368105 | accuracy: 0.4337188612099644\n",
      "Model not improved at epoch 7/20. Patience: 1/3\n",
      "--------------------------------------------------------------------------------------------------------------\n",
      "Starting epoch 8/20\n",
      "[Train] loss: 0.05392454056641027 | accuracy: 0.6689422473320779\n",
      "[Validation] loss: 0.08304883046506563 | accuracy: 0.43683274021352314\n"
     ]
    },
    {
     "name": "stderr",
     "output_type": "stream",
     "text": [
      "\r",
      " 40%|████      | 8/20 [58:49<1:28:16, 441.39s/it]"
     ]
    },
    {
     "name": "stdout",
     "output_type": "stream",
     "text": [
      "Model updated and saved in file: model/hand_obj_vgg_16/hand_obj_vgg_16_model\n",
      "--------------------------------------------------------------------------------------------------------------\n",
      "Starting epoch 9/20\n",
      "[Train] loss: 0.05368977528806759 | accuracy: 0.6684714375392341\n",
      "[Validation] loss: 0.08241481808580962 | accuracy: 0.43994661921708184\n"
     ]
    },
    {
     "name": "stderr",
     "output_type": "stream",
     "text": [
      "\r",
      " 45%|████▌     | 9/20 [1:06:11<1:20:57, 441.59s/it]"
     ]
    },
    {
     "name": "stdout",
     "output_type": "stream",
     "text": [
      "Model updated and saved in file: model/hand_obj_vgg_16/hand_obj_vgg_16_model\n",
      "--------------------------------------------------------------------------------------------------------------\n",
      "Starting epoch 10/20\n",
      "[Train] loss: 0.053221925634748146 | accuracy: 0.674278091650973\n",
      "[Validation] loss: 0.0827677003853686 | accuracy: 0.44261565836298933\n"
     ]
    },
    {
     "name": "stderr",
     "output_type": "stream",
     "text": [
      "\r",
      " 50%|█████     | 10/20 [1:13:32<1:13:35, 441.59s/it]"
     ]
    },
    {
     "name": "stdout",
     "output_type": "stream",
     "text": [
      "Model updated and saved in file: model/hand_obj_vgg_16/hand_obj_vgg_16_model\n",
      "--------------------------------------------------------------------------------------------------------------\n",
      "Starting epoch 11/20\n"
     ]
    },
    {
     "name": "stderr",
     "output_type": "stream",
     "text": [
      "\r",
      " 55%|█████▌    | 11/20 [1:20:51<1:06:05, 440.61s/it]"
     ]
    },
    {
     "name": "stdout",
     "output_type": "stream",
     "text": [
      "[Train] loss: 0.05351293188965852 | accuracy: 0.6701977401129944\n",
      "[Validation] loss: 0.08271186790856602 | accuracy: 0.44217081850533807\n",
      "Model not improved at epoch 11/20. Patience: 1/3\n",
      "--------------------------------------------------------------------------------------------------------------\n",
      "Starting epoch 12/20\n"
     ]
    },
    {
     "name": "stderr",
     "output_type": "stream",
     "text": [
      "\r",
      " 60%|██████    | 12/20 [1:28:08<58:37, 439.66s/it]  "
     ]
    },
    {
     "name": "stdout",
     "output_type": "stream",
     "text": [
      "[Train] loss: 0.05320167783776395 | accuracy: 0.6711393596986818\n",
      "[Validation] loss: 0.08253948300334482 | accuracy: 0.43683274021352314\n",
      "Model not improved at epoch 12/20. Patience: 2/3\n",
      "--------------------------------------------------------------------------------------------------------------\n",
      "Starting epoch 13/20\n"
     ]
    },
    {
     "name": "stderr",
     "output_type": "stream",
     "text": [
      "\r",
      " 65%|██████▌   | 13/20 [1:35:26<51:14, 439.17s/it]"
     ]
    },
    {
     "name": "stdout",
     "output_type": "stream",
     "text": [
      "[Train] loss: 0.05309016950199309 | accuracy: 0.6781230382925298\n",
      "[Validation] loss: 0.08290098114370027 | accuracy: 0.4363879003558719\n",
      "Model not improved at epoch 13/20. Patience: 3/3\n",
      "--------------------------------------------------------------------------------------------------------------\n",
      "Starting epoch 14/20\n",
      "[Train] loss: 0.05298506986286681 | accuracy: 0.6755335844318895\n",
      "[Validation] loss: 0.08286075744764661 | accuracy: 0.43994661921708184\n",
      "Model not improved at epoch 14/20. Patience: 4/3\n",
      "Max patience exceeded. Early stopping.\n"
     ]
    }
   ],
   "source": [
    "# Train the entire model for a few more epochs, continuing with the *same* weights.\n",
    "max_acc = 0.0\n",
    "patience = 0\n",
    "for epoch in tqdm(range(max_epochs2)):\n",
    "    # Run an epoch over the training data.\n",
    "    print('-'*110)\n",
    "    print('Starting epoch {}/{}'.format(epoch+1, max_epochs2))\n",
    "    # Here we initialize the iterator with the training set.\n",
    "    # This means that we can go through an entire epoch until the iterator becomes empty.\n",
    "    sess.run(dataset_init_op, feed_dict={image_paths: train_image_paths,\n",
    "                                         labels: train_labels,\n",
    "                                         is_training: True})\n",
    "    while True:\n",
    "        try:\n",
    "            _ = sess.run(full_train_op, feed_dict={is_training: True})    \n",
    "        except tf.errors.OutOfRangeError:\n",
    "            break\n",
    "\n",
    "    # Check performance every epoch\n",
    "    train_loss, train_acc = evaluate(sess, loss, correct_prediction, dataset_init_op,\n",
    "                                     feed_dict={image_paths: train_image_paths,\n",
    "                                                labels: train_labels,\n",
    "                                                is_training: True})\n",
    "    \n",
    "    val_loss, val_acc = evaluate(sess, loss, correct_prediction, dataset_init_op,\n",
    "                                 feed_dict={image_paths: val_image_paths,\n",
    "                                            labels: val_labels,\n",
    "                                            is_training: False})\n",
    "    \n",
    "    print('[Train] loss: {} | accuracy: {}'.format(train_loss, train_acc))\n",
    "    print('[Validation] loss: {} | accuracy: {}'.format(val_loss, val_acc))\n",
    "    \n",
    "    # Save checkpoint\n",
    "    if val_acc > max_acc:\n",
    "        patience = 0\n",
    "        max_acc = val_acc\n",
    "        save_path = saver.save(sess, MODEL_PATH)\n",
    "        print(\"Model updated and saved in file: %s\" % save_path)\n",
    "    else:\n",
    "        patience += 1\n",
    "        print('Model not improved at epoch {}/{}. Patience: {}/{}'.format(epoch+1, max_epochs1, patience, max_patience))\n",
    "    # Early stopping.\n",
    "    if patience > max_patience:\n",
    "        print('Max patience exceeded. Early stopping.')\n",
    "        break"
   ]
  },
  {
   "cell_type": "markdown",
   "metadata": {},
   "source": [
    "### Testing"
   ]
  },
  {
   "cell_type": "code",
   "execution_count": 11,
   "metadata": {},
   "outputs": [
    {
     "name": "stdout",
     "output_type": "stream",
     "text": [
      "[Test] loss: 0.062447359282744995 | accuracy: 0.5809329993738259\n"
     ]
    }
   ],
   "source": [
    "test_loss, test_acc = evaluate(sess, loss, correct_prediction, dataset_init_op,\n",
    "                                 feed_dict={image_paths: test_image_paths,\n",
    "                                            labels: test_labels,\n",
    "                                            is_training: False})\n",
    "\n",
    "print('[Test] loss: {} | accuracy: {}'.format(test_loss, test_acc))"
   ]
  },
  {
   "cell_type": "code",
   "execution_count": null,
   "metadata": {
    "collapsed": true
   },
   "outputs": [],
   "source": []
  }
 ],
 "metadata": {
  "kernelspec": {
   "display_name": "Python 3",
   "language": "python",
   "name": "python3"
  },
  "language_info": {
   "codemirror_mode": {
    "name": "ipython",
    "version": 3
   },
   "file_extension": ".py",
   "mimetype": "text/x-python",
   "name": "python",
   "nbconvert_exporter": "python",
   "pygments_lexer": "ipython3",
   "version": "3.6.2"
  }
 },
 "nbformat": 4,
 "nbformat_minor": 2
}
