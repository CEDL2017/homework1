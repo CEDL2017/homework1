{
 "cells": [
  {
   "cell_type": "code",
   "execution_count": 1,
   "metadata": {
    "collapsed": true
   },
   "outputs": [],
   "source": [
    "import re\n",
    "import os\n",
    "import sys\n",
    "import pandas as pd\n",
    "import numpy as np\n",
    "\n",
    "from tqdm import tqdm\n",
    "from sklearn.model_selection import train_test_split"
   ]
  },
  {
   "cell_type": "markdown",
   "metadata": {},
   "source": [
    "### Data helpers"
   ]
  },
  {
   "cell_type": "code",
   "execution_count": 2,
   "metadata": {
    "collapsed": true
   },
   "outputs": [],
   "source": [
    "def gen_index(setting_index):\n",
    "    train_index=[]\n",
    "    test_index =[]\n",
    "    if setting_index == 0:\n",
    "        for i in range(1,9):\n",
    "            if i <= 4:\n",
    "                train_index.append(('lab',i))\n",
    "            else:\n",
    "                test_index.append(('lab',i))\n",
    "        for i in range(1,7):\n",
    "            if i <= 3:\n",
    "                train_index.append(('office',i))\n",
    "            else:\n",
    "                test_index.append(('office',i))\n",
    "        for i in range(1,7):\n",
    "            if i <= 3:\n",
    "                train_index.append(('house',i))\n",
    "            else:\n",
    "                test_index.append(('house',i))\n",
    "    elif setting_index == 1:\n",
    "        for i in range(1,9):\n",
    "            train_index.append(('lab',i))\n",
    "        for i in range(1,7):\n",
    "            train_index.append(('office',i))\n",
    "        for i in range(1,7):\n",
    "            test_index.append(('house',i))\n",
    "    else:\n",
    "        raise ValueError('error setting index')\n",
    "\n",
    "    return train_index, test_index\n",
    "\n",
    "def load_image_paths(image_folder_path='dataset/frames/',\n",
    "                     data_type='train',\n",
    "                     label_type='obj',\n",
    "                     image_type = 'left'):\n",
    "    \n",
    "    # Re-format to pre-defined folder names.\n",
    "    if image_type == 'left':\n",
    "        image_type = 'Lhand'\n",
    "    elif image_type == 'right':\n",
    "        image_type = 'Rhand'\n",
    "    else:\n",
    "        image_type = 'head'\n",
    "    \n",
    "    image_paths = []\n",
    "    \n",
    "    # Hard-coded due to the given dataset splitted by the original author.\n",
    "    if data_type == 'train':\n",
    "        index, _ = gen_index(setting_index=0)\n",
    "    elif data_type == 'test':\n",
    "        _, index = gen_index(setting_index=0)\n",
    "        \n",
    "        # The given `split_id` of image and label in test data are not consistant.\n",
    "        # e.g. \"dataset/frames/test/lab/1\" <=> \"dataset/labels/lab/xxx_xxx*5*.npy\"\n",
    "        # Based on this example, the generated test `split_id` will started from *5*,\n",
    "        # we need to let `split_id` start from *1*.\n",
    "        split_num = {'lab': 0, 'office': 0, 'house': 0}\n",
    "        \n",
    "        for tup in index:\n",
    "            scene_type = tup[0]\n",
    "            split_num[scene_type] += 1\n",
    "            \n",
    "        for i, tup in enumerate(index):\n",
    "            scene_type, split_id = tup\n",
    "            tmp_split_id = split_id % split_num[scene_type] \n",
    "            split_id = tmp_split_id if tmp_split_id > 0 else split_num[scene_type]\n",
    "            index[i] = (scene_type, split_id) \n",
    "\n",
    "    # Load image paths.\n",
    "    for tup in index:\n",
    "        scene_type, split_id = tup\n",
    "        target_folder_path = os.path.join(image_folder_path, data_type, scene_type, str(split_id), image_type)\n",
    "        file_names = os.listdir(target_folder_path)\n",
    "        file_names = sorted(file_names, key=lambda x: int(re.sub('\\D', '', x)))\n",
    "        image_paths.extend([os.path.join(target_folder_path, file_name) for file_name in file_names])\n",
    "        \n",
    "        \n",
    "    return image_paths\n",
    "        \n",
    "def load_labels(label_folder_path='dataset/labels',\n",
    "                data_type='train',\n",
    "                label_type='obj',\n",
    "                hand_type = 'left'):\n",
    "    \"\"\" Note that we do not have labels for head images. \"\"\"\n",
    "    \n",
    "    labels = []\n",
    "    \n",
    "    # Hard-coded due to the given dataset splitted by the original author.\n",
    "    if data_type == 'train':\n",
    "        index, _ = gen_index(setting_index=0)\n",
    "    elif data_type == 'test':\n",
    "        _, index = gen_index(setting_index=0)\n",
    "\n",
    "    # Load labels\n",
    "    for tup in index:\n",
    "        scene_type, split_id = tup\n",
    "        label_npy_path = os.path.join(label_folder_path, scene_type, \n",
    "                                      '{}_{}{}.npy'.format(label_type, hand_type, split_id))\n",
    "        \n",
    "        label_npy = np.load(label_npy_path)\n",
    "        labels.append(label_npy)\n",
    "\n",
    "    labels = np.concatenate(labels)\n",
    "    \n",
    "    return labels\n",
    "\n",
    "def load_examples(image_folder_path='dataset/frames/',\n",
    "                  label_folder_path='dataset/labels',\n",
    "                  data_type='train',\n",
    "                  label_type='obj',\n",
    "                  hand_type='left',\n",
    "                  with_head=False):\n",
    "    \n",
    "    hand_image_paths = load_image_paths(image_folder_path=image_folder_path, \n",
    "                                        data_type=data_type, \n",
    "                                        label_type=label_type,\n",
    "                                        image_type=hand_type)\n",
    "    \n",
    "    if with_head:\n",
    "        head_image_paths = load_image_paths(image_folder_path=image_folder_path, \n",
    "                                        data_type=data_type, \n",
    "                                        label_type=label_type,\n",
    "                                        image_type='head')\n",
    "    \n",
    "    labels = load_labels(label_folder_path=label_folder_path,\n",
    "                         data_type=data_type,\n",
    "                         label_type=label_type,\n",
    "                         hand_type=hand_type)\n",
    "    \n",
    "    if with_head:\n",
    "        return head_image_paths, hand_image_paths, labels\n",
    "    else:\n",
    "        return hand_image_paths, labels"
   ]
  },
  {
   "cell_type": "markdown",
   "metadata": {},
   "source": [
    "### Load training, validation and testing data"
   ]
  },
  {
   "cell_type": "code",
   "execution_count": 36,
   "metadata": {
    "collapsed": true
   },
   "outputs": [],
   "source": [
    "IMAGE_FOLDER_PATH = 'dataset/frames/'\n",
    "LABEL_FOLDER_PATH = 'dataset/labels/'\n",
    "\n",
    "image_paths, labels = load_examples(image_folder_path=IMAGE_FOLDER_PATH,\n",
    "                                    label_folder_path=LABEL_FOLDER_PATH,\n",
    "                                    data_type='train', label_type='obj')\n",
    "\n",
    "train_image_paths, val_image_paths, train_labels, val_labels = \\\n",
    "    train_test_split(image_paths, labels, test_size=0.2, random_state=42)\n",
    "\n",
    "test_image_paths, test_labels = load_examples(image_folder_path=IMAGE_FOLDER_PATH,\n",
    "                                              label_folder_path=LABEL_FOLDER_PATH,\n",
    "                                              data_type='test', label_type='obj')\n",
    "\n",
    "num_classes = 24 # label type: 'obj'"
   ]
  },
  {
   "cell_type": "code",
   "execution_count": 24,
   "metadata": {},
   "outputs": [
    {
     "data": {
      "text/plain": [
       "['dataset/frames/train/lab/1/Lhand/Image1.png',\n",
       " 'dataset/frames/train/lab/1/Lhand/Image2.png',\n",
       " 'dataset/frames/train/lab/1/Lhand/Image3.png',\n",
       " 'dataset/frames/train/lab/1/Lhand/Image4.png',\n",
       " 'dataset/frames/train/lab/1/Lhand/Image5.png',\n",
       " 'dataset/frames/train/lab/1/Lhand/Image6.png',\n",
       " 'dataset/frames/train/lab/1/Lhand/Image7.png',\n",
       " 'dataset/frames/train/lab/1/Lhand/Image8.png',\n",
       " 'dataset/frames/train/lab/1/Lhand/Image9.png',\n",
       " 'dataset/frames/train/lab/1/Lhand/Image10.png']"
      ]
     },
     "execution_count": 24,
     "metadata": {},
     "output_type": "execute_result"
    }
   ],
   "source": [
    "image_paths[:10]"
   ]
  },
  {
   "cell_type": "code",
   "execution_count": 37,
   "metadata": {},
   "outputs": [
    {
     "name": "stdout",
     "output_type": "stream",
     "text": [
      "[Train] data/label: 5996/5996\n",
      "[Validation] data/label: 1500/1500\n",
      "[Test] data/label: 6388/6388\n",
      "Class number: 24\n"
     ]
    }
   ],
   "source": [
    "print('[Train] data/label: {}/{}'.format(len(train_image_paths), len(train_image_paths)))\n",
    "print('[Validation] data/label: {}/{}'.format(len(val_image_paths), len(val_labels)))\n",
    "print('[Test] data/label: {}/{}'.format(len(test_image_paths), len(test_labels)))\n",
    "print('Class number: {}'.format(num_classes))"
   ]
  },
  {
   "cell_type": "markdown",
   "metadata": {},
   "source": [
    "### Let's plot label distributions"
   ]
  },
  {
   "cell_type": "code",
   "execution_count": 5,
   "metadata": {
    "collapsed": true
   },
   "outputs": [],
   "source": [
    "class_label_str = {\n",
    "    \n",
    "    'FA':{  'free':0, \n",
    "            'active':1},\n",
    "\n",
    "    'obj':{ 'free':0,\n",
    "            'computer':1,\n",
    "            'cellphone':2,\n",
    "            'coin':3,\n",
    "            'ruler':4,\n",
    "            'thermos-bottle':5,\n",
    "            'whiteboard-pen':6,\n",
    "            'whiteboard-eraser':7,\n",
    "            'pen':8,\n",
    "            'cup':9,\n",
    "            'remote-control-TV':10,\n",
    "            'remote-control-AC':11,\n",
    "            'switch':12,\n",
    "            'windows':13,\n",
    "            'fridge':14,\n",
    "            'cupboard':15,\n",
    "            'water-tap':16,\n",
    "            'toy':17,\n",
    "            'kettle':18,\n",
    "            'bottle':19,\n",
    "            'cookie':20,\n",
    "            'book':21,\n",
    "            'magnet':22,\n",
    "            'lamp-switch':23},\n",
    "\n",
    "    'ges':{ 'free':0,\n",
    "            'press':1,\n",
    "            'large-diameter':2,\n",
    "            'lateral-tripod':3,\n",
    "            'parallel-extension':4,\n",
    "            'thumb-2-finger':5,\n",
    "            'thumb-4-finger':6,\n",
    "            'thumb-index-finger':7,\n",
    "            'precision-disk':8,\n",
    "            'lateral-pinch':9,\n",
    "            'tripod':10,\n",
    "            'medium-wrap':11,\n",
    "            'light-tool':12}\n",
    "}\n",
    "\n",
    "# inverse dictionary for each mode\n",
    "for mode in class_label_str.keys():\n",
    "    class_label_str[mode] = {v:k for k,v in class_label_str[mode].items()}"
   ]
  },
  {
   "cell_type": "code",
   "execution_count": 6,
   "metadata": {
    "collapsed": true
   },
   "outputs": [],
   "source": [
    "import matplotlib.pyplot as plt\n",
    "import matplotlib.image as mpimg\n",
    "import seaborn as sns\n",
    "sns.set(color_codes=True)\n",
    "\n",
    "%matplotlib inline"
   ]
  },
  {
   "cell_type": "markdown",
   "metadata": {},
   "source": [
    "### Training label distrubution"
   ]
  },
  {
   "cell_type": "code",
   "execution_count": 7,
   "metadata": {},
   "outputs": [
    {
     "data": {
      "text/plain": [
       "<matplotlib.axes._subplots.AxesSubplot at 0x7f073ec91048>"
      ]
     },
     "execution_count": 7,
     "metadata": {},
     "output_type": "execute_result"
    },
    {
     "data": {
      "image/png": "[encoded data removed]",
      "text/plain": [
       "<matplotlib.figure.Figure at 0x7f07413b2c18>"
      ]
     },
     "metadata": {},
     "output_type": "display_data"
    }
   ],
   "source": [
    "df_train_labels = pd.DataFrame(data=[class_label_str['obj'][int(label)] for label in train_labels], columns=['class'])\n",
    "sns.countplot(y=\"class\", data=df_train_labels)"
   ]
  },
  {
   "cell_type": "markdown",
   "metadata": {},
   "source": [
    "### Validation label distribution"
   ]
  },
  {
   "cell_type": "code",
   "execution_count": 8,
   "metadata": {},
   "outputs": [
    {
     "data": {
      "text/plain": [
       "<matplotlib.axes._subplots.AxesSubplot at 0x7f073b9187f0>"
      ]
     },
     "execution_count": 8,
     "metadata": {},
     "output_type": "execute_result"
    },
    {
     "data": {
      "image/png": "[encoded data removed]",
      "text/plain": [
       "<matplotlib.figure.Figure at 0x7f073b89cf98>"
      ]
     },
     "metadata": {},
     "output_type": "display_data"
    }
   ],
   "source": [
    "df_val_labels = pd.DataFrame(data=[class_label_str['obj'][int(label)] for label in val_labels], columns=['class'])\n",
    "sns.countplot(y=\"class\", data=df_val_labels)"
   ]
  },
  {
   "cell_type": "markdown",
   "metadata": {},
   "source": [
    "### Testing label distribution"
   ]
  },
  {
   "cell_type": "code",
   "execution_count": 9,
   "metadata": {
    "scrolled": true
   },
   "outputs": [
    {
     "data": {
      "text/plain": [
       "<matplotlib.axes._subplots.AxesSubplot at 0x7f073b6f1470>"
      ]
     },
     "execution_count": 9,
     "metadata": {},
     "output_type": "execute_result"
    },
    {
     "data": {
      "image/png": "[encoded data removed]",
      "text/plain": [
       "<matplotlib.figure.Figure at 0x7f073b6a1470>"
      ]
     },
     "metadata": {},
     "output_type": "display_data"
    }
   ],
   "source": [
    "df_test_labels = pd.DataFrame(data=[class_label_str['obj'][int(label)] for label in test_labels], columns=['class'])\n",
    "sns.countplot(y=\"class\", data=df_test_labels)"
   ]
  },
  {
   "cell_type": "markdown",
   "metadata": {},
   "source": [
    "### Use Tensorflow to build computational graph"
   ]
  },
  {
   "cell_type": "code",
   "execution_count": 10,
   "metadata": {
    "collapsed": true
   },
   "outputs": [],
   "source": [
    "import tensorflow as tf\n",
    "import tensorflow.contrib.slim as slim\n",
    "import tensorflow.contrib.slim.nets"
   ]
  },
  {
   "cell_type": "code",
   "execution_count": 11,
   "metadata": {
    "collapsed": true
   },
   "outputs": [],
   "source": [
    "import vgg_preprocessing"
   ]
  },
  {
   "cell_type": "code",
   "execution_count": 17,
   "metadata": {
    "collapsed": true
   },
   "outputs": [],
   "source": [
    "pretrained_vgg_model_path = 'model/vgg_16.ckpt'\n",
    "model_path = 'model/baseline_finetuned_vgg_16.ckpt'\n",
    "\n",
    "batch_size = 32\n",
    "num_workers = 20\n",
    "num_epochs1 = 10\n",
    "num_epochs2 = 10\n",
    "learning_rate1 = 1e-3\n",
    "learning_rate2 = 1e-5\n",
    "dropout_keep_prob = 0.5\n",
    "weight_decay = 5e-4\n",
    "\n",
    "VGG_MEAN = [123.68, 116.78, 103.94]"
   ]
  },
  {
   "cell_type": "code",
   "execution_count": 27,
   "metadata": {},
   "outputs": [
    {
     "name": "stdout",
     "output_type": "stream",
     "text": [
      "CPU times: user 1.83 s, sys: 40.7 ms, total: 1.87 s\n",
      "Wall time: 1.83 s\n"
     ]
    }
   ],
   "source": [
    "%%time\n",
    "\n",
    "# --------------------------------------------------------------------------\n",
    "# In TensorFlow, you first want to define the computation graph with all the\n",
    "# necessary operations: loss, training op, accuracy...\n",
    "# Any tensor created in the `graph.as_default()` scope will be part of `graph`\n",
    "graph = tf.Graph()\n",
    "with graph.as_default():\n",
    "    # Standard preprocessing for VGG on ImageNet taken from here:\n",
    "    # https://github.com/tensorflow/models/blob/master/research/slim/preprocessing/vgg_preprocessing.py\n",
    "    # Also see the VGG paper for more details: https://arxiv.org/pdf/1409.1556.pdf\n",
    "\n",
    "    # Preprocessing (for both training and validation):\n",
    "    # (1) Decode the image from jpg format\n",
    "    # (2) Resize the image so its smaller side is 256 pixels long\n",
    "    def _parse_function(filename, label):\n",
    "            image_string = tf.read_file(filename)\n",
    "            image_decoded = tf.image.decode_jpeg(image_string, channels=3)          # (1)\n",
    "            image = tf.cast(image_decoded, tf.float32)\n",
    "\n",
    "            smallest_side = 256.0\n",
    "            height, width = tf.shape(image)[0], tf.shape(image)[1]\n",
    "            height = tf.to_float(height)\n",
    "            width = tf.to_float(width)\n",
    "\n",
    "            scale = tf.cond(tf.greater(height, width),\n",
    "                            lambda: smallest_side / width,\n",
    "                            lambda: smallest_side / height)\n",
    "            new_height = tf.to_int32(height * scale)\n",
    "            new_width = tf.to_int32(width * scale)\n",
    "\n",
    "            resized_image = tf.image.resize_images(image, [new_height, new_width])  # (2)\n",
    "                \n",
    "            return resized_image, label\n",
    "        \n",
    "    # Preprocessing (for training)\n",
    "    # (3) Take a random 224x224 crop to the scaled image\n",
    "    # (4) Horizontally flip the image with probability 1/2\n",
    "    # (5) Substract the per color mean `VGG_MEAN`\n",
    "    # Note: we don't normalize the data here, as VGG was trained without normalization\n",
    "    def training_preprocess(image, label):\n",
    "        crop_image = tf.random_crop(image, [224, 224, 3])                       # (3)\n",
    "        flip_image = tf.image.random_flip_left_right(crop_image)                # (4)\n",
    "\n",
    "        means = tf.reshape(tf.constant(VGG_MEAN), [1, 1, 3])\n",
    "        centered_image = flip_image - means                                     # (5)\n",
    "\n",
    "        return centered_image, label\n",
    "    \n",
    "    # Preprocessing (for validation)\n",
    "    # (3) Take a central 224x224 crop to the scaled image\n",
    "    # (4) Substract the per color mean `VGG_MEAN`\n",
    "    # Note: we don't normalize the data here, as VGG was trained without normalization\n",
    "    def val_preprocess(image, label):\n",
    "        crop_image = tf.image.resize_image_with_crop_or_pad(image, 224, 224)    # (3)\n",
    "\n",
    "        means = tf.reshape(tf.constant(VGG_MEAN), [1, 1, 3])\n",
    "        centered_image = crop_image - means                                     # (4)\n",
    "\n",
    "        return centered_image, label\n",
    "    \n",
    "    # ----------------------------------------------------------------------\n",
    "    # DATASET CREATION using tf.contrib.data.Dataset\n",
    "    # https://github.com/tensorflow/tensorflow/tree/master/tensorflow/contrib/data\n",
    "\n",
    "    # The tf.contrib.data.Dataset framework uses queues in the background to feed in\n",
    "    # data to the model.\n",
    "    # We initialize the dataset with a list of filenames and labels, and then apply\n",
    "    # the preprocessing functions described above.\n",
    "    # Behind the scenes, queues will load the filenames, preprocess them with multiple\n",
    "    # threads and apply the preprocessing in parallel, and then batch the data\n",
    "\n",
    "    # Training dataset\n",
    "    _train_image_paths = tf.constant(train_image_paths)\n",
    "    _train_labels = tf.constant(train_labels.astype(np.int32))\n",
    "    train_dataset = tf.contrib.data.Dataset.from_tensor_slices((_train_image_paths, _train_labels))\n",
    "    train_dataset = train_dataset.map(_parse_function, num_threads=num_workers, output_buffer_size=batch_size)\n",
    "    train_dataset = train_dataset.map(training_preprocess, num_threads=num_workers, output_buffer_size=batch_size)\n",
    "    train_dataset = train_dataset.shuffle(buffer_size=10000)  # don't forget to shuffle\n",
    "    batched_train_dataset = train_dataset.batch(batch_size)\n",
    "    \n",
    "    # Validation dataset\n",
    "    _val_image_paths = tf.constant(val_image_paths)\n",
    "    _val_labels = tf.constant(val_labels.astype(np.int32))\n",
    "    val_dataset = tf.contrib.data.Dataset.from_tensor_slices((_val_image_paths, _val_labels))\n",
    "    val_dataset = val_dataset.map(_parse_function, num_threads=num_workers, output_buffer_size=batch_size)\n",
    "    val_dataset = val_dataset.map(val_preprocess, num_threads=num_workers, output_buffer_size=batch_size)\n",
    "    val_dataset = val_dataset.shuffle(buffer_size=10000)  # don't forget to shuffle\n",
    "    batched_val_dataset = val_dataset.batch(batch_size)\n",
    "        \n",
    "    # Now we define an iterator that can operator on either dataset.\n",
    "    # The iterator can be reinitialized by calling:\n",
    "    #     - sess.run(train_init_op) for 1 epoch on the training set\n",
    "    #     - sess.run(val_init_op)   for 1 epoch on the valiation set\n",
    "    # Once this is done, we don't need to feed any value for images and labels\n",
    "    # as they are automatically pulled out from the iterator queues.\n",
    "\n",
    "    # A reinitializable iterator is defined by its structure. We could use the\n",
    "    # `output_types` and `output_shapes` properties of either `train_dataset`\n",
    "    # or `validation_dataset` here, because they are compatible.\n",
    "    iterator = tf.contrib.data.Iterator.from_structure(batched_train_dataset.output_types,\n",
    "                                                       batched_train_dataset.output_shapes)\n",
    "    \n",
    "    # A batch of data to feed into the networks.\n",
    "    images, labels = iterator.get_next()\n",
    "    \n",
    "    train_init_op = iterator.make_initializer(batched_train_dataset)\n",
    "    val_init_op = iterator.make_initializer(batched_val_dataset)\n",
    "\n",
    "    # Indicates whether we are in training or in test mode\n",
    "    # Since VGG16 has applied `dropout`, we need to disable it when testing.\n",
    "    is_training = tf.placeholder(tf.bool)\n",
    "    \n",
    "    # ---------------------------------------------------------------------\n",
    "    # Now that we have set up the data, it's time to set up the model.\n",
    "    # For this example, we'll use VGG-16 pretrained on ImageNet. We will remove the\n",
    "    # last fully connected layer (fc8) and replace it with our own, with an\n",
    "    # output size `num_classes`\n",
    "    # We will first train the last layer for a few epochs.\n",
    "    # Then we will train the entire model on our dataset for a few epochs.\n",
    "\n",
    "    # Get the pretrained model, specifying the num_classes argument to create a new\n",
    "    # fully connected replacing the last one, called \"vgg_16/fc8\"\n",
    "    # Each model has a different architecture, so \"vgg_16/fc8\" will change in another model.\n",
    "    # Here, logits gives us directly the predicted scores we wanted from the images.\n",
    "    # We pass a scope to initialize \"vgg_16/fc8\" weights with he_initializer\n",
    "    vgg = tf.contrib.slim.nets.vgg\n",
    "    with slim.arg_scope(vgg.vgg_arg_scope(weight_decay=weight_decay)):\n",
    "        logits, _ = vgg.vgg_16(images, num_classes=num_classes, is_training=is_training,\n",
    "                               dropout_keep_prob=dropout_keep_prob)\n",
    "        \n",
    "    # Restore only the layers up to fc7 (included)\n",
    "    # Calling function `init_fn(sess)` will load all the pretrained weights.\n",
    "    variables_to_restore = tf.contrib.framework.get_variables_to_restore(exclude=['vgg_16/fc8'])\n",
    "    init_fn = tf.contrib.framework.assign_from_checkpoint_fn(pretrained_vgg_model_path, variables_to_restore)\n",
    "\n",
    "    # Initialization operation from scratch for the new \"fc8\" layers\n",
    "    # `get_variables` will only return the variables whose name starts with the given pattern\n",
    "    fc8_variables = tf.contrib.framework.get_variables('vgg_16/fc8')\n",
    "    fc8_init = tf.variables_initializer(fc8_variables)\n",
    "    \n",
    "    # ---------------------------------------------------------------------\n",
    "    # Using tf.losses, any loss is added to the tf.GraphKeys.LOSSES collection\n",
    "    # We can then call the total loss easily\n",
    "    tf.losses.sparse_softmax_cross_entropy(labels=labels, logits=logits)\n",
    "    loss = tf.losses.get_total_loss()\n",
    "    \n",
    "    # First we want to train only the reinitialized last layer fc8 for a few epochs.\n",
    "    # We run minimize the loss only with respect to the fc8 variables (weight and bias).\n",
    "    fc8_optimizer = tf.train.GradientDescentOptimizer(learning_rate1)\n",
    "    fc8_train_op = fc8_optimizer.minimize(loss, var_list=fc8_variables)\n",
    "    \n",
    "    # Then we want to finetune the entire model for a few epochs.\n",
    "    # We run minimize the loss only with respect to all the variables.\n",
    "    full_optimizer = tf.train.GradientDescentOptimizer(learning_rate2)\n",
    "    full_train_op = full_optimizer.minimize(loss)\n",
    "\n",
    "    # Evaluation metrics\n",
    "    prediction = tf.to_int32(tf.argmax(logits, 1))\n",
    "    correct_prediction = tf.equal(prediction, labels)\n",
    "    accuracy = tf.reduce_mean(tf.cast(correct_prediction, tf.float32))    \n",
    "    \n",
    "    # 'Saver' op to save and restore all the variables\n",
    "    saver = tf.train.Saver()"
   ]
  },
  {
   "cell_type": "markdown",
   "metadata": {},
   "source": [
    "### Training"
   ]
  },
  {
   "cell_type": "code",
   "execution_count": 19,
   "metadata": {
    "collapsed": true
   },
   "outputs": [],
   "source": [
    "def evaluate(sess, loss, correct_prediction, data_init_op):\n",
    "    \"\"\"\n",
    "        Evaluation in training loop.\n",
    "        Check the performance of the model on either train, val or test (depending on `data_init_op`)\n",
    "        Note: The arguments are tensorflow operators defined in the graph.\n",
    "    \"\"\"\n",
    "    \n",
    "    # Initialize the correct dataset.\n",
    "    sess.run(data_init_op)\n",
    "\n",
    "    data_loss = 0\n",
    "    num_correct = 0\n",
    "    num_samples = 0\n",
    "    \n",
    "    # Evaluate on every batch.\n",
    "    while True:\n",
    "        try:\n",
    "            # Disable `is_training` since we have `dropout` in VGG net.\n",
    "            _labels, _loss, _prediction, _correct_prediction = sess.run([labels, loss, prediction, correct_prediction], feed_dict={is_training: False})\n",
    "\n",
    "            data_loss += _loss\n",
    "            num_correct += _correct_prediction.sum() # e.g: [True, False, True].sum() = 2\n",
    "            num_samples += _correct_prediction.shape[0] # Batch size\n",
    "            \n",
    "        except tf.errors.OutOfRangeError:\n",
    "            break\n",
    "\n",
    "    data_loss = data_loss / num_samples\n",
    "    acc = num_correct / num_samples\n",
    "\n",
    "    return data_loss, acc"
   ]
  },
  {
   "cell_type": "code",
   "execution_count": 30,
   "metadata": {
    "collapsed": true
   },
   "outputs": [],
   "source": [
    "# --------------------------------------------------------------------------\n",
    "# Now that we have built the graph and finalized it, we define the session.\n",
    "# The session is the interface to *run* the computational graph.\n",
    "# We can call our training operations with `sess.run(train_op)` for instance\n",
    "sess = tf.Session(graph=graph)"
   ]
  },
  {
   "cell_type": "code",
   "execution_count": 21,
   "metadata": {},
   "outputs": [
    {
     "name": "stdout",
     "output_type": "stream",
     "text": [
      "INFO:tensorflow:Restoring parameters from model/vgg_16.ckpt\n"
     ]
    }
   ],
   "source": [
    "init_fn(sess) # load the pretrained weights\n",
    "sess.run(fc8_init)  # initialize the new fc8 layer"
   ]
  },
  {
   "cell_type": "code",
   "execution_count": 22,
   "metadata": {},
   "outputs": [
    {
     "name": "stderr",
     "output_type": "stream",
     "text": [
      "\r",
      "  0%|          | 0/10 [00:00<?, ?it/s]"
     ]
    },
    {
     "name": "stdout",
     "output_type": "stream",
     "text": [
      "Starting epoch 1 / 10\n",
      "[Train] loss: 0.06444888776186866 | accuracy: 0.5900600400266844\n",
      "[Validation] loss: 0.062463754494984945 | accuracy: 0.5966666666666667\n"
     ]
    },
    {
     "name": "stderr",
     "output_type": "stream",
     "text": [
      "\r",
      " 10%|█         | 1/10 [03:40<33:01, 220.14s/it]"
     ]
    },
    {
     "name": "stdout",
     "output_type": "stream",
     "text": [
      "Model updated and saved in file: model/baseline_finetuned_vgg_16.ckpt\n",
      "Starting epoch 2 / 10\n",
      "[Train] loss: 0.05608610634886479 | accuracy: 0.6544362908605738\n",
      "[Validation] loss: 0.053876905600229896 | accuracy: 0.68\n"
     ]
    },
    {
     "name": "stderr",
     "output_type": "stream",
     "text": [
      "\r",
      " 20%|██        | 2/10 [06:05<26:20, 197.59s/it]"
     ]
    },
    {
     "name": "stdout",
     "output_type": "stream",
     "text": [
      "Model updated and saved in file: model/baseline_finetuned_vgg_16.ckpt\n",
      "Starting epoch 3 / 10\n",
      "[Train] loss: 0.0506329650358807 | accuracy: 0.7056370913942629\n",
      "[Validation] loss: 0.04895365858078003 | accuracy: 0.7246666666666667\n"
     ]
    },
    {
     "name": "stderr",
     "output_type": "stream",
     "text": [
      "\r",
      " 30%|███       | 3/10 [08:33<21:20, 182.97s/it]"
     ]
    },
    {
     "name": "stdout",
     "output_type": "stream",
     "text": [
      "Model updated and saved in file: model/baseline_finetuned_vgg_16.ckpt\n",
      "Starting epoch 4 / 10\n",
      "[Train] loss: 0.04778650348348726 | accuracy: 0.7196464309539693\n",
      "[Validation] loss: 0.04607608675956726 | accuracy: 0.7446666666666667\n"
     ]
    },
    {
     "name": "stderr",
     "output_type": "stream",
     "text": [
      "\r",
      " 40%|████      | 4/10 [11:02<17:16, 172.73s/it]"
     ]
    },
    {
     "name": "stdout",
     "output_type": "stream",
     "text": [
      "Model updated and saved in file: model/baseline_finetuned_vgg_16.ckpt\n",
      "Starting epoch 5 / 10\n",
      "[Train] loss: 0.04640474907551868 | accuracy: 0.7384923282188125\n",
      "[Validation] loss: 0.0442477433681488 | accuracy: 0.7586666666666667\n"
     ]
    },
    {
     "name": "stderr",
     "output_type": "stream",
     "text": [
      "\r",
      " 50%|█████     | 5/10 [13:32<13:48, 165.68s/it]"
     ]
    },
    {
     "name": "stdout",
     "output_type": "stream",
     "text": [
      "Model updated and saved in file: model/baseline_finetuned_vgg_16.ckpt\n",
      "Starting epoch 6 / 10\n",
      "[Train] loss: 0.044129766926437795 | accuracy: 0.7528352234823216\n",
      "[Validation] loss: 0.04223733425140381 | accuracy: 0.776\n"
     ]
    },
    {
     "name": "stderr",
     "output_type": "stream",
     "text": [
      "\r",
      " 60%|██████    | 6/10 [16:00<10:42, 160.63s/it]"
     ]
    },
    {
     "name": "stdout",
     "output_type": "stream",
     "text": [
      "Model updated and saved in file: model/baseline_finetuned_vgg_16.ckpt\n",
      "Starting epoch 7 / 10\n",
      "[Train] loss: 0.042965724040381986 | accuracy: 0.7688458972648432\n",
      "[Validation] loss: 0.04150431283315023 | accuracy: 0.7806666666666666\n"
     ]
    },
    {
     "name": "stderr",
     "output_type": "stream",
     "text": [
      "\r",
      " 70%|███████   | 7/10 [18:36<07:57, 159.17s/it]"
     ]
    },
    {
     "name": "stdout",
     "output_type": "stream",
     "text": [
      "Model updated and saved in file: model/baseline_finetuned_vgg_16.ckpt\n",
      "Starting epoch 8 / 10\n",
      "[Train] loss: 0.041762586988712484 | accuracy: 0.7806871247498333\n",
      "[Validation] loss: 0.040805210510889686 | accuracy: 0.7866666666666666\n"
     ]
    },
    {
     "name": "stderr",
     "output_type": "stream",
     "text": [
      "\r",
      " 80%|████████  | 8/10 [21:15<05:18, 159.02s/it]"
     ]
    },
    {
     "name": "stdout",
     "output_type": "stream",
     "text": [
      "Model updated and saved in file: model/baseline_finetuned_vgg_16.ckpt\n",
      "Starting epoch 9 / 10\n",
      "[Train] loss: 0.041091706670865445 | accuracy: 0.7871914609739826\n",
      "[Validation] loss: 0.039414886911710106 | accuracy: 0.7946666666666666\n"
     ]
    },
    {
     "name": "stderr",
     "output_type": "stream",
     "text": [
      "\r",
      " 90%|█████████ | 9/10 [23:54<02:39, 159.08s/it]"
     ]
    },
    {
     "name": "stdout",
     "output_type": "stream",
     "text": [
      "Model updated and saved in file: model/baseline_finetuned_vgg_16.ckpt\n",
      "Starting epoch 10 / 10\n"
     ]
    },
    {
     "name": "stderr",
     "output_type": "stream",
     "text": [
      "100%|██████████| 10/10 [26:30<00:00, 158.05s/it]\n",
      "  0%|          | 0/10 [00:00<?, ?it/s]"
     ]
    },
    {
     "name": "stdout",
     "output_type": "stream",
     "text": [
      "[Train] loss: 0.04068621486087415 | accuracy: 0.7866911274182788\n",
      "[Validation] loss: 0.03930794755617777 | accuracy: 0.7906666666666666\n",
      "Starting epoch 1 / 10\n",
      "[Train] loss: 0.04029852514707541 | accuracy: 0.7913609072715143\n",
      "[Validation] loss: 0.038991566816965736 | accuracy: 0.8006666666666666\n"
     ]
    },
    {
     "name": "stderr",
     "output_type": "stream",
     "text": [
      "\r",
      " 10%|█         | 1/10 [03:28<31:14, 208.32s/it]"
     ]
    },
    {
     "name": "stdout",
     "output_type": "stream",
     "text": [
      "Model updated and saved in file: model/baseline_finetuned_vgg_16.ckpt\n",
      "Starting epoch 2 / 10\n",
      "[Train] loss: 0.0395048314169934 | accuracy: 0.7985323549032688\n",
      "[Validation] loss: 0.03884996116161346 | accuracy: 0.8033333333333333\n"
     ]
    },
    {
     "name": "stderr",
     "output_type": "stream",
     "text": [
      "\r",
      " 20%|██        | 2/10 [06:55<27:43, 207.99s/it]"
     ]
    },
    {
     "name": "stdout",
     "output_type": "stream",
     "text": [
      "Model updated and saved in file: model/baseline_finetuned_vgg_16.ckpt\n",
      "Starting epoch 3 / 10\n",
      "[Train] loss: 0.04026008613551753 | accuracy: 0.7956971314209473\n",
      "[Validation] loss: 0.03872858655452728 | accuracy: 0.806\n"
     ]
    },
    {
     "name": "stderr",
     "output_type": "stream",
     "text": [
      "\r",
      " 30%|███       | 3/10 [10:22<24:13, 207.71s/it]"
     ]
    },
    {
     "name": "stdout",
     "output_type": "stream",
     "text": [
      "Model updated and saved in file: model/baseline_finetuned_vgg_16.ckpt\n",
      "Starting epoch 4 / 10\n"
     ]
    },
    {
     "name": "stderr",
     "output_type": "stream",
     "text": [
      "\r",
      " 40%|████      | 4/10 [13:46<20:39, 206.56s/it]"
     ]
    },
    {
     "name": "stdout",
     "output_type": "stream",
     "text": [
      "[Train] loss: 0.03990821172548501 | accuracy: 0.8008672448298866\n",
      "[Validation] loss: 0.03845855359236399 | accuracy: 0.8053333333333333\n",
      "Starting epoch 5 / 10\n",
      "[Train] loss: 0.039806262086120106 | accuracy: 0.7963642428285523\n",
      "[Validation] loss: 0.038386204957962036 | accuracy: 0.8073333333333333\n"
     ]
    },
    {
     "name": "stderr",
     "output_type": "stream",
     "text": [
      "\r",
      " 50%|█████     | 5/10 [17:13<17:14, 206.83s/it]"
     ]
    },
    {
     "name": "stdout",
     "output_type": "stream",
     "text": [
      "Model updated and saved in file: model/baseline_finetuned_vgg_16.ckpt\n",
      "Starting epoch 6 / 10\n",
      "[Train] loss: 0.03986175431856877 | accuracy: 0.8008672448298866\n",
      "[Validation] loss: 0.03830355453491211 | accuracy: 0.8086666666666666\n"
     ]
    },
    {
     "name": "stderr",
     "output_type": "stream",
     "text": [
      "\r",
      " 60%|██████    | 6/10 [20:41<13:47, 206.95s/it]"
     ]
    },
    {
     "name": "stdout",
     "output_type": "stream",
     "text": [
      "Model updated and saved in file: model/baseline_finetuned_vgg_16.ckpt\n",
      "Starting epoch 7 / 10\n",
      "[Train] loss: 0.03946918547352288 | accuracy: 0.8032021347565044\n",
      "[Validation] loss: 0.03809749968846639 | accuracy: 0.8126666666666666\n"
     ]
    },
    {
     "name": "stderr",
     "output_type": "stream",
     "text": [
      "\r",
      " 70%|███████   | 7/10 [24:08<10:21, 207.12s/it]"
     ]
    },
    {
     "name": "stdout",
     "output_type": "stream",
     "text": [
      "Model updated and saved in file: model/baseline_finetuned_vgg_16.ckpt\n",
      "Starting epoch 8 / 10\n"
     ]
    },
    {
     "name": "stderr",
     "output_type": "stream",
     "text": [
      "\r",
      " 80%|████████  | 8/10 [27:32<06:52, 206.25s/it]"
     ]
    },
    {
     "name": "stdout",
     "output_type": "stream",
     "text": [
      "[Train] loss: 0.039463245228499554 | accuracy: 0.8037024683122082\n",
      "[Validation] loss: 0.0379446158806483 | accuracy: 0.8126666666666666\n",
      "Starting epoch 9 / 10\n"
     ]
    },
    {
     "name": "stderr",
     "output_type": "stream",
     "text": [
      "\r",
      " 90%|█████████ | 9/10 [30:58<03:26, 206.03s/it]"
     ]
    },
    {
     "name": "stdout",
     "output_type": "stream",
     "text": [
      "[Train] loss: 0.039665052757969374 | accuracy: 0.8050366911274183\n",
      "[Validation] loss: 0.03790290482838948 | accuracy: 0.8126666666666666\n",
      "Starting epoch 10 / 10\n",
      "[Train] loss: 0.038977692610745115 | accuracy: 0.8118745830553702\n",
      "[Validation] loss: 0.03775889460245768 | accuracy: 0.8133333333333334\n"
     ]
    },
    {
     "name": "stderr",
     "output_type": "stream",
     "text": [
      "\r",
      "100%|██████████| 10/10 [34:27<00:00, 206.92s/it]"
     ]
    },
    {
     "name": "stdout",
     "output_type": "stream",
     "text": [
      "Model updated and saved in file: model/baseline_finetuned_vgg_16.ckpt\n"
     ]
    },
    {
     "name": "stderr",
     "output_type": "stream",
     "text": [
      "\n"
     ]
    }
   ],
   "source": [
    "max_acc = 0.0\n",
    "\n",
    "# Update only the last layer for a few epochs.\n",
    "for epoch in tqdm(range(num_epochs1)):\n",
    "    # Run an epoch over the training data.\n",
    "    print('Starting epoch %d / %d' % (epoch + 1, num_epochs1))\n",
    "    # Here we initialize the iterator with the training set.\n",
    "    # This means that we can go through an entire epoch until the iterator becomes empty.\n",
    "    sess.run(train_init_op)\n",
    "    while True:\n",
    "        try:\n",
    "            _ = sess.run(fc8_train_op, feed_dict={is_training: True})\n",
    "        except tf.errors.OutOfRangeError:\n",
    "            break\n",
    "\n",
    "    # Check performance every epoch\n",
    "    train_loss, train_acc = evaluate(sess, loss, correct_prediction, train_init_op)\n",
    "    val_loss, val_acc = evaluate(sess, loss, correct_prediction, val_init_op)\n",
    "    print('[Train] loss: {} | accuracy: {}'.format(train_loss, train_acc))\n",
    "    print('[Validation] loss: {} | accuracy: {}'.format(val_loss, val_acc))\n",
    "    \n",
    "    # Save checkpoint\n",
    "    if val_acc > max_acc:\n",
    "        max_acc = val_acc\n",
    "        save_path = saver.save(sess, model_path)\n",
    "        print(\"Model updated and saved in file: %s\" % save_path)\n",
    "\n",
    "# Train the entire model for a few more epochs, continuing with the *same* weights.\n",
    "for epoch in tqdm(range(num_epochs2)):\n",
    "    print('Starting epoch %d / %d' % (epoch + 1, num_epochs2))\n",
    "    sess.run(train_init_op)\n",
    "    while True:\n",
    "        try:\n",
    "            _ = sess.run(full_train_op, feed_dict={is_training: True})\n",
    "        except tf.errors.OutOfRangeError:\n",
    "            break\n",
    "\n",
    "    # Check performance every epoch\n",
    "    train_loss, train_acc = evaluate(sess, loss, correct_prediction, train_init_op)\n",
    "    val_loss, val_acc = evaluate(sess, loss, correct_prediction, val_init_op)\n",
    "    print('[Train] loss: {} | accuracy: {}'.format(train_loss, train_acc))\n",
    "    print('[Validation] loss: {} | accuracy: {}'.format(val_loss, val_acc))\n",
    "    \n",
    "    # Save checkpoint\n",
    "    if val_acc > max_acc:\n",
    "        max_acc = val_acc\n",
    "        save_path = saver.save(sess, model_path)\n",
    "        print(\"Model updated and saved in file: %s\" % save_path)"
   ]
  },
  {
   "cell_type": "markdown",
   "metadata": {},
   "source": [
    "### Testing"
   ]
  },
  {
   "cell_type": "code",
   "execution_count": 33,
   "metadata": {},
   "outputs": [
    {
     "name": "stdout",
     "output_type": "stream",
     "text": [
      "INFO:tensorflow:Restoring parameters from model/baseline_finetuned_vgg_16.ckpt\n"
     ]
    }
   ],
   "source": [
    "sess = tf.Session(graph=graph)\n",
    "\n",
    "# Restore variables\n",
    "saver.restore(sess, model_path)\n",
    "\n",
    "val_image_paths = test_image_paths\n",
    "val_labels = test_labels\n",
    "\n",
    "sess.run(val_init_op)"
   ]
  },
  {
   "cell_type": "code",
   "execution_count": 34,
   "metadata": {},
   "outputs": [
    {
     "name": "stdout",
     "output_type": "stream",
     "text": [
      "[Train] loss: 0.056271152322413254 | accuracy: 0.6360363180964308\n"
     ]
    }
   ],
   "source": [
    "test_loss, test_acc = evaluate(sess, loss, correct_prediction, val_init_op)\n",
    "print('[Test] loss: {} | accuracy: {}'.format(test_loss, test_acc))"
   ]
  },
  {
   "cell_type": "markdown",
   "metadata": {},
   "source": [
    "### Just for debugging"
   ]
  },
  {
   "cell_type": "code",
   "execution_count": 32,
   "metadata": {},
   "outputs": [
    {
     "name": "stdout",
     "output_type": "stream",
     "text": [
      "loss: 1.5448894500732422\n",
      "prediction: [ 0  0  2  0  1  9  0  0  0  0  0  9  0  0  0 18 18  0  9  0 20  0  0  0  0\n",
      "  0  0  0  0  0  0  0]\n",
      "labels: [ 0  0  0  0  1  9  0  0  0 19  0  9  0  0  1 18 18 17  9  0 20  1  0  0  0\n",
      "  5  1  0  0 20  0  0]\n",
      "correct_prediction: [ True  True False  True  True  True  True  True  True False  True  True\n",
      "  True  True False  True  True False  True  True  True False  True  True\n",
      "  True False False  True  True False  True  True]\n",
      "accuracy: 0.75\n"
     ]
    },
    {
     "data": {
      "image/png": "[encoded data removed]",
      "text/plain": [
       "<matplotlib.figure.Figure at 0x7f06d050b860>"
      ]
     },
     "metadata": {},
     "output_type": "display_data"
    }
   ],
   "source": [
    "try:\n",
    "    npy_images, npy_labels, _loss, _prediction, _correct_prediction, _accuracy = \\\n",
    "        sess.run([images, labels, loss, prediction, correct_prediction, accuracy], feed_dict={is_training: False})\n",
    "\n",
    "    # For plotting\n",
    "    images_for_plotting = (npy_images[0] - npy_images[0].min()) / (npy_images[0].max() - npy_images[0].min())\n",
    "    for image in npy_images[1:]:\n",
    "        normalized_image = (image - image.min()) / (image.max() - image.min())\n",
    "        images_for_plotting = np.hstack((images_for_plotting, normalized_image))\n",
    "    plt.axis('off')\n",
    "    plt.imshow(images_for_plotting)\n",
    "\n",
    "    print('loss: {}\\nprediction: {}\\nlabels: {}\\ncorrect_prediction: {}\\naccuracy: {}'\\\n",
    "          .format(_loss, _prediction, npy_labels, _correct_prediction, _accuracy))\n",
    "\n",
    "except tf.errors.OutOfRangeError:\n",
    "    print('Batch Iterator becomes empty. Please re-run again.')\n",
    "    sess.run(val_init_op)"
   ]
  },
  {
   "cell_type": "code",
   "execution_count": null,
   "metadata": {
    "collapsed": true
   },
   "outputs": [],
   "source": [
    "sess.close() # Remember to close session after testing."
   ]
  },
  {
   "cell_type": "code",
   "execution_count": null,
   "metadata": {
    "collapsed": true
   },
   "outputs": [],
   "source": []
  }
 ],
 "metadata": {
  "kernelspec": {
   "display_name": "Python 3",
   "language": "python",
   "name": "python3"
  },
  "language_info": {
   "codemirror_mode": {
    "name": "ipython",
    "version": 3
   },
   "file_extension": ".py",
   "mimetype": "text/x-python",
   "name": "python",
   "nbconvert_exporter": "python",
   "pygments_lexer": "ipython3",
   "version": "3.6.2"
  }
 },
 "nbformat": 4,
 "nbformat_minor": 2
}
