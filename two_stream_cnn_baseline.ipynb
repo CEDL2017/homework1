{
 "cells": [
  {
   "cell_type": "markdown",
   "metadata": {},
   "source": [
    "### Load training, validation and testing data¶"
   ]
  },
  {
   "cell_type": "code",
   "execution_count": 1,
   "metadata": {
    "collapsed": true
   },
   "outputs": [],
   "source": [
    "from data_helper import load_dataset"
   ]
  },
  {
   "cell_type": "code",
   "execution_count": 2,
   "metadata": {},
   "outputs": [
    {
     "name": "stdout",
     "output_type": "stream",
     "text": [
      "----------------------------------------------------------------------------------------------------\n",
      "[Train (Head)] number of image paths: 12744\n",
      "[Train (Hand)] number of image paths: 12744\n",
      "[Train (Label)] number of labels: 12744\n",
      "----------------------------------------------------------------------------------------------------\n",
      "[Validation (Head)] number of image paths: 2248\n",
      "[Validation (Hand)] number of image paths: 2248\n",
      "[Validation (Label)] number of labels: 2248\n",
      "----------------------------------------------------------------------------------------------------\n",
      "[Test (Head)] number of image paths: 12776\n",
      "[Test (Hand)] number of image paths: 12776\n",
      "[Test (Label)] number of labels: 12776\n"
     ]
    }
   ],
   "source": [
    "IMAGE_FOLDER_PATH = 'dataset/resized/frames/'\n",
    "LABEL_FOLDER_PATH = 'dataset/labels/'\n",
    "\n",
    "train_head_image_paths, train_hand_image_paths, train_labels, \\\n",
    "val_head_image_paths, val_hand_image_paths, val_labels, \\\n",
    "test_head_image_paths, test_hand_image_paths, test_labels = load_dataset(image_folder_path=IMAGE_FOLDER_PATH,\n",
    "                                                                         label_folder_path=LABEL_FOLDER_PATH,\n",
    "                                                                         label_type='obj',\n",
    "                                                                         hand_types=['left', 'right'],\n",
    "                                                                         with_head=True,\n",
    "                                                                         validation_split_ratio=0.15)\n",
    "\n",
    "# Only take hand image paths for baseline\n",
    "train_image_paths =  train_hand_image_paths\n",
    "val_image_paths = val_hand_image_paths\n",
    "test_image_paths = test_hand_image_paths"
   ]
  },
  {
   "cell_type": "markdown",
   "metadata": {
    "collapsed": true
   },
   "source": [
    "### Use Tensorflow to build computational graph"
   ]
  },
  {
   "cell_type": "code",
   "execution_count": 3,
   "metadata": {
    "collapsed": true
   },
   "outputs": [],
   "source": [
    "import numpy as np\n",
    "import tensorflow as tf\n",
    "import tensorflow.contrib.slim as slim\n",
    "import tensorflow.contrib.slim.nets\n",
    "import vgg_preprocessing"
   ]
  },
  {
   "cell_type": "markdown",
   "metadata": {},
   "source": [
    "#### Path configs and hyperparameters"
   ]
  },
  {
   "cell_type": "code",
   "execution_count": 4,
   "metadata": {
    "collapsed": true
   },
   "outputs": [],
   "source": [
    "PRETRAINED_HAND_GESTURE_MODEL_PATH = 'model/hand_gesture_vgg_16/hand_gesture_vgg_16_model'\n",
    "PRETRAINED_HAND_OBJ_MODEL_PATH = 'model/hand_obj_vgg_16/hand_obj_vgg_16_model'\n",
    "MODEL_PATH = 'model/two_stream_vgg_16_baseline/two_stream_vgg_16_baseline_model'\n",
    "\n",
    "num_classes = 24\n",
    "batch_size = 16\n",
    "num_workers = 20\n",
    "max_epochs1 = 30\n",
    "max_epochs2 = 30\n",
    "max_patience = 5 # For early stopping\n",
    "learning_rate1 = 1e-3\n",
    "learning_rate2 = 1e-5\n",
    "dropout_keep_prob = 0.5\n",
    "weight_decay = 5e-4"
   ]
  },
  {
   "cell_type": "markdown",
   "metadata": {},
   "source": [
    "#### Building blocks of  two-stream CNN model"
   ]
  },
  {
   "cell_type": "code",
   "execution_count": 5,
   "metadata": {
    "collapsed": true
   },
   "outputs": [],
   "source": [
    "def stream_vgg_16(inputs,\n",
    "                  is_training=True,\n",
    "                  dropout_keep_prob=0.5,\n",
    "                  spatial_squeeze=False,\n",
    "                  scope='stream_vgg_16',\n",
    "                  fc_conv_padding='VALID'):\n",
    "    \n",
    "    \"\"\" Reference from \"https://github.com/tensorflow/models/blob/master/research/slim/nets/vgg.py\"\n",
    "        A VGG16 net excluding 'fc7' and 'fc8' layers.\n",
    "        \n",
    "        Returns: \n",
    "            A shape=(?, 4096) deep features if spatial_squeeze == True, else shape=(?, 1, 1, 4096).\n",
    "            and end_points dict.\n",
    "    \"\"\"\n",
    "    \n",
    "    with tf.variable_scope(scope, 'stream_vgg_16', [inputs]) as sc:\n",
    "            end_points_collection = sc.name + '_end_points'\n",
    "            \n",
    "            with slim.arg_scope([slim.conv2d, slim.max_pool2d],\n",
    "                                outputs_collections=end_points_collection):\n",
    "                \n",
    "                net = slim.repeat(inputs, 2, slim.conv2d, 64, [3, 3], scope='conv1')\n",
    "                net = slim.max_pool2d(net, [2, 2], scope='pool1')\n",
    "                net = slim.repeat(net, 2, slim.conv2d, 128, [3, 3], scope='conv2')\n",
    "                net = slim.max_pool2d(net, [2, 2], scope='pool2')\n",
    "                net = slim.repeat(net, 3, slim.conv2d, 256, [3, 3], scope='conv3')\n",
    "                net = slim.max_pool2d(net, [2, 2], scope='pool3')\n",
    "                net = slim.repeat(net, 3, slim.conv2d, 512, [3, 3], scope='conv4')\n",
    "                net = slim.max_pool2d(net, [2, 2], scope='pool4')\n",
    "                net = slim.repeat(net, 3, slim.conv2d, 512, [3, 3], scope='conv5')\n",
    "                net = slim.max_pool2d(net, [2, 2], scope='pool5')\n",
    "                # Use conv2d instead of fully_connected layers.\n",
    "                net = slim.conv2d(net, 4096, [7, 7], padding=fc_conv_padding, scope='fc6')\n",
    "                net = slim.dropout(net, dropout_keep_prob, is_training=is_training, scope='dropout6')\n",
    "                # Convert end_points_collection into a end_point dict.\n",
    "                end_points = slim.utils.convert_collection_to_dict(end_points_collection)\n",
    "                \n",
    "                if spatial_squeeze:\n",
    "                    net = tf.squeeze(net, [1, 2], name='fc6/squeezed')\n",
    "                    end_points[sc.name + '/fc6'] = net\n",
    "                return net, end_points\n",
    "            \n",
    "def fusion_fc(inputs,\n",
    "              num_classes,\n",
    "              is_training=True,\n",
    "              dropout_keep_prob=0.5,\n",
    "              spatial_squeeze=True,\n",
    "              scope='fusion_fc'):\n",
    "    \n",
    "    \"\"\" Reference from \"https://github.com/tensorflow/models/blob/master/research/slim/nets/vgg.py\"\n",
    "        A VGG16 net only include 'fc7' and 'fc8' layers.\n",
    "        \n",
    "        Args:\n",
    "            inputs: A list of tensor with shape like (?, 1, 1, 4096). (the 2, 3 axis must be \"1\")\n",
    "            \n",
    "        Returns:\n",
    "            The last op containing the log predictions and end_points dict.\n",
    "    \"\"\"\n",
    "    \n",
    "    with tf.variable_scope(scope, 'fusion_fc', [inputs]) as sc:\n",
    "        end_points_collection = sc.name + '_end_points'\n",
    "                \n",
    "        with slim.arg_scope([slim.conv2d],\n",
    "                            outputs_collections=end_points_collection):\n",
    "            # [(?, 1, 1, 4096), (?, 1, 1, 4096)] => (?, 1, 1, 8192)\n",
    "            net = tf.concat(inputs, axis=3)\n",
    "            # (?, 1, 1, 8192) => (?, 1, 1, 4096)\n",
    "            net = slim.conv2d(net, 4096, [1, 1], scope='fc7')\n",
    "            net = slim.dropout(net, dropout_keep_prob, is_training=is_training, scope='dropout7')\n",
    "            # (?, 1, 1, 4096) => (?, 1, 1, num_classes)\n",
    "            net = slim.conv2d(net, num_classes, [1, 1],\n",
    "                              activation_fn=None,\n",
    "                              normalizer_fn=None,\n",
    "                              scope='fc8')\n",
    "            # Convert end_points_collection into a end_point dict.\n",
    "            end_points = slim.utils.convert_collection_to_dict(end_points_collection)\n",
    "            \n",
    "            if spatial_squeeze:\n",
    "                # (?, 1, 1, num_classes) => (?, num_classes)\n",
    "                net = tf.squeeze(net, [1, 2], name='fc8/squeezed')\n",
    "                end_points[sc.name + '/fc8'] = net\n",
    "            return net, end_points"
   ]
  },
  {
   "cell_type": "markdown",
   "metadata": {},
   "source": [
    "#### Build our two-stream CNN"
   ]
  },
  {
   "cell_type": "code",
   "execution_count": 6,
   "metadata": {},
   "outputs": [
    {
     "name": "stdout",
     "output_type": "stream",
     "text": [
      "CPU times: user 2.11 s, sys: 20 ms, total: 2.13 s\n",
      "Wall time: 2.13 s\n"
     ]
    }
   ],
   "source": [
    "%%time\n",
    "\n",
    "def dataset_map_fn(image_path, label, is_training):\n",
    "    # Load image\n",
    "    image_string = tf.read_file(image_path)\n",
    "    image_decoded = tf.image.decode_png(image_string, channels=3)\n",
    "    image = tf.cast(image_decoded, tf.float32)\n",
    "    # Preprocess image\n",
    "    preprocessed_image = tf.cond(is_training,\n",
    "                                 true_fn=lambda: vgg_preprocessing.preprocess_image(image, 224, 224, is_training=True),\n",
    "                                 false_fn=lambda: vgg_preprocessing.preprocess_image(image, 224, 224, is_training=False))\n",
    "    return preprocessed_image, label\n",
    "\n",
    "graph = tf.Graph()\n",
    "with graph.as_default():\n",
    "    # ---------------------------------------------------------------------\n",
    "    # Indicates whether we are in training or in test mode\n",
    "    # Since VGG16 has applied `dropout`, we need to disable it when testing.\n",
    "    is_training = tf.placeholder(dtype=tf.bool, name='is_training')\n",
    "    \n",
    "    # Training, validation, testing data to feed in.\n",
    "    image_paths = tf.placeholder(dtype=tf.string, shape=(None,), name='image_paths')\n",
    "    labels = tf.placeholder(dtype=tf.int32, shape=(None,), name='labels')\n",
    "    \n",
    "    # Use dataset API to automatically generate batch data by iterator.\n",
    "    dataset = tf.contrib.data.Dataset.from_tensor_slices((image_paths, labels))\n",
    "    dataset = dataset.map(lambda image_path, label: dataset_map_fn(image_path, label, is_training))\n",
    "    dataset = dataset.shuffle(buffer_size=10000)\n",
    "    batched_dataset = dataset.batch(batch_size)\n",
    "    \n",
    "    # Now we define an iterator that can operator on dataset.\n",
    "    # The iterator can be reinitialized by calling:\n",
    "    # sess.run(dataset_init_op, feed_dict={image_paths=train_image_paths, labels=train_labels}) \n",
    "    # for 1 epoch on the training set.\n",
    "    \n",
    "    # Once this is done, we don't need to feed any value for images and labels\n",
    "    # as they are automatically pulled out from the iterator queues.\n",
    "\n",
    "    # A reinitializable iterator is defined by its structure. We could use the\n",
    "    # `output_types` and `output_shapes` properties of dataset.\n",
    "    # The dataset will be fed with training, validation or testing data.\n",
    "    iterator = tf.contrib.data.Iterator.from_structure(batched_dataset.output_types,\n",
    "                                                       batched_dataset.output_shapes)\n",
    "    \n",
    "    # A batch of data to feed into the networks.\n",
    "    batch_images, batch_labels = iterator.get_next()\n",
    "    dataset_init_op = iterator.make_initializer(batched_dataset)\n",
    "    \n",
    "    # =====================================================================\n",
    "    # Start to build our two-stream cnn model.\n",
    "    vgg = tf.contrib.slim.nets.vgg\n",
    "    # Apply L2 regularization with weight decay.\n",
    "    with slim.arg_scope(vgg.vgg_arg_scope(weight_decay=weight_decay)):\n",
    "        # Firstly, build our first stream cnn model -- pretrained hand gesture vgg16 net,\n",
    "        # excluding 'fc7' and'fc8' layers\n",
    "        hand_gesture_model_4096_features, _ = stream_vgg_16(batch_images,\n",
    "                                          is_training=is_training,\n",
    "                                          dropout_keep_prob=dropout_keep_prob,\n",
    "                                          spatial_squeeze=False,\n",
    "                                          scope='hand_gesture_vgg_16')\n",
    "\n",
    "        # Secondly, build our second stream cnn model -- pretrained hand obj vgg16 net,\n",
    "        # excluding 'fc7' and'fc8' layers\n",
    "        hand_obj_model_4096_features, _ = stream_vgg_16(batch_images,\n",
    "                                        is_training=is_training,\n",
    "                                        dropout_keep_prob=dropout_keep_prob,\n",
    "                                        spatial_squeeze=False,\n",
    "                                        scope='hand_obj_vgg_16')\n",
    "\n",
    "        # Finally, concatenate our 2 stream cnn models with fc layers architecture in vgg16 net.\n",
    "        logits, _ = fusion_fc(inputs=[hand_gesture_model_4096_features, hand_obj_model_4096_features],\n",
    "                              num_classes=num_classes,\n",
    "                              is_training=is_training,\n",
    "                              dropout_keep_prob=dropout_keep_prob,\n",
    "                              spatial_squeeze=True,\n",
    "                              scope='fusion_fc')\n",
    "        \n",
    "    # =====================================================================\n",
    "\n",
    "    # ---------------------------------------------------------------------\n",
    "    # Restore only the layers up to 'fc6' (included)\n",
    "    # Calling function `hand_gesture_model_init_fn(sess)` will load all the pretrained weights.\n",
    "    hand_gesture_model_variables = slim.get_variables(scope='hand_gesture_vgg_16')\n",
    "    # Since the variable scope name of checkpoint file is 'vgg_16',\n",
    "    # which is different from our new scope name 'hand_gesture_vgg_16',\n",
    "    # we need to re-map variable names in order to make `Saver` know which new variable name to restore.\n",
    "    # If we don't know the variable names of source checkpoint file, we can run the script `inspect_checkpoint.py`, \n",
    "    # For example:\n",
    "    # $ python inspect_checkpoint.py --file_name=model/hand_gesture_vgg_16/hand_gesture_vgg_16_model\n",
    "    # to inspect the variable names from our source checkpoint file.\n",
    "    hand_gesture_model_init_fn = tf.contrib.framework.assign_from_checkpoint_fn(\n",
    "        PRETRAINED_HAND_GESTURE_MODEL_PATH,\n",
    "        var_list={var.name.replace('hand_gesture_vgg_16', 'vgg_16').split(':')[0]: var for var in hand_gesture_model_variables}\n",
    "    )\n",
    "        \n",
    "    # Same as we done to `hand_gesture_model`.\n",
    "    hand_obj_model_variables = slim.get_variables(scope='hand_obj_vgg_16')\n",
    "    hand_obj_model_init_fn = tf.contrib.framework.assign_from_checkpoint_fn(\n",
    "        PRETRAINED_HAND_OBJ_MODEL_PATH,\n",
    "        var_list={var.name.replace('hand_obj_vgg_16', 'vgg_16').split(':')[0]: var for var in hand_obj_model_variables}\n",
    "    )\n",
    "    \n",
    "    # ---------------------------------------------------------------------\n",
    "    # Using tf.losses, any loss is added to the tf.GraphKeys.LOSSES collection\n",
    "    # We can then call the total loss easily\n",
    "    tf.losses.sparse_softmax_cross_entropy(labels=batch_labels, logits=logits)\n",
    "    loss = tf.losses.get_total_loss()\n",
    "    \n",
    "    # First we want to train only the reinitialized last layer fc8 for a few epochs.\n",
    "    # We run minimize the loss only with respect to the `fusion_fc` variables (weight and bias).\n",
    "    fusion_fc_optimizer = tf.train.AdamOptimizer(learning_rate=learning_rate1)\n",
    "    fusion_fc_train_op = fusion_fc_optimizer.minimize(loss, var_list=slim.get_variables(scope='fusion_fc'))\n",
    "    \n",
    "    # Then we want to finetune the entire model for a few epochs.\n",
    "    # We run minimize the loss only with respect to all the variables.\n",
    "    full_optimizer = tf.train.AdamOptimizer(learning_rate=learning_rate2)\n",
    "    full_train_op = full_optimizer.minimize(loss)\n",
    "    \n",
    "    # Evaluation metrics\n",
    "    prediction = tf.to_int32(tf.argmax(logits, 1))\n",
    "    correct_prediction = tf.equal(prediction, batch_labels)\n",
    "    accuracy = tf.reduce_mean(tf.cast(correct_prediction, tf.float32))    \n",
    "    \n",
    "    #Initialize the variables (i.e. assign their default value)\n",
    "    init_op = tf.global_variables_initializer()\n",
    "    \n",
    "    # 'Saver' op to save and restore all the variables\n",
    "    saver = tf.train.Saver()\n",
    "    \n",
    "    "
   ]
  },
  {
   "cell_type": "markdown",
   "metadata": {},
   "source": [
    "### Start training"
   ]
  },
  {
   "cell_type": "code",
   "execution_count": 7,
   "metadata": {
    "collapsed": true
   },
   "outputs": [],
   "source": [
    "from tqdm import tqdm"
   ]
  },
  {
   "cell_type": "code",
   "execution_count": 8,
   "metadata": {
    "collapsed": true
   },
   "outputs": [],
   "source": [
    "def evaluate(sess, loss, correct_prediction, dataset_init_op, feed_dict):\n",
    "    \"\"\"\n",
    "        Evaluation in training loop.\n",
    "        Check the performance of the model on either train, val or test (depending on `dataset_init_op`)\n",
    "        Note: The arguments are tensorflow operators defined in the graph.\n",
    "    \"\"\"\n",
    "    \n",
    "    # Initialize the correct dataset.\n",
    "    sess.run(dataset_init_op, feed_dict=feed_dict)\n",
    "\n",
    "    data_loss = 0\n",
    "    num_correct = 0\n",
    "    num_samples = 0\n",
    "    \n",
    "    # Evaluate on every batch.\n",
    "    while True:\n",
    "        try:\n",
    "            # Disable `is_training` since we have `dropout` in VGG net.\n",
    "            _loss, _correct_prediction = sess.run([loss, correct_prediction], feed_dict={is_training: False})\n",
    "\n",
    "            data_loss += _loss\n",
    "            num_correct += _correct_prediction.sum() # e.g: [True, False, True].sum() = 2\n",
    "            num_samples += _correct_prediction.shape[0] # Batch size\n",
    "            \n",
    "        except tf.errors.OutOfRangeError:\n",
    "            break\n",
    "\n",
    "    data_loss = data_loss / num_samples\n",
    "    acc = num_correct / num_samples\n",
    "\n",
    "    return data_loss, acc"
   ]
  },
  {
   "cell_type": "code",
   "execution_count": 9,
   "metadata": {
    "collapsed": true
   },
   "outputs": [],
   "source": [
    "# --------------------------------------------------------------------------\n",
    "# Now that we have built the graph and finalized it, we define the session.\n",
    "# The session is the interface to *run* the computational graph.\n",
    "# We can call our training operations with `sess.run(train_op)` for instance\n",
    "sess = tf.Session(graph=graph)"
   ]
  },
  {
   "cell_type": "markdown",
   "metadata": {},
   "source": [
    "### Initialize variables or restore variables from checkpoint"
   ]
  },
  {
   "cell_type": "code",
   "execution_count": 23,
   "metadata": {},
   "outputs": [
    {
     "name": "stdout",
     "output_type": "stream",
     "text": [
      "Restore variables from checkpoint...\n",
      "INFO:tensorflow:Restoring parameters from model/two_stream_vgg_16_baseline/two_stream_vgg_16_baseline_model\n",
      "Regaining max validation accuracy...\n",
      "CPU times: user 35.5 s, sys: 2.52 s, total: 38 s\n",
      "Wall time: 37.3 s\n",
      "Max validation accuracy: 0.5160142348754448\n"
     ]
    }
   ],
   "source": [
    "RESTORE = True\n",
    "max_acc = 0.0\n",
    "\n",
    "if RESTORE:\n",
    "    print('Restore variables from checkpoint...')\n",
    "    # If checkpoint exists, restore it to session.\n",
    "    saver.restore(sess, MODEL_PATH)\n",
    "    # Regain max validation accuracy from model\n",
    "    print('Regaining max validation accuracy...')\n",
    "    %time _, val_acc = evaluate(sess, loss, correct_prediction, dataset_init_op, \\\n",
    "                                feed_dict={image_paths: val_image_paths, \\\n",
    "                                           labels: val_labels, \\\n",
    "                                           is_training: False})\n",
    "    max_acc = val_acc\n",
    "    print('Max validation accuracy: {}'.format(max_acc))\n",
    "else:\n",
    "    print('Initialize variables from scratch...')\n",
    "    # Initialize all variables\n",
    "    sess.run(init_op)\n",
    "    # Load the pretrained weights for 2-stream model\n",
    "    hand_gesture_model_init_fn(sess) \n",
    "    hand_obj_model_init_fn(sess)"
   ]
  },
  {
   "cell_type": "markdown",
   "metadata": {},
   "source": [
    "### Only train `fusion_fc` layers."
   ]
  },
  {
   "cell_type": "code",
   "execution_count": null,
   "metadata": {},
   "outputs": [
    {
     "name": "stderr",
     "output_type": "stream",
     "text": [
      "\r",
      "  0%|          | 0/30 [00:00<?, ?it/s]"
     ]
    },
    {
     "name": "stdout",
     "output_type": "stream",
     "text": [
      "--------------------------------------------------------------------------------------------------------------\n",
      "Starting epoch 1/30\n",
      "[Train] loss: 0.0901912741891558 | accuracy: 0.7633396107972379\n",
      "[Validation] loss: 0.14419236853453613 | accuracy: 0.45062277580071175\n"
     ]
    },
    {
     "name": "stderr",
     "output_type": "stream",
     "text": [
      "\r",
      "  3%|▎         | 1/30 [09:14<4:27:52, 554.22s/it]"
     ]
    },
    {
     "name": "stdout",
     "output_type": "stream",
     "text": [
      "Model updated and saved in file: model/two_stream_vgg_16_baseline/two_stream_vgg_16_baseline_model\n",
      "--------------------------------------------------------------------------------------------------------------\n",
      "Starting epoch 2/30\n"
     ]
    },
    {
     "name": "stderr",
     "output_type": "stream",
     "text": [
      "\r",
      "  7%|▋         | 2/30 [18:06<4:15:38, 547.79s/it]"
     ]
    },
    {
     "name": "stdout",
     "output_type": "stream",
     "text": [
      "[Train] loss: 0.0914820623487627 | accuracy: 0.7512554927809165\n",
      "[Validation] loss: 0.14428714182877456 | accuracy: 0.44217081850533807\n",
      "Model not improved at epoch 2/30. Patience: 1/5\n",
      "--------------------------------------------------------------------------------------------------------------\n",
      "Starting epoch 3/30\n"
     ]
    },
    {
     "name": "stderr",
     "output_type": "stream",
     "text": [
      "\r",
      " 10%|█         | 3/30 [26:57<4:04:10, 542.61s/it]"
     ]
    },
    {
     "name": "stdout",
     "output_type": "stream",
     "text": [
      "[Train] loss: 0.09052651907315587 | accuracy: 0.7557281858129316\n",
      "[Validation] loss: 0.14454995493447653 | accuracy: 0.4412811387900356\n",
      "Model not improved at epoch 3/30. Patience: 2/5\n",
      "--------------------------------------------------------------------------------------------------------------\n",
      "Starting epoch 4/30\n"
     ]
    },
    {
     "name": "stderr",
     "output_type": "stream",
     "text": [
      "\r",
      " 13%|█▎        | 4/30 [35:49<3:53:44, 539.40s/it]"
     ]
    },
    {
     "name": "stdout",
     "output_type": "stream",
     "text": [
      "[Train] loss: 0.0919695555490289 | accuracy: 0.7472536095417451\n",
      "[Validation] loss: 0.1587530796638163 | accuracy: 0.4443950177935943\n",
      "Model not improved at epoch 4/30. Patience: 3/5\n",
      "--------------------------------------------------------------------------------------------------------------\n",
      "Starting epoch 5/30\n",
      "[Train] loss: 0.08971963573085835 | accuracy: 0.76530131826742\n",
      "[Validation] loss: 0.15214911421422855 | accuracy: 0.4639679715302491\n"
     ]
    },
    {
     "name": "stderr",
     "output_type": "stream",
     "text": [
      "\r",
      " 17%|█▋        | 5/30 [45:06<3:46:59, 544.78s/it]"
     ]
    },
    {
     "name": "stdout",
     "output_type": "stream",
     "text": [
      "Model updated and saved in file: model/two_stream_vgg_16_baseline/two_stream_vgg_16_baseline_model\n",
      "--------------------------------------------------------------------------------------------------------------\n",
      "Starting epoch 6/30\n"
     ]
    },
    {
     "name": "stderr",
     "output_type": "stream",
     "text": [
      "\r",
      " 20%|██        | 6/30 [54:00<3:36:38, 541.61s/it]"
     ]
    },
    {
     "name": "stdout",
     "output_type": "stream",
     "text": [
      "[Train] loss: 0.0870232390332207 | accuracy: 0.7659290646578782\n",
      "[Validation] loss: 0.135964793666826 | accuracy: 0.4626334519572954\n",
      "Model not improved at epoch 6/30. Patience: 1/5\n",
      "--------------------------------------------------------------------------------------------------------------\n",
      "Starting epoch 7/30\n"
     ]
    },
    {
     "name": "stderr",
     "output_type": "stream",
     "text": [
      "\r",
      " 23%|██▎       | 7/30 [1:02:56<3:26:55, 539.79s/it]"
     ]
    },
    {
     "name": "stdout",
     "output_type": "stream",
     "text": [
      "[Train] loss: 0.08448172391995049 | accuracy: 0.7700094161958568\n",
      "[Validation] loss: 0.15515190956855585 | accuracy: 0.4190391459074733\n",
      "Model not improved at epoch 7/30. Patience: 2/5\n",
      "--------------------------------------------------------------------------------------------------------------\n",
      "Starting epoch 8/30\n"
     ]
    },
    {
     "name": "stderr",
     "output_type": "stream",
     "text": [
      "\r",
      " 27%|██▋       | 8/30 [1:11:51<3:17:21, 538.26s/it]"
     ]
    },
    {
     "name": "stdout",
     "output_type": "stream",
     "text": [
      "[Train] loss: 0.08406663726727617 | accuracy: 0.7651443816698054\n",
      "[Validation] loss: 0.13889422790011477 | accuracy: 0.44973309608540923\n",
      "Model not improved at epoch 8/30. Patience: 3/5\n",
      "--------------------------------------------------------------------------------------------------------------\n",
      "Starting epoch 9/30\n"
     ]
    },
    {
     "name": "stderr",
     "output_type": "stream",
     "text": [
      "\r",
      " 30%|███       | 9/30 [1:20:44<3:07:53, 536.86s/it]"
     ]
    },
    {
     "name": "stdout",
     "output_type": "stream",
     "text": [
      "[Train] loss: 0.08196605430484491 | accuracy: 0.7663214061519146\n",
      "[Validation] loss: 0.14358577142830845 | accuracy: 0.452846975088968\n",
      "Model not improved at epoch 9/30. Patience: 4/5\n",
      "--------------------------------------------------------------------------------------------------------------\n",
      "Starting epoch 10/30\n"
     ]
    },
    {
     "name": "stderr",
     "output_type": "stream",
     "text": [
      "\r",
      " 33%|███▎      | 10/30 [1:29:30<2:57:51, 533.55s/it]"
     ]
    },
    {
     "name": "stdout",
     "output_type": "stream",
     "text": [
      "[Train] loss: 0.08102813108642372 | accuracy: 0.761142498430634\n",
      "[Validation] loss: 0.1443828574491141 | accuracy: 0.4501779359430605\n",
      "Model not improved at epoch 10/30. Patience: 5/5\n",
      "--------------------------------------------------------------------------------------------------------------\n",
      "Starting epoch 11/30\n",
      "[Train] loss: 0.07919231768082464 | accuracy: 0.7674199623352166\n",
      "[Validation] loss: 0.13080420199238108 | accuracy: 0.4559608540925267\n",
      "Model not improved at epoch 11/30. Patience: 6/5\n",
      "Max patience exceeded. Early stopping.\n"
     ]
    }
   ],
   "source": [
    "patience = 0\n",
    "\n",
    "# Update only the last layer for a few epochs.\n",
    "for epoch in tqdm(range(max_epochs1)):\n",
    "    # Run an epoch over the training data.\n",
    "    print('-'*110)\n",
    "    print('Starting epoch {}/{}'.format(epoch+1, max_epochs1))\n",
    "    # Here we initialize the iterator with the training set.\n",
    "    # This means that we can go through an entire epoch until the iterator becomes empty.\n",
    "    sess.run(dataset_init_op, feed_dict={image_paths: train_image_paths,\n",
    "                                         labels: train_labels,\n",
    "                                         is_training: True})\n",
    "    while True:\n",
    "        try:\n",
    "            _ = sess.run(fusion_fc_train_op, feed_dict={is_training: True})\n",
    "        except tf.errors.OutOfRangeError:\n",
    "            break\n",
    "\n",
    "    # Check performance every epoch\n",
    "    train_loss, train_acc = evaluate(sess, loss, correct_prediction, dataset_init_op,\n",
    "                                     feed_dict={image_paths: train_image_paths,\n",
    "                                                labels: train_labels,\n",
    "                                                is_training: True})\n",
    "    \n",
    "    val_loss, val_acc = evaluate(sess, loss, correct_prediction, dataset_init_op,\n",
    "                                 feed_dict={image_paths: val_image_paths,\n",
    "                                            labels: val_labels,\n",
    "                                            is_training: False})\n",
    "    \n",
    "    print('[Train] loss: {} | accuracy: {}'.format(train_loss, train_acc))\n",
    "    print('[Validation] loss: {} | accuracy: {}'.format(val_loss, val_acc))\n",
    "    \n",
    "    # Save checkpoint\n",
    "    if val_acc > max_acc:\n",
    "        patience = 0\n",
    "        max_acc = val_acc\n",
    "        save_path = saver.save(sess, MODEL_PATH)\n",
    "        print(\"Model updated and saved in file: %s\" % save_path)\n",
    "    else:\n",
    "        patience += 1\n",
    "        print('Model not improved at epoch {}/{}. Patience: {}/{}'.format(epoch+1, max_epochs1, patience, max_patience))\n",
    "    # Early stopping.\n",
    "    if patience > max_patience:\n",
    "        print('Max patience exceeded. Early stopping.')\n",
    "        break"
   ]
  },
  {
   "cell_type": "markdown",
   "metadata": {},
   "source": [
    "### Train all layers"
   ]
  },
  {
   "cell_type": "code",
   "execution_count": 24,
   "metadata": {},
   "outputs": [
    {
     "name": "stderr",
     "output_type": "stream",
     "text": [
      "\r",
      "  0%|          | 0/30 [00:00<?, ?it/s]"
     ]
    },
    {
     "name": "stdout",
     "output_type": "stream",
     "text": [
      "--------------------------------------------------------------------------------------------------------------\n",
      "Starting epoch 1/30\n"
     ]
    },
    {
     "name": "stderr",
     "output_type": "stream",
     "text": [
      "\r",
      "  3%|▎         | 1/30 [12:59<6:16:35, 779.16s/it]"
     ]
    },
    {
     "name": "stdout",
     "output_type": "stream",
     "text": [
      "[Train] loss: 0.11563884985574147 | accuracy: 0.8915568110483365\n",
      "[Validation] loss: 0.29818385860673896 | accuracy: 0.5084519572953736\n",
      "Model not improved at epoch 1/30. Patience: 1/5\n",
      "--------------------------------------------------------------------------------------------------------------\n",
      "Starting epoch 2/30\n",
      "[Train] loss: 0.11589638696140414 | accuracy: 0.8873979912115505\n",
      "[Validation] loss: 0.2688038814746612 | accuracy: 0.5249110320284698\n"
     ]
    },
    {
     "name": "stderr",
     "output_type": "stream",
     "text": [
      "\r",
      "  7%|▋         | 2/30 [26:24<6:07:17, 787.07s/it]"
     ]
    },
    {
     "name": "stdout",
     "output_type": "stream",
     "text": [
      "Model updated and saved in file: model/two_stream_vgg_16_baseline/two_stream_vgg_16_baseline_model\n",
      "--------------------------------------------------------------------------------------------------------------\n",
      "Starting epoch 3/30\n",
      "[Train] loss: 0.11434853913195839 | accuracy: 0.8862994350282486\n",
      "[Validation] loss: 0.2815796122007947 | accuracy: 0.5324733096085409\n"
     ]
    },
    {
     "name": "stderr",
     "output_type": "stream",
     "text": [
      "\r",
      " 10%|█         | 3/30 [39:54<5:57:13, 793.82s/it]"
     ]
    },
    {
     "name": "stdout",
     "output_type": "stream",
     "text": [
      "Model updated and saved in file: model/two_stream_vgg_16_baseline/two_stream_vgg_16_baseline_model\n",
      "--------------------------------------------------------------------------------------------------------------\n",
      "Starting epoch 4/30\n"
     ]
    },
    {
     "name": "stderr",
     "output_type": "stream",
     "text": [
      "\r",
      " 13%|█▎        | 4/30 [52:55<5:42:21, 790.04s/it]"
     ]
    },
    {
     "name": "stdout",
     "output_type": "stream",
     "text": [
      "[Train] loss: 0.11247834495905429 | accuracy: 0.8983050847457628\n",
      "[Validation] loss: 0.27902767200062706 | accuracy: 0.4919928825622776\n",
      "Model not improved at epoch 4/30. Patience: 1/5\n",
      "--------------------------------------------------------------------------------------------------------------\n",
      "Starting epoch 5/30\n"
     ]
    },
    {
     "name": "stderr",
     "output_type": "stream",
     "text": [
      "\r",
      " 17%|█▋        | 5/30 [1:05:58<5:28:17, 787.90s/it]"
     ]
    },
    {
     "name": "stdout",
     "output_type": "stream",
     "text": [
      "[Train] loss: 0.1136300910009353 | accuracy: 0.8884180790960452\n",
      "[Validation] loss: 0.30352958792893486 | accuracy: 0.50355871886121\n",
      "Model not improved at epoch 5/30. Patience: 2/5\n",
      "--------------------------------------------------------------------------------------------------------------\n",
      "Starting epoch 6/30\n"
     ]
    },
    {
     "name": "stderr",
     "output_type": "stream",
     "text": [
      "\r",
      " 20%|██        | 6/30 [1:18:57<5:14:03, 785.14s/it]"
     ]
    },
    {
     "name": "stdout",
     "output_type": "stream",
     "text": [
      "[Train] loss: 0.11165027740386321 | accuracy: 0.8979127432517263\n",
      "[Validation] loss: 0.3077259921730625 | accuracy: 0.48976868327402134\n",
      "Model not improved at epoch 6/30. Patience: 3/5\n",
      "--------------------------------------------------------------------------------------------------------------\n",
      "Starting epoch 7/30\n"
     ]
    },
    {
     "name": "stderr",
     "output_type": "stream",
     "text": [
      "\r",
      " 23%|██▎       | 7/30 [1:31:59<5:00:40, 784.37s/it]"
     ]
    },
    {
     "name": "stdout",
     "output_type": "stream",
     "text": [
      "[Train] loss: 0.11040766803782763 | accuracy: 0.899482109227872\n",
      "[Validation] loss: 0.2736537470300002 | accuracy: 0.5106761565836299\n",
      "Model not improved at epoch 7/30. Patience: 4/5\n",
      "--------------------------------------------------------------------------------------------------------------\n",
      "Starting epoch 8/30\n"
     ]
    },
    {
     "name": "stderr",
     "output_type": "stream",
     "text": [
      "\r",
      " 27%|██▋       | 8/30 [1:44:57<4:46:51, 782.34s/it]"
     ]
    },
    {
     "name": "stdout",
     "output_type": "stream",
     "text": [
      "[Train] loss: 0.10882109295102088 | accuracy: 0.9079566854990584\n",
      "[Validation] loss: 0.3053095893291392 | accuracy: 0.49777580071174377\n",
      "Model not improved at epoch 8/30. Patience: 5/5\n",
      "--------------------------------------------------------------------------------------------------------------\n",
      "Starting epoch 9/30\n",
      "[Train] loss: 0.10768211646530514 | accuracy: 0.9088983050847458\n",
      "[Validation] loss: 0.3757829063727762 | accuracy: 0.48131672597864766\n",
      "Model not improved at epoch 9/30. Patience: 6/5\n",
      "Max patience exceeded. Early stopping.\n"
     ]
    }
   ],
   "source": [
    "patience = 0\n",
    "\n",
    "# Train the entire model for a few more epochs, continuing with the *same* weights.\n",
    "for epoch in tqdm(range(max_epochs2)):\n",
    "    # Run an epoch over the training data.\n",
    "    print('-'*110)\n",
    "    print('Starting epoch {}/{}'.format(epoch+1, max_epochs2))\n",
    "    # Here we initialize the iterator with the training set.\n",
    "    # This means that we can go through an entire epoch until the iterator becomes empty.\n",
    "    sess.run(dataset_init_op, feed_dict={image_paths: train_image_paths,\n",
    "                                         labels: train_labels,\n",
    "                                         is_training: True})\n",
    "    while True:\n",
    "        try:\n",
    "            _ = sess.run(full_train_op, feed_dict={is_training: True})    \n",
    "        except tf.errors.OutOfRangeError:\n",
    "            break\n",
    "\n",
    "    # Check performance every epoch\n",
    "    train_loss, train_acc = evaluate(sess, loss, correct_prediction, dataset_init_op,\n",
    "                                     feed_dict={image_paths: train_image_paths,\n",
    "                                                labels: train_labels,\n",
    "                                                is_training: True})\n",
    "    \n",
    "    val_loss, val_acc = evaluate(sess, loss, correct_prediction, dataset_init_op,\n",
    "                                 feed_dict={image_paths: val_image_paths,\n",
    "                                            labels: val_labels,\n",
    "                                            is_training: False})\n",
    "    \n",
    "    print('[Train] loss: {} | accuracy: {}'.format(train_loss, train_acc))\n",
    "    print('[Validation] loss: {} | accuracy: {}'.format(val_loss, val_acc))\n",
    "    \n",
    "    # Save checkpoint\n",
    "    if val_acc > max_acc:\n",
    "        patience = 0\n",
    "        max_acc = val_acc\n",
    "        save_path = saver.save(sess, MODEL_PATH)\n",
    "        print(\"Model updated and saved in file: %s\" % save_path)\n",
    "    else:\n",
    "        patience += 1\n",
    "        print('Model not improved at epoch {}/{}. Patience: {}/{}'.format(epoch+1, max_epochs1, patience, max_patience))\n",
    "    # Early stopping.\n",
    "    if patience > max_patience:\n",
    "        print('Max patience exceeded. Early stopping.')\n",
    "        break"
   ]
  },
  {
   "cell_type": "markdown",
   "metadata": {},
   "source": [
    "### Testing"
   ]
  },
  {
   "cell_type": "code",
   "execution_count": 25,
   "metadata": {},
   "outputs": [
    {
     "name": "stdout",
     "output_type": "stream",
     "text": [
      "INFO:tensorflow:Restoring parameters from model/two_stream_vgg_16_baseline/two_stream_vgg_16_baseline_model\n",
      "[Test] loss: 0.20677262219922873 | accuracy: 0.6556825297432687\n",
      "CPU times: user 3min 8s, sys: 20.7 s, total: 3min 29s\n",
      "Wall time: 3min 22s\n"
     ]
    }
   ],
   "source": [
    "%%time\n",
    "\n",
    "saver.restore(sess, MODEL_PATH)\n",
    "\n",
    "test_loss, test_acc = evaluate(sess, loss, correct_prediction, dataset_init_op,\n",
    "                               feed_dict={image_paths: test_image_paths,\n",
    "                                          labels: test_labels,\n",
    "                                          is_training: False})\n",
    "\n",
    "print('[Test] loss: {} | accuracy: {}'.format(test_loss, test_acc))"
   ]
  },
  {
   "cell_type": "code",
   "execution_count": null,
   "metadata": {
    "collapsed": true
   },
   "outputs": [],
   "source": []
  }
 ],
 "metadata": {
  "kernelspec": {
   "display_name": "Python 3",
   "language": "python",
   "name": "python3"
  },
  "language_info": {
   "codemirror_mode": {
    "name": "ipython",
    "version": 3
   },
   "file_extension": ".py",
   "mimetype": "text/x-python",
   "name": "python",
   "nbconvert_exporter": "python",
   "pygments_lexer": "ipython3",
   "version": "3.6.2"
  }
 },
 "nbformat": 4,
 "nbformat_minor": 2
}
